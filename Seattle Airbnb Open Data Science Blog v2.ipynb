{
 "cells": [
  {
   "cell_type": "markdown",
   "metadata": {},
   "source": [
    "## Seattle Airbnb Open Data Science Blog"
   ]
  },
  {
   "cell_type": "markdown",
   "metadata": {},
   "source": [
    "#### Section 1: Understanding the business"
   ]
  },
  {
   "cell_type": "markdown",
   "metadata": {},
   "source": [
    "## This section is there questions that need to be investigated:\n",
    "\n",
    "> 1: Is there a relationship between the day price of the Airbnb place and number of guests?\n",
    "\n",
    "> 2: What makes a great Airbnb in Seattle, is the number of people that can stay or it it the maximum number of night you can stay?\n",
    "\n",
    "> 3: What are the customers that stay in these Airbnb in Seattle saying about the host and location in there review, let's compare please with listing that have high reviews_per_month with low reviews_per_month to determine keywords that make a great Airbnb stay in Settle\n"
   ]
  },
  {
   "cell_type": "markdown",
   "metadata": {},
   "source": [
    "#### Section 2: Understanding the data\n",
    "\n",
    "##### Gather Data:"
   ]
  },
  {
   "cell_type": "markdown",
   "metadata": {},
   "source": [
    "> The kaggle Seattle Airbnb Open website contains the three data source for this project.  The kaggle website requires \n",
    "an user account to download the three Seattle Airbnb Open data sets.  I have an kaggle account,however if you do not \n",
    "have an account the link to main kaggle page is below, just follow the links to create an account, as well as the main kaggle Seattle Airbnb Open website and expected data files.\n",
    "\n",
    "- Main kaggle website: https://www.kaggle.com\n",
    "\n",
    "- kaggle Seattle Airbnb Open website Link: https://www.kaggle.com/airbnb/seattle\n",
    "        \n",
    "##### Expected kaggle Seattle Airbnb Open data sets:\n",
    "\n",
    "- calendar\n",
    "- listings\n",
    "- reviews"
   ]
  },
  {
   "cell_type": "markdown",
   "metadata": {},
   "source": [
    "#### Describe data \n",
    "\n",
    "\n",
    "##### Context\n",
    "\n",
    "kaggle Seattle Airbnb Open data set contain listing and descriptions of the Airbnb. Also include is the activities with in the area of the homestays in Seattle, WA.\n",
    "\n",
    "\n",
    "#### Content\n",
    "\n",
    "kaggle Seattle Airbnb Open data set contains\n",
    "\n",
    "- Listings\n",
    "- full descriptions\n",
    "- average review score\n",
    "- Reviews including unique id for each reviewer and detailed comments\n",
    "- Calendar, including listing id and the price and availability for that day"
   ]
  },
  {
   "cell_type": "markdown",
   "metadata": {},
   "source": [
    "##### 2:1 Load packages"
   ]
  },
  {
   "cell_type": "code",
   "execution_count": 34,
   "metadata": {},
   "outputs": [],
   "source": [
    "import pandas as pd\n",
    "import numpy as np\n",
    "import matplotlib.pyplot as plt\n",
    "import seaborn as sns\n",
    "from pandas.plotting import scatter_matrix\n",
    "from wordcloud import WordCloud"
   ]
  },
  {
   "cell_type": "markdown",
   "metadata": {},
   "source": [
    "##### 2:2 Load Data"
   ]
  },
  {
   "cell_type": "code",
   "execution_count": 35,
   "metadata": {},
   "outputs": [
    {
     "data": {
      "text/html": [
       "<div>\n",
       "<style scoped>\n",
       "    .dataframe tbody tr th:only-of-type {\n",
       "        vertical-align: middle;\n",
       "    }\n",
       "\n",
       "    .dataframe tbody tr th {\n",
       "        vertical-align: top;\n",
       "    }\n",
       "\n",
       "    .dataframe thead th {\n",
       "        text-align: right;\n",
       "    }\n",
       "</style>\n",
       "<table border=\"1\" class=\"dataframe\">\n",
       "  <thead>\n",
       "    <tr style=\"text-align: right;\">\n",
       "      <th></th>\n",
       "      <th>listing_id</th>\n",
       "      <th>date</th>\n",
       "      <th>available</th>\n",
       "      <th>price</th>\n",
       "    </tr>\n",
       "  </thead>\n",
       "  <tbody>\n",
       "    <tr>\n",
       "      <th>0</th>\n",
       "      <td>241032</td>\n",
       "      <td>2016-01-04</td>\n",
       "      <td>t</td>\n",
       "      <td>$85.00</td>\n",
       "    </tr>\n",
       "  </tbody>\n",
       "</table>\n",
       "</div>"
      ],
      "text/plain": [
       "   listing_id        date available   price\n",
       "0      241032  2016-01-04         t  $85.00"
      ]
     },
     "execution_count": 35,
     "metadata": {},
     "output_type": "execute_result"
    }
   ],
   "source": [
    "# Load Data\n",
    "calendar = pd.read_csv(\"calendar.csv\")\n",
    "calendar.head(1)"
   ]
  },
  {
   "cell_type": "code",
   "execution_count": 36,
   "metadata": {},
   "outputs": [
    {
     "data": {
      "text/html": [
       "<div>\n",
       "<style scoped>\n",
       "    .dataframe tbody tr th:only-of-type {\n",
       "        vertical-align: middle;\n",
       "    }\n",
       "\n",
       "    .dataframe tbody tr th {\n",
       "        vertical-align: top;\n",
       "    }\n",
       "\n",
       "    .dataframe thead th {\n",
       "        text-align: right;\n",
       "    }\n",
       "</style>\n",
       "<table border=\"1\" class=\"dataframe\">\n",
       "  <thead>\n",
       "    <tr style=\"text-align: right;\">\n",
       "      <th></th>\n",
       "      <th>id</th>\n",
       "      <th>listing_url</th>\n",
       "      <th>scrape_id</th>\n",
       "      <th>last_scraped</th>\n",
       "      <th>name</th>\n",
       "      <th>summary</th>\n",
       "      <th>space</th>\n",
       "      <th>description</th>\n",
       "      <th>experiences_offered</th>\n",
       "      <th>neighborhood_overview</th>\n",
       "      <th>...</th>\n",
       "      <th>review_scores_value</th>\n",
       "      <th>requires_license</th>\n",
       "      <th>license</th>\n",
       "      <th>jurisdiction_names</th>\n",
       "      <th>instant_bookable</th>\n",
       "      <th>cancellation_policy</th>\n",
       "      <th>require_guest_profile_picture</th>\n",
       "      <th>require_guest_phone_verification</th>\n",
       "      <th>calculated_host_listings_count</th>\n",
       "      <th>reviews_per_month</th>\n",
       "    </tr>\n",
       "  </thead>\n",
       "  <tbody>\n",
       "    <tr>\n",
       "      <th>0</th>\n",
       "      <td>241032</td>\n",
       "      <td>https://www.airbnb.com/rooms/241032</td>\n",
       "      <td>20160104002432</td>\n",
       "      <td>2016-01-04</td>\n",
       "      <td>Stylish Queen Anne Apartment</td>\n",
       "      <td>NaN</td>\n",
       "      <td>Make your self at home in this charming one-be...</td>\n",
       "      <td>Make your self at home in this charming one-be...</td>\n",
       "      <td>none</td>\n",
       "      <td>NaN</td>\n",
       "      <td>...</td>\n",
       "      <td>10.0</td>\n",
       "      <td>f</td>\n",
       "      <td>NaN</td>\n",
       "      <td>WASHINGTON</td>\n",
       "      <td>f</td>\n",
       "      <td>moderate</td>\n",
       "      <td>f</td>\n",
       "      <td>f</td>\n",
       "      <td>2</td>\n",
       "      <td>4.07</td>\n",
       "    </tr>\n",
       "  </tbody>\n",
       "</table>\n",
       "<p>1 rows × 92 columns</p>\n",
       "</div>"
      ],
      "text/plain": [
       "       id                          listing_url       scrape_id last_scraped  \\\n",
       "0  241032  https://www.airbnb.com/rooms/241032  20160104002432   2016-01-04   \n",
       "\n",
       "                           name summary  \\\n",
       "0  Stylish Queen Anne Apartment     NaN   \n",
       "\n",
       "                                               space  \\\n",
       "0  Make your self at home in this charming one-be...   \n",
       "\n",
       "                                         description experiences_offered  \\\n",
       "0  Make your self at home in this charming one-be...                none   \n",
       "\n",
       "  neighborhood_overview  ... review_scores_value requires_license license  \\\n",
       "0                   NaN  ...                10.0                f     NaN   \n",
       "\n",
       "  jurisdiction_names instant_bookable cancellation_policy  \\\n",
       "0         WASHINGTON                f            moderate   \n",
       "\n",
       "   require_guest_profile_picture require_guest_phone_verification  \\\n",
       "0                              f                                f   \n",
       "\n",
       "  calculated_host_listings_count reviews_per_month  \n",
       "0                              2              4.07  \n",
       "\n",
       "[1 rows x 92 columns]"
      ]
     },
     "execution_count": 36,
     "metadata": {},
     "output_type": "execute_result"
    }
   ],
   "source": [
    "# Load Data\n",
    "listings = pd.read_csv(\"listings.csv\")\n",
    "listings.head(1)"
   ]
  },
  {
   "cell_type": "code",
   "execution_count": 37,
   "metadata": {},
   "outputs": [
    {
     "data": {
      "text/html": [
       "<div>\n",
       "<style scoped>\n",
       "    .dataframe tbody tr th:only-of-type {\n",
       "        vertical-align: middle;\n",
       "    }\n",
       "\n",
       "    .dataframe tbody tr th {\n",
       "        vertical-align: top;\n",
       "    }\n",
       "\n",
       "    .dataframe thead th {\n",
       "        text-align: right;\n",
       "    }\n",
       "</style>\n",
       "<table border=\"1\" class=\"dataframe\">\n",
       "  <thead>\n",
       "    <tr style=\"text-align: right;\">\n",
       "      <th></th>\n",
       "      <th>listing_id</th>\n",
       "      <th>id</th>\n",
       "      <th>date</th>\n",
       "      <th>reviewer_id</th>\n",
       "      <th>reviewer_name</th>\n",
       "      <th>comments</th>\n",
       "    </tr>\n",
       "  </thead>\n",
       "  <tbody>\n",
       "    <tr>\n",
       "      <th>0</th>\n",
       "      <td>7202016</td>\n",
       "      <td>38917982</td>\n",
       "      <td>2015-07-19</td>\n",
       "      <td>28943674</td>\n",
       "      <td>Bianca</td>\n",
       "      <td>Cute and cozy place. Perfect location to every...</td>\n",
       "    </tr>\n",
       "  </tbody>\n",
       "</table>\n",
       "</div>"
      ],
      "text/plain": [
       "   listing_id        id        date  reviewer_id reviewer_name  \\\n",
       "0     7202016  38917982  2015-07-19     28943674        Bianca   \n",
       "\n",
       "                                            comments  \n",
       "0  Cute and cozy place. Perfect location to every...  "
      ]
     },
     "execution_count": 37,
     "metadata": {},
     "output_type": "execute_result"
    }
   ],
   "source": [
    "# Load Data\n",
    "reviews = pd.read_csv(\"reviews.csv\")\n",
    "reviews.head(1)"
   ]
  },
  {
   "cell_type": "markdown",
   "metadata": {},
   "source": [
    "##### 2:3 Exploring data\n",
    "\n",
    "###### Asses Data:"
   ]
  },
  {
   "cell_type": "markdown",
   "metadata": {},
   "source": [
    "##### Visual Assessment - Verifying quality of data section"
   ]
  },
  {
   "cell_type": "markdown",
   "metadata": {},
   "source": [
    "###### Calendar Data Set"
   ]
  },
  {
   "cell_type": "code",
   "execution_count": 38,
   "metadata": {},
   "outputs": [
    {
     "data": {
      "text/html": [
       "<div>\n",
       "<style scoped>\n",
       "    .dataframe tbody tr th:only-of-type {\n",
       "        vertical-align: middle;\n",
       "    }\n",
       "\n",
       "    .dataframe tbody tr th {\n",
       "        vertical-align: top;\n",
       "    }\n",
       "\n",
       "    .dataframe thead th {\n",
       "        text-align: right;\n",
       "    }\n",
       "</style>\n",
       "<table border=\"1\" class=\"dataframe\">\n",
       "  <thead>\n",
       "    <tr style=\"text-align: right;\">\n",
       "      <th></th>\n",
       "      <th>listing_id</th>\n",
       "      <th>date</th>\n",
       "      <th>available</th>\n",
       "      <th>price</th>\n",
       "    </tr>\n",
       "  </thead>\n",
       "  <tbody>\n",
       "    <tr>\n",
       "      <th>0</th>\n",
       "      <td>241032</td>\n",
       "      <td>2016-01-04</td>\n",
       "      <td>t</td>\n",
       "      <td>$85.00</td>\n",
       "    </tr>\n",
       "    <tr>\n",
       "      <th>1</th>\n",
       "      <td>241032</td>\n",
       "      <td>2016-01-05</td>\n",
       "      <td>t</td>\n",
       "      <td>$85.00</td>\n",
       "    </tr>\n",
       "    <tr>\n",
       "      <th>2</th>\n",
       "      <td>241032</td>\n",
       "      <td>2016-01-06</td>\n",
       "      <td>f</td>\n",
       "      <td>NaN</td>\n",
       "    </tr>\n",
       "    <tr>\n",
       "      <th>3</th>\n",
       "      <td>241032</td>\n",
       "      <td>2016-01-07</td>\n",
       "      <td>f</td>\n",
       "      <td>NaN</td>\n",
       "    </tr>\n",
       "    <tr>\n",
       "      <th>4</th>\n",
       "      <td>241032</td>\n",
       "      <td>2016-01-08</td>\n",
       "      <td>f</td>\n",
       "      <td>NaN</td>\n",
       "    </tr>\n",
       "  </tbody>\n",
       "</table>\n",
       "</div>"
      ],
      "text/plain": [
       "   listing_id        date available   price\n",
       "0      241032  2016-01-04         t  $85.00\n",
       "1      241032  2016-01-05         t  $85.00\n",
       "2      241032  2016-01-06         f     NaN\n",
       "3      241032  2016-01-07         f     NaN\n",
       "4      241032  2016-01-08         f     NaN"
      ]
     },
     "execution_count": 38,
     "metadata": {},
     "output_type": "execute_result"
    }
   ],
   "source": [
    "# Access Data \n",
    "calendar.head()"
   ]
  },
  {
   "cell_type": "code",
   "execution_count": 39,
   "metadata": {},
   "outputs": [
    {
     "data": {
      "text/html": [
       "<div>\n",
       "<style scoped>\n",
       "    .dataframe tbody tr th:only-of-type {\n",
       "        vertical-align: middle;\n",
       "    }\n",
       "\n",
       "    .dataframe tbody tr th {\n",
       "        vertical-align: top;\n",
       "    }\n",
       "\n",
       "    .dataframe thead th {\n",
       "        text-align: right;\n",
       "    }\n",
       "</style>\n",
       "<table border=\"1\" class=\"dataframe\">\n",
       "  <thead>\n",
       "    <tr style=\"text-align: right;\">\n",
       "      <th></th>\n",
       "      <th>listing_id</th>\n",
       "      <th>date</th>\n",
       "      <th>available</th>\n",
       "      <th>price</th>\n",
       "    </tr>\n",
       "  </thead>\n",
       "  <tbody>\n",
       "    <tr>\n",
       "      <th>1393565</th>\n",
       "      <td>10208623</td>\n",
       "      <td>2016-12-29</td>\n",
       "      <td>f</td>\n",
       "      <td>NaN</td>\n",
       "    </tr>\n",
       "    <tr>\n",
       "      <th>1393566</th>\n",
       "      <td>10208623</td>\n",
       "      <td>2016-12-30</td>\n",
       "      <td>f</td>\n",
       "      <td>NaN</td>\n",
       "    </tr>\n",
       "    <tr>\n",
       "      <th>1393567</th>\n",
       "      <td>10208623</td>\n",
       "      <td>2016-12-31</td>\n",
       "      <td>f</td>\n",
       "      <td>NaN</td>\n",
       "    </tr>\n",
       "    <tr>\n",
       "      <th>1393568</th>\n",
       "      <td>10208623</td>\n",
       "      <td>2017-01-01</td>\n",
       "      <td>f</td>\n",
       "      <td>NaN</td>\n",
       "    </tr>\n",
       "    <tr>\n",
       "      <th>1393569</th>\n",
       "      <td>10208623</td>\n",
       "      <td>2017-01-02</td>\n",
       "      <td>f</td>\n",
       "      <td>NaN</td>\n",
       "    </tr>\n",
       "  </tbody>\n",
       "</table>\n",
       "</div>"
      ],
      "text/plain": [
       "         listing_id        date available price\n",
       "1393565    10208623  2016-12-29         f   NaN\n",
       "1393566    10208623  2016-12-30         f   NaN\n",
       "1393567    10208623  2016-12-31         f   NaN\n",
       "1393568    10208623  2017-01-01         f   NaN\n",
       "1393569    10208623  2017-01-02         f   NaN"
      ]
     },
     "execution_count": 39,
     "metadata": {},
     "output_type": "execute_result"
    }
   ],
   "source": [
    "# Access Data \n",
    "calendar.tail()"
   ]
  },
  {
   "cell_type": "markdown",
   "metadata": {},
   "source": [
    "##### Visual Assessment \n",
    "\n",
    "- available: When the value is t there a price and f there an Nan Value.\n",
    "- price: has a $ sign, this will be removed."
   ]
  },
  {
   "cell_type": "markdown",
   "metadata": {},
   "source": [
    "#### Listings Data Set"
   ]
  },
  {
   "cell_type": "code",
   "execution_count": 40,
   "metadata": {},
   "outputs": [
    {
     "data": {
      "text/html": [
       "<div>\n",
       "<style scoped>\n",
       "    .dataframe tbody tr th:only-of-type {\n",
       "        vertical-align: middle;\n",
       "    }\n",
       "\n",
       "    .dataframe tbody tr th {\n",
       "        vertical-align: top;\n",
       "    }\n",
       "\n",
       "    .dataframe thead th {\n",
       "        text-align: right;\n",
       "    }\n",
       "</style>\n",
       "<table border=\"1\" class=\"dataframe\">\n",
       "  <thead>\n",
       "    <tr style=\"text-align: right;\">\n",
       "      <th></th>\n",
       "      <th>id</th>\n",
       "      <th>listing_url</th>\n",
       "      <th>scrape_id</th>\n",
       "      <th>last_scraped</th>\n",
       "      <th>name</th>\n",
       "      <th>summary</th>\n",
       "      <th>space</th>\n",
       "      <th>description</th>\n",
       "      <th>experiences_offered</th>\n",
       "      <th>neighborhood_overview</th>\n",
       "      <th>...</th>\n",
       "      <th>review_scores_value</th>\n",
       "      <th>requires_license</th>\n",
       "      <th>license</th>\n",
       "      <th>jurisdiction_names</th>\n",
       "      <th>instant_bookable</th>\n",
       "      <th>cancellation_policy</th>\n",
       "      <th>require_guest_profile_picture</th>\n",
       "      <th>require_guest_phone_verification</th>\n",
       "      <th>calculated_host_listings_count</th>\n",
       "      <th>reviews_per_month</th>\n",
       "    </tr>\n",
       "  </thead>\n",
       "  <tbody>\n",
       "    <tr>\n",
       "      <th>0</th>\n",
       "      <td>241032</td>\n",
       "      <td>https://www.airbnb.com/rooms/241032</td>\n",
       "      <td>20160104002432</td>\n",
       "      <td>2016-01-04</td>\n",
       "      <td>Stylish Queen Anne Apartment</td>\n",
       "      <td>NaN</td>\n",
       "      <td>Make your self at home in this charming one-be...</td>\n",
       "      <td>Make your self at home in this charming one-be...</td>\n",
       "      <td>none</td>\n",
       "      <td>NaN</td>\n",
       "      <td>...</td>\n",
       "      <td>10.0</td>\n",
       "      <td>f</td>\n",
       "      <td>NaN</td>\n",
       "      <td>WASHINGTON</td>\n",
       "      <td>f</td>\n",
       "      <td>moderate</td>\n",
       "      <td>f</td>\n",
       "      <td>f</td>\n",
       "      <td>2</td>\n",
       "      <td>4.07</td>\n",
       "    </tr>\n",
       "    <tr>\n",
       "      <th>1</th>\n",
       "      <td>953595</td>\n",
       "      <td>https://www.airbnb.com/rooms/953595</td>\n",
       "      <td>20160104002432</td>\n",
       "      <td>2016-01-04</td>\n",
       "      <td>Bright &amp; Airy Queen Anne Apartment</td>\n",
       "      <td>Chemically sensitive? We've removed the irrita...</td>\n",
       "      <td>Beautiful, hypoallergenic apartment in an extr...</td>\n",
       "      <td>Chemically sensitive? We've removed the irrita...</td>\n",
       "      <td>none</td>\n",
       "      <td>Queen Anne is a wonderful, truly functional vi...</td>\n",
       "      <td>...</td>\n",
       "      <td>10.0</td>\n",
       "      <td>f</td>\n",
       "      <td>NaN</td>\n",
       "      <td>WASHINGTON</td>\n",
       "      <td>f</td>\n",
       "      <td>strict</td>\n",
       "      <td>t</td>\n",
       "      <td>t</td>\n",
       "      <td>6</td>\n",
       "      <td>1.48</td>\n",
       "    </tr>\n",
       "    <tr>\n",
       "      <th>2</th>\n",
       "      <td>3308979</td>\n",
       "      <td>https://www.airbnb.com/rooms/3308979</td>\n",
       "      <td>20160104002432</td>\n",
       "      <td>2016-01-04</td>\n",
       "      <td>New Modern House-Amazing water view</td>\n",
       "      <td>New modern house built in 2013.  Spectacular s...</td>\n",
       "      <td>Our house is modern, light and fresh with a wa...</td>\n",
       "      <td>New modern house built in 2013.  Spectacular s...</td>\n",
       "      <td>none</td>\n",
       "      <td>Upper Queen Anne is a charming neighborhood fu...</td>\n",
       "      <td>...</td>\n",
       "      <td>10.0</td>\n",
       "      <td>f</td>\n",
       "      <td>NaN</td>\n",
       "      <td>WASHINGTON</td>\n",
       "      <td>f</td>\n",
       "      <td>strict</td>\n",
       "      <td>f</td>\n",
       "      <td>f</td>\n",
       "      <td>2</td>\n",
       "      <td>1.15</td>\n",
       "    </tr>\n",
       "    <tr>\n",
       "      <th>3</th>\n",
       "      <td>7421966</td>\n",
       "      <td>https://www.airbnb.com/rooms/7421966</td>\n",
       "      <td>20160104002432</td>\n",
       "      <td>2016-01-04</td>\n",
       "      <td>Queen Anne Chateau</td>\n",
       "      <td>A charming apartment that sits atop Queen Anne...</td>\n",
       "      <td>NaN</td>\n",
       "      <td>A charming apartment that sits atop Queen Anne...</td>\n",
       "      <td>none</td>\n",
       "      <td>NaN</td>\n",
       "      <td>...</td>\n",
       "      <td>NaN</td>\n",
       "      <td>f</td>\n",
       "      <td>NaN</td>\n",
       "      <td>WASHINGTON</td>\n",
       "      <td>f</td>\n",
       "      <td>flexible</td>\n",
       "      <td>f</td>\n",
       "      <td>f</td>\n",
       "      <td>1</td>\n",
       "      <td>NaN</td>\n",
       "    </tr>\n",
       "    <tr>\n",
       "      <th>4</th>\n",
       "      <td>278830</td>\n",
       "      <td>https://www.airbnb.com/rooms/278830</td>\n",
       "      <td>20160104002432</td>\n",
       "      <td>2016-01-04</td>\n",
       "      <td>Charming craftsman 3 bdm house</td>\n",
       "      <td>Cozy family craftman house in beautiful neighb...</td>\n",
       "      <td>Cozy family craftman house in beautiful neighb...</td>\n",
       "      <td>Cozy family craftman house in beautiful neighb...</td>\n",
       "      <td>none</td>\n",
       "      <td>We are in the beautiful neighborhood of Queen ...</td>\n",
       "      <td>...</td>\n",
       "      <td>9.0</td>\n",
       "      <td>f</td>\n",
       "      <td>NaN</td>\n",
       "      <td>WASHINGTON</td>\n",
       "      <td>f</td>\n",
       "      <td>strict</td>\n",
       "      <td>f</td>\n",
       "      <td>f</td>\n",
       "      <td>1</td>\n",
       "      <td>0.89</td>\n",
       "    </tr>\n",
       "  </tbody>\n",
       "</table>\n",
       "<p>5 rows × 92 columns</p>\n",
       "</div>"
      ],
      "text/plain": [
       "        id                           listing_url       scrape_id last_scraped  \\\n",
       "0   241032   https://www.airbnb.com/rooms/241032  20160104002432   2016-01-04   \n",
       "1   953595   https://www.airbnb.com/rooms/953595  20160104002432   2016-01-04   \n",
       "2  3308979  https://www.airbnb.com/rooms/3308979  20160104002432   2016-01-04   \n",
       "3  7421966  https://www.airbnb.com/rooms/7421966  20160104002432   2016-01-04   \n",
       "4   278830   https://www.airbnb.com/rooms/278830  20160104002432   2016-01-04   \n",
       "\n",
       "                                  name  \\\n",
       "0         Stylish Queen Anne Apartment   \n",
       "1   Bright & Airy Queen Anne Apartment   \n",
       "2  New Modern House-Amazing water view   \n",
       "3                   Queen Anne Chateau   \n",
       "4       Charming craftsman 3 bdm house   \n",
       "\n",
       "                                             summary  \\\n",
       "0                                                NaN   \n",
       "1  Chemically sensitive? We've removed the irrita...   \n",
       "2  New modern house built in 2013.  Spectacular s...   \n",
       "3  A charming apartment that sits atop Queen Anne...   \n",
       "4  Cozy family craftman house in beautiful neighb...   \n",
       "\n",
       "                                               space  \\\n",
       "0  Make your self at home in this charming one-be...   \n",
       "1  Beautiful, hypoallergenic apartment in an extr...   \n",
       "2  Our house is modern, light and fresh with a wa...   \n",
       "3                                                NaN   \n",
       "4  Cozy family craftman house in beautiful neighb...   \n",
       "\n",
       "                                         description experiences_offered  \\\n",
       "0  Make your self at home in this charming one-be...                none   \n",
       "1  Chemically sensitive? We've removed the irrita...                none   \n",
       "2  New modern house built in 2013.  Spectacular s...                none   \n",
       "3  A charming apartment that sits atop Queen Anne...                none   \n",
       "4  Cozy family craftman house in beautiful neighb...                none   \n",
       "\n",
       "                               neighborhood_overview  ... review_scores_value  \\\n",
       "0                                                NaN  ...                10.0   \n",
       "1  Queen Anne is a wonderful, truly functional vi...  ...                10.0   \n",
       "2  Upper Queen Anne is a charming neighborhood fu...  ...                10.0   \n",
       "3                                                NaN  ...                 NaN   \n",
       "4  We are in the beautiful neighborhood of Queen ...  ...                 9.0   \n",
       "\n",
       "  requires_license license jurisdiction_names instant_bookable  \\\n",
       "0                f     NaN         WASHINGTON                f   \n",
       "1                f     NaN         WASHINGTON                f   \n",
       "2                f     NaN         WASHINGTON                f   \n",
       "3                f     NaN         WASHINGTON                f   \n",
       "4                f     NaN         WASHINGTON                f   \n",
       "\n",
       "  cancellation_policy  require_guest_profile_picture  \\\n",
       "0            moderate                              f   \n",
       "1              strict                              t   \n",
       "2              strict                              f   \n",
       "3            flexible                              f   \n",
       "4              strict                              f   \n",
       "\n",
       "  require_guest_phone_verification calculated_host_listings_count  \\\n",
       "0                                f                              2   \n",
       "1                                t                              6   \n",
       "2                                f                              2   \n",
       "3                                f                              1   \n",
       "4                                f                              1   \n",
       "\n",
       "  reviews_per_month  \n",
       "0              4.07  \n",
       "1              1.48  \n",
       "2              1.15  \n",
       "3               NaN  \n",
       "4              0.89  \n",
       "\n",
       "[5 rows x 92 columns]"
      ]
     },
     "execution_count": 40,
     "metadata": {},
     "output_type": "execute_result"
    }
   ],
   "source": [
    "# Access Data \n",
    "listings.head()"
   ]
  },
  {
   "cell_type": "code",
   "execution_count": 41,
   "metadata": {},
   "outputs": [
    {
     "data": {
      "text/html": [
       "<div>\n",
       "<style scoped>\n",
       "    .dataframe tbody tr th:only-of-type {\n",
       "        vertical-align: middle;\n",
       "    }\n",
       "\n",
       "    .dataframe tbody tr th {\n",
       "        vertical-align: top;\n",
       "    }\n",
       "\n",
       "    .dataframe thead th {\n",
       "        text-align: right;\n",
       "    }\n",
       "</style>\n",
       "<table border=\"1\" class=\"dataframe\">\n",
       "  <thead>\n",
       "    <tr style=\"text-align: right;\">\n",
       "      <th></th>\n",
       "      <th>id</th>\n",
       "      <th>listing_url</th>\n",
       "      <th>scrape_id</th>\n",
       "      <th>last_scraped</th>\n",
       "      <th>name</th>\n",
       "      <th>summary</th>\n",
       "      <th>space</th>\n",
       "      <th>description</th>\n",
       "      <th>experiences_offered</th>\n",
       "      <th>neighborhood_overview</th>\n",
       "      <th>...</th>\n",
       "      <th>review_scores_value</th>\n",
       "      <th>requires_license</th>\n",
       "      <th>license</th>\n",
       "      <th>jurisdiction_names</th>\n",
       "      <th>instant_bookable</th>\n",
       "      <th>cancellation_policy</th>\n",
       "      <th>require_guest_profile_picture</th>\n",
       "      <th>require_guest_phone_verification</th>\n",
       "      <th>calculated_host_listings_count</th>\n",
       "      <th>reviews_per_month</th>\n",
       "    </tr>\n",
       "  </thead>\n",
       "  <tbody>\n",
       "    <tr>\n",
       "      <th>3813</th>\n",
       "      <td>8101950</td>\n",
       "      <td>https://www.airbnb.com/rooms/8101950</td>\n",
       "      <td>20160104002432</td>\n",
       "      <td>2016-01-04</td>\n",
       "      <td>3BR Mountain View House in Seattle</td>\n",
       "      <td>Our 3BR/2BA house boasts incredible views of t...</td>\n",
       "      <td>Our 3BR/2BA house bright, stylish, and wheelch...</td>\n",
       "      <td>Our 3BR/2BA house boasts incredible views of t...</td>\n",
       "      <td>none</td>\n",
       "      <td>We're located near lots of family fun. Woodlan...</td>\n",
       "      <td>...</td>\n",
       "      <td>8.0</td>\n",
       "      <td>f</td>\n",
       "      <td>NaN</td>\n",
       "      <td>WASHINGTON</td>\n",
       "      <td>f</td>\n",
       "      <td>strict</td>\n",
       "      <td>f</td>\n",
       "      <td>f</td>\n",
       "      <td>8</td>\n",
       "      <td>0.3</td>\n",
       "    </tr>\n",
       "    <tr>\n",
       "      <th>3814</th>\n",
       "      <td>8902327</td>\n",
       "      <td>https://www.airbnb.com/rooms/8902327</td>\n",
       "      <td>20160104002432</td>\n",
       "      <td>2016-01-04</td>\n",
       "      <td>Portage Bay View!-One Bedroom Apt</td>\n",
       "      <td>800 square foot 1 bedroom basement apartment w...</td>\n",
       "      <td>This space has a great view of Portage Bay wit...</td>\n",
       "      <td>800 square foot 1 bedroom basement apartment w...</td>\n",
       "      <td>none</td>\n",
       "      <td>The neighborhood is a quiet oasis that is clos...</td>\n",
       "      <td>...</td>\n",
       "      <td>10.0</td>\n",
       "      <td>f</td>\n",
       "      <td>NaN</td>\n",
       "      <td>WASHINGTON</td>\n",
       "      <td>f</td>\n",
       "      <td>moderate</td>\n",
       "      <td>f</td>\n",
       "      <td>f</td>\n",
       "      <td>1</td>\n",
       "      <td>2.0</td>\n",
       "    </tr>\n",
       "    <tr>\n",
       "      <th>3815</th>\n",
       "      <td>10267360</td>\n",
       "      <td>https://www.airbnb.com/rooms/10267360</td>\n",
       "      <td>20160104002432</td>\n",
       "      <td>2016-01-04</td>\n",
       "      <td>Private apartment view of Lake WA</td>\n",
       "      <td>Very comfortable lower unit. Quiet, charming m...</td>\n",
       "      <td>NaN</td>\n",
       "      <td>Very comfortable lower unit. Quiet, charming m...</td>\n",
       "      <td>none</td>\n",
       "      <td>NaN</td>\n",
       "      <td>...</td>\n",
       "      <td>NaN</td>\n",
       "      <td>f</td>\n",
       "      <td>NaN</td>\n",
       "      <td>WASHINGTON</td>\n",
       "      <td>f</td>\n",
       "      <td>moderate</td>\n",
       "      <td>f</td>\n",
       "      <td>f</td>\n",
       "      <td>1</td>\n",
       "      <td>NaN</td>\n",
       "    </tr>\n",
       "    <tr>\n",
       "      <th>3816</th>\n",
       "      <td>9604740</td>\n",
       "      <td>https://www.airbnb.com/rooms/9604740</td>\n",
       "      <td>20160104002432</td>\n",
       "      <td>2016-01-04</td>\n",
       "      <td>Amazing View with Modern Comfort!</td>\n",
       "      <td>Cozy studio condo in the heart on Madison Park...</td>\n",
       "      <td>Fully furnished unit to accommodate most needs...</td>\n",
       "      <td>Cozy studio condo in the heart on Madison Park...</td>\n",
       "      <td>none</td>\n",
       "      <td>Madison Park offers a peaceful slow pace upsca...</td>\n",
       "      <td>...</td>\n",
       "      <td>NaN</td>\n",
       "      <td>f</td>\n",
       "      <td>NaN</td>\n",
       "      <td>WASHINGTON</td>\n",
       "      <td>f</td>\n",
       "      <td>moderate</td>\n",
       "      <td>f</td>\n",
       "      <td>f</td>\n",
       "      <td>1</td>\n",
       "      <td>NaN</td>\n",
       "    </tr>\n",
       "    <tr>\n",
       "      <th>3817</th>\n",
       "      <td>10208623</td>\n",
       "      <td>https://www.airbnb.com/rooms/10208623</td>\n",
       "      <td>20160104002432</td>\n",
       "      <td>2016-01-04</td>\n",
       "      <td>Large Lakefront Apartment</td>\n",
       "      <td>All hardwood floors, fireplace, 65\" TV with Xb...</td>\n",
       "      <td>NaN</td>\n",
       "      <td>All hardwood floors, fireplace, 65\" TV with Xb...</td>\n",
       "      <td>none</td>\n",
       "      <td>NaN</td>\n",
       "      <td>...</td>\n",
       "      <td>NaN</td>\n",
       "      <td>f</td>\n",
       "      <td>NaN</td>\n",
       "      <td>WASHINGTON</td>\n",
       "      <td>f</td>\n",
       "      <td>flexible</td>\n",
       "      <td>f</td>\n",
       "      <td>f</td>\n",
       "      <td>1</td>\n",
       "      <td>NaN</td>\n",
       "    </tr>\n",
       "  </tbody>\n",
       "</table>\n",
       "<p>5 rows × 92 columns</p>\n",
       "</div>"
      ],
      "text/plain": [
       "            id                            listing_url       scrape_id  \\\n",
       "3813   8101950   https://www.airbnb.com/rooms/8101950  20160104002432   \n",
       "3814   8902327   https://www.airbnb.com/rooms/8902327  20160104002432   \n",
       "3815  10267360  https://www.airbnb.com/rooms/10267360  20160104002432   \n",
       "3816   9604740   https://www.airbnb.com/rooms/9604740  20160104002432   \n",
       "3817  10208623  https://www.airbnb.com/rooms/10208623  20160104002432   \n",
       "\n",
       "     last_scraped                                name  \\\n",
       "3813   2016-01-04  3BR Mountain View House in Seattle   \n",
       "3814   2016-01-04   Portage Bay View!-One Bedroom Apt   \n",
       "3815   2016-01-04   Private apartment view of Lake WA   \n",
       "3816   2016-01-04   Amazing View with Modern Comfort!   \n",
       "3817   2016-01-04           Large Lakefront Apartment   \n",
       "\n",
       "                                                summary  \\\n",
       "3813  Our 3BR/2BA house boasts incredible views of t...   \n",
       "3814  800 square foot 1 bedroom basement apartment w...   \n",
       "3815  Very comfortable lower unit. Quiet, charming m...   \n",
       "3816  Cozy studio condo in the heart on Madison Park...   \n",
       "3817  All hardwood floors, fireplace, 65\" TV with Xb...   \n",
       "\n",
       "                                                  space  \\\n",
       "3813  Our 3BR/2BA house bright, stylish, and wheelch...   \n",
       "3814  This space has a great view of Portage Bay wit...   \n",
       "3815                                                NaN   \n",
       "3816  Fully furnished unit to accommodate most needs...   \n",
       "3817                                                NaN   \n",
       "\n",
       "                                            description experiences_offered  \\\n",
       "3813  Our 3BR/2BA house boasts incredible views of t...                none   \n",
       "3814  800 square foot 1 bedroom basement apartment w...                none   \n",
       "3815  Very comfortable lower unit. Quiet, charming m...                none   \n",
       "3816  Cozy studio condo in the heart on Madison Park...                none   \n",
       "3817  All hardwood floors, fireplace, 65\" TV with Xb...                none   \n",
       "\n",
       "                                  neighborhood_overview  ...  \\\n",
       "3813  We're located near lots of family fun. Woodlan...  ...   \n",
       "3814  The neighborhood is a quiet oasis that is clos...  ...   \n",
       "3815                                                NaN  ...   \n",
       "3816  Madison Park offers a peaceful slow pace upsca...  ...   \n",
       "3817                                                NaN  ...   \n",
       "\n",
       "     review_scores_value requires_license license jurisdiction_names  \\\n",
       "3813                 8.0                f     NaN         WASHINGTON   \n",
       "3814                10.0                f     NaN         WASHINGTON   \n",
       "3815                 NaN                f     NaN         WASHINGTON   \n",
       "3816                 NaN                f     NaN         WASHINGTON   \n",
       "3817                 NaN                f     NaN         WASHINGTON   \n",
       "\n",
       "     instant_bookable cancellation_policy  require_guest_profile_picture  \\\n",
       "3813                f              strict                              f   \n",
       "3814                f            moderate                              f   \n",
       "3815                f            moderate                              f   \n",
       "3816                f            moderate                              f   \n",
       "3817                f            flexible                              f   \n",
       "\n",
       "     require_guest_phone_verification calculated_host_listings_count  \\\n",
       "3813                                f                              8   \n",
       "3814                                f                              1   \n",
       "3815                                f                              1   \n",
       "3816                                f                              1   \n",
       "3817                                f                              1   \n",
       "\n",
       "     reviews_per_month  \n",
       "3813               0.3  \n",
       "3814               2.0  \n",
       "3815               NaN  \n",
       "3816               NaN  \n",
       "3817               NaN  \n",
       "\n",
       "[5 rows x 92 columns]"
      ]
     },
     "execution_count": 41,
     "metadata": {},
     "output_type": "execute_result"
    }
   ],
   "source": [
    "# Access Data \n",
    "listings.tail()"
   ]
  },
  {
   "cell_type": "markdown",
   "metadata": {},
   "source": [
    "##### Visual Assessment \n",
    "\n",
    "There are 92 Columns in this data set. \n",
    "\n",
    "Summary:\n",
    "\n",
    "- space: Contains a description of the space and missing values. \n",
    "- experiences_offered: Appears to only display the word None. \n",
    "- neighborhood_overview: Contains a description of the neighborhood and missing values\n",
    "- review_scores_value: Contains review scorce and missing values. \n",
    "- license contains missing values. \n",
    "- jurisdiction_names Appears to only display the word WASHINGTON.\n",
    "- cancellation_policy: Contains three different status: flexible,moderate,strict\n",
    "- reviews_per_month: Contain the review per a Month and Nan values. "
   ]
  },
  {
   "cell_type": "markdown",
   "metadata": {},
   "source": [
    "#### Reviews Data Set"
   ]
  },
  {
   "cell_type": "code",
   "execution_count": 42,
   "metadata": {},
   "outputs": [
    {
     "data": {
      "text/html": [
       "<div>\n",
       "<style scoped>\n",
       "    .dataframe tbody tr th:only-of-type {\n",
       "        vertical-align: middle;\n",
       "    }\n",
       "\n",
       "    .dataframe tbody tr th {\n",
       "        vertical-align: top;\n",
       "    }\n",
       "\n",
       "    .dataframe thead th {\n",
       "        text-align: right;\n",
       "    }\n",
       "</style>\n",
       "<table border=\"1\" class=\"dataframe\">\n",
       "  <thead>\n",
       "    <tr style=\"text-align: right;\">\n",
       "      <th></th>\n",
       "      <th>listing_id</th>\n",
       "      <th>id</th>\n",
       "      <th>date</th>\n",
       "      <th>reviewer_id</th>\n",
       "      <th>reviewer_name</th>\n",
       "      <th>comments</th>\n",
       "    </tr>\n",
       "  </thead>\n",
       "  <tbody>\n",
       "    <tr>\n",
       "      <th>0</th>\n",
       "      <td>7202016</td>\n",
       "      <td>38917982</td>\n",
       "      <td>2015-07-19</td>\n",
       "      <td>28943674</td>\n",
       "      <td>Bianca</td>\n",
       "      <td>Cute and cozy place. Perfect location to every...</td>\n",
       "    </tr>\n",
       "    <tr>\n",
       "      <th>1</th>\n",
       "      <td>7202016</td>\n",
       "      <td>39087409</td>\n",
       "      <td>2015-07-20</td>\n",
       "      <td>32440555</td>\n",
       "      <td>Frank</td>\n",
       "      <td>Kelly has a great room in a very central locat...</td>\n",
       "    </tr>\n",
       "    <tr>\n",
       "      <th>2</th>\n",
       "      <td>7202016</td>\n",
       "      <td>39820030</td>\n",
       "      <td>2015-07-26</td>\n",
       "      <td>37722850</td>\n",
       "      <td>Ian</td>\n",
       "      <td>Very spacious apartment, and in a great neighb...</td>\n",
       "    </tr>\n",
       "    <tr>\n",
       "      <th>3</th>\n",
       "      <td>7202016</td>\n",
       "      <td>40813543</td>\n",
       "      <td>2015-08-02</td>\n",
       "      <td>33671805</td>\n",
       "      <td>George</td>\n",
       "      <td>Close to Seattle Center and all it has to offe...</td>\n",
       "    </tr>\n",
       "    <tr>\n",
       "      <th>4</th>\n",
       "      <td>7202016</td>\n",
       "      <td>41986501</td>\n",
       "      <td>2015-08-10</td>\n",
       "      <td>34959538</td>\n",
       "      <td>Ming</td>\n",
       "      <td>Kelly was a great host and very accommodating ...</td>\n",
       "    </tr>\n",
       "  </tbody>\n",
       "</table>\n",
       "</div>"
      ],
      "text/plain": [
       "   listing_id        id        date  reviewer_id reviewer_name  \\\n",
       "0     7202016  38917982  2015-07-19     28943674        Bianca   \n",
       "1     7202016  39087409  2015-07-20     32440555         Frank   \n",
       "2     7202016  39820030  2015-07-26     37722850           Ian   \n",
       "3     7202016  40813543  2015-08-02     33671805        George   \n",
       "4     7202016  41986501  2015-08-10     34959538          Ming   \n",
       "\n",
       "                                            comments  \n",
       "0  Cute and cozy place. Perfect location to every...  \n",
       "1  Kelly has a great room in a very central locat...  \n",
       "2  Very spacious apartment, and in a great neighb...  \n",
       "3  Close to Seattle Center and all it has to offe...  \n",
       "4  Kelly was a great host and very accommodating ...  "
      ]
     },
     "execution_count": 42,
     "metadata": {},
     "output_type": "execute_result"
    }
   ],
   "source": [
    "# Access Data \n",
    "reviews.head()"
   ]
  },
  {
   "cell_type": "code",
   "execution_count": 43,
   "metadata": {},
   "outputs": [
    {
     "data": {
      "text/html": [
       "<div>\n",
       "<style scoped>\n",
       "    .dataframe tbody tr th:only-of-type {\n",
       "        vertical-align: middle;\n",
       "    }\n",
       "\n",
       "    .dataframe tbody tr th {\n",
       "        vertical-align: top;\n",
       "    }\n",
       "\n",
       "    .dataframe thead th {\n",
       "        text-align: right;\n",
       "    }\n",
       "</style>\n",
       "<table border=\"1\" class=\"dataframe\">\n",
       "  <thead>\n",
       "    <tr style=\"text-align: right;\">\n",
       "      <th></th>\n",
       "      <th>listing_id</th>\n",
       "      <th>id</th>\n",
       "      <th>date</th>\n",
       "      <th>reviewer_id</th>\n",
       "      <th>reviewer_name</th>\n",
       "      <th>comments</th>\n",
       "    </tr>\n",
       "  </thead>\n",
       "  <tbody>\n",
       "    <tr>\n",
       "      <th>84844</th>\n",
       "      <td>3624990</td>\n",
       "      <td>50436321</td>\n",
       "      <td>2015-10-12</td>\n",
       "      <td>37419458</td>\n",
       "      <td>Ryan</td>\n",
       "      <td>The description and pictures of the apartment ...</td>\n",
       "    </tr>\n",
       "    <tr>\n",
       "      <th>84845</th>\n",
       "      <td>3624990</td>\n",
       "      <td>51024875</td>\n",
       "      <td>2015-10-17</td>\n",
       "      <td>6933252</td>\n",
       "      <td>Linda</td>\n",
       "      <td>We had an excellent stay. It was clean and com...</td>\n",
       "    </tr>\n",
       "    <tr>\n",
       "      <th>84846</th>\n",
       "      <td>3624990</td>\n",
       "      <td>51511988</td>\n",
       "      <td>2015-10-20</td>\n",
       "      <td>19543701</td>\n",
       "      <td>Jaime</td>\n",
       "      <td>Gran ubicación, cerca de todo lo atractivo del...</td>\n",
       "    </tr>\n",
       "    <tr>\n",
       "      <th>84847</th>\n",
       "      <td>3624990</td>\n",
       "      <td>52814482</td>\n",
       "      <td>2015-11-02</td>\n",
       "      <td>24445024</td>\n",
       "      <td>Jørgen</td>\n",
       "      <td>Very good apartement, clean and well sized. Si...</td>\n",
       "    </tr>\n",
       "    <tr>\n",
       "      <th>84848</th>\n",
       "      <td>9727246</td>\n",
       "      <td>56429621</td>\n",
       "      <td>2015-12-13</td>\n",
       "      <td>30860360</td>\n",
       "      <td>Stephanie</td>\n",
       "      <td>Breanne was a great host. Check in was easy, s...</td>\n",
       "    </tr>\n",
       "  </tbody>\n",
       "</table>\n",
       "</div>"
      ],
      "text/plain": [
       "       listing_id        id        date  reviewer_id reviewer_name  \\\n",
       "84844     3624990  50436321  2015-10-12     37419458          Ryan   \n",
       "84845     3624990  51024875  2015-10-17      6933252         Linda   \n",
       "84846     3624990  51511988  2015-10-20     19543701         Jaime   \n",
       "84847     3624990  52814482  2015-11-02     24445024        Jørgen   \n",
       "84848     9727246  56429621  2015-12-13     30860360     Stephanie   \n",
       "\n",
       "                                                comments  \n",
       "84844  The description and pictures of the apartment ...  \n",
       "84845  We had an excellent stay. It was clean and com...  \n",
       "84846  Gran ubicación, cerca de todo lo atractivo del...  \n",
       "84847  Very good apartement, clean and well sized. Si...  \n",
       "84848  Breanne was a great host. Check in was easy, s...  "
      ]
     },
     "execution_count": 43,
     "metadata": {},
     "output_type": "execute_result"
    }
   ],
   "source": [
    "# Access Data \n",
    "reviews.tail()"
   ]
  },
  {
   "cell_type": "markdown",
   "metadata": {},
   "source": [
    "##### Visual Assessment\n",
    "\n",
    "- listing_id: Listing Airbnb Id\n",
    "- id: ID field. Not sure what this relates to. Further investigation. \n",
    "- date: Date of review\n",
    "- reviewer_id - ID of reviewer\n",
    "- reviewer_name: Name of reviewer\n",
    "- comments - Review Comments"
   ]
  },
  {
   "cell_type": "markdown",
   "metadata": {},
   "source": [
    "##### Programmatic assessment - Verifying quality of data section"
   ]
  },
  {
   "cell_type": "markdown",
   "metadata": {},
   "source": [
    "#### Calendar Data Set"
   ]
  },
  {
   "cell_type": "markdown",
   "metadata": {},
   "source": [
    "#### Checking Data set Structure"
   ]
  },
  {
   "cell_type": "code",
   "execution_count": 44,
   "metadata": {},
   "outputs": [
    {
     "data": {
      "text/plain": [
       "(1393570, 4)"
      ]
     },
     "execution_count": 44,
     "metadata": {},
     "output_type": "execute_result"
    }
   ],
   "source": [
    "calendar.shape # Access Data "
   ]
  },
  {
   "cell_type": "markdown",
   "metadata": {},
   "source": [
    "There are 1393570 rows and 4 columns in the calendar data set"
   ]
  },
  {
   "cell_type": "code",
   "execution_count": 45,
   "metadata": {},
   "outputs": [
    {
     "name": "stdout",
     "output_type": "stream",
     "text": [
      "<class 'pandas.core.frame.DataFrame'>\n",
      "RangeIndex: 1393570 entries, 0 to 1393569\n",
      "Data columns (total 4 columns):\n",
      "listing_id    1393570 non-null int64\n",
      "date          1393570 non-null object\n",
      "available     1393570 non-null object\n",
      "price         934542 non-null object\n",
      "dtypes: int64(1), object(3)\n",
      "memory usage: 42.5+ MB\n"
     ]
    }
   ],
   "source": [
    "calendar.info() # Access Data "
   ]
  },
  {
   "cell_type": "markdown",
   "metadata": {},
   "source": [
    "#### Data Types and Missing Values\n",
    "\n",
    "##### Data Types\n",
    "\n",
    "- listing_id  int64 - Needs to string.\n",
    "- date        object - Date Format\n",
    "- available   object - Format Correct.\n",
    "- price       object - Change to Float\n",
    "\n",
    "##### Missing Values\n",
    "\n",
    "- price contains 934542 values. "
   ]
  },
  {
   "cell_type": "markdown",
   "metadata": {},
   "source": [
    "#### Basic Statistics"
   ]
  },
  {
   "cell_type": "code",
   "execution_count": 46,
   "metadata": {},
   "outputs": [
    {
     "data": {
      "text/html": [
       "<div>\n",
       "<style scoped>\n",
       "    .dataframe tbody tr th:only-of-type {\n",
       "        vertical-align: middle;\n",
       "    }\n",
       "\n",
       "    .dataframe tbody tr th {\n",
       "        vertical-align: top;\n",
       "    }\n",
       "\n",
       "    .dataframe thead th {\n",
       "        text-align: right;\n",
       "    }\n",
       "</style>\n",
       "<table border=\"1\" class=\"dataframe\">\n",
       "  <thead>\n",
       "    <tr style=\"text-align: right;\">\n",
       "      <th></th>\n",
       "      <th>listing_id</th>\n",
       "    </tr>\n",
       "  </thead>\n",
       "  <tbody>\n",
       "    <tr>\n",
       "      <th>count</th>\n",
       "      <td>1.393570e+06</td>\n",
       "    </tr>\n",
       "    <tr>\n",
       "      <th>mean</th>\n",
       "      <td>5.550111e+06</td>\n",
       "    </tr>\n",
       "    <tr>\n",
       "      <th>std</th>\n",
       "      <td>2.962274e+06</td>\n",
       "    </tr>\n",
       "    <tr>\n",
       "      <th>min</th>\n",
       "      <td>3.335000e+03</td>\n",
       "    </tr>\n",
       "    <tr>\n",
       "      <th>25%</th>\n",
       "      <td>3.258213e+06</td>\n",
       "    </tr>\n",
       "    <tr>\n",
       "      <th>50%</th>\n",
       "      <td>6.118244e+06</td>\n",
       "    </tr>\n",
       "    <tr>\n",
       "      <th>75%</th>\n",
       "      <td>8.035212e+06</td>\n",
       "    </tr>\n",
       "    <tr>\n",
       "      <th>max</th>\n",
       "      <td>1.034016e+07</td>\n",
       "    </tr>\n",
       "  </tbody>\n",
       "</table>\n",
       "</div>"
      ],
      "text/plain": [
       "         listing_id\n",
       "count  1.393570e+06\n",
       "mean   5.550111e+06\n",
       "std    2.962274e+06\n",
       "min    3.335000e+03\n",
       "25%    3.258213e+06\n",
       "50%    6.118244e+06\n",
       "75%    8.035212e+06\n",
       "max    1.034016e+07"
      ]
     },
     "execution_count": 46,
     "metadata": {},
     "output_type": "execute_result"
    }
   ],
   "source": [
    "calendar.describe() # Basic Statistics"
   ]
  },
  {
   "cell_type": "markdown",
   "metadata": {},
   "source": [
    "##### Checking for Missing Values"
   ]
  },
  {
   "cell_type": "code",
   "execution_count": 47,
   "metadata": {},
   "outputs": [
    {
     "data": {
      "text/plain": [
       "price         459028\n",
       "available          0\n",
       "date               0\n",
       "listing_id         0\n",
       "dtype: int64"
      ]
     },
     "execution_count": 47,
     "metadata": {},
     "output_type": "execute_result"
    }
   ],
   "source": [
    "calendar.isnull().sum().sort_values(axis = 0, ascending = False) # Checking for Null values"
   ]
  },
  {
   "cell_type": "markdown",
   "metadata": {},
   "source": [
    "#### Visualisation Missing Values. "
   ]
  },
  {
   "cell_type": "markdown",
   "metadata": {},
   "source": [
    "### Create a heatmap Function for Missing Values"
   ]
  },
  {
   "cell_type": "code",
   "execution_count": 48,
   "metadata": {},
   "outputs": [],
   "source": [
    "def plot_NA(df):\n",
    "    df \n",
    "    # heatmap for missing values .\n",
    "    return sns.heatmap(df.isnull(), cbar=False) "
   ]
  },
  {
   "cell_type": "code",
   "execution_count": 49,
   "metadata": {},
   "outputs": [
    {
     "data": {
      "text/plain": [
       "<matplotlib.axes._subplots.AxesSubplot at 0x1a28df5eb8>"
      ]
     },
     "execution_count": 49,
     "metadata": {},
     "output_type": "execute_result"
    },
    {
     "data": {
      "image/png": "[encoded data removed]",
      "text/plain": [
       "<Figure size 432x288 with 1 Axes>"
      ]
     },
     "metadata": {
      "needs_background": "light"
     },
     "output_type": "display_data"
    }
   ],
   "source": [
    "plot_NA(df = calendar)"
   ]
  },
  {
   "cell_type": "markdown",
   "metadata": {},
   "source": [
    "#### Checking for Duplciates"
   ]
  },
  {
   "cell_type": "code",
   "execution_count": 50,
   "metadata": {},
   "outputs": [
    {
     "data": {
      "text/plain": [
       "0"
      ]
     },
     "execution_count": 50,
     "metadata": {},
     "output_type": "execute_result"
    }
   ],
   "source": [
    "calendar.duplicated().sum() # checking for duplicates"
   ]
  },
  {
   "cell_type": "markdown",
   "metadata": {},
   "source": [
    "#### Checking date range"
   ]
  },
  {
   "cell_type": "code",
   "execution_count": 51,
   "metadata": {},
   "outputs": [
    {
     "data": {
      "text/plain": [
       "'2017-01-02'"
      ]
     },
     "execution_count": 51,
     "metadata": {},
     "output_type": "execute_result"
    }
   ],
   "source": [
    "calendar['date'].max() # checking for max values"
   ]
  },
  {
   "cell_type": "code",
   "execution_count": 52,
   "metadata": {},
   "outputs": [
    {
     "data": {
      "text/plain": [
       "'2016-01-04'"
      ]
     },
     "execution_count": 52,
     "metadata": {},
     "output_type": "execute_result"
    }
   ],
   "source": [
    "calendar['date'].min() # checking for Min value"
   ]
  },
  {
   "cell_type": "markdown",
   "metadata": {},
   "source": [
    "#### Checking available column and how it relates to price:"
   ]
  },
  {
   "cell_type": "code",
   "execution_count": 53,
   "metadata": {},
   "outputs": [
    {
     "data": {
      "text/plain": [
       "array(['t', 'f'], dtype=object)"
      ]
     },
     "execution_count": 53,
     "metadata": {},
     "output_type": "execute_result"
    }
   ],
   "source": [
    "calendar['available'].unique() # checking for unique values"
   ]
  },
  {
   "cell_type": "code",
   "execution_count": 54,
   "metadata": {},
   "outputs": [
    {
     "data": {
      "text/html": [
       "<div>\n",
       "<style scoped>\n",
       "    .dataframe tbody tr th:only-of-type {\n",
       "        vertical-align: middle;\n",
       "    }\n",
       "\n",
       "    .dataframe tbody tr th {\n",
       "        vertical-align: top;\n",
       "    }\n",
       "\n",
       "    .dataframe thead th {\n",
       "        text-align: right;\n",
       "    }\n",
       "</style>\n",
       "<table border=\"1\" class=\"dataframe\">\n",
       "  <thead>\n",
       "    <tr style=\"text-align: right;\">\n",
       "      <th></th>\n",
       "      <th>listing_id</th>\n",
       "      <th>date</th>\n",
       "      <th>available</th>\n",
       "      <th>price</th>\n",
       "    </tr>\n",
       "  </thead>\n",
       "  <tbody>\n",
       "    <tr>\n",
       "      <th>0</th>\n",
       "      <td>241032</td>\n",
       "      <td>2016-01-04</td>\n",
       "      <td>t</td>\n",
       "      <td>$85.00</td>\n",
       "    </tr>\n",
       "    <tr>\n",
       "      <th>1</th>\n",
       "      <td>241032</td>\n",
       "      <td>2016-01-05</td>\n",
       "      <td>t</td>\n",
       "      <td>$85.00</td>\n",
       "    </tr>\n",
       "    <tr>\n",
       "      <th>9</th>\n",
       "      <td>241032</td>\n",
       "      <td>2016-01-13</td>\n",
       "      <td>t</td>\n",
       "      <td>$85.00</td>\n",
       "    </tr>\n",
       "    <tr>\n",
       "      <th>10</th>\n",
       "      <td>241032</td>\n",
       "      <td>2016-01-14</td>\n",
       "      <td>t</td>\n",
       "      <td>$85.00</td>\n",
       "    </tr>\n",
       "    <tr>\n",
       "      <th>14</th>\n",
       "      <td>241032</td>\n",
       "      <td>2016-01-18</td>\n",
       "      <td>t</td>\n",
       "      <td>$85.00</td>\n",
       "    </tr>\n",
       "    <tr>\n",
       "      <th>15</th>\n",
       "      <td>241032</td>\n",
       "      <td>2016-01-19</td>\n",
       "      <td>t</td>\n",
       "      <td>$85.00</td>\n",
       "    </tr>\n",
       "    <tr>\n",
       "      <th>16</th>\n",
       "      <td>241032</td>\n",
       "      <td>2016-01-20</td>\n",
       "      <td>t</td>\n",
       "      <td>$85.00</td>\n",
       "    </tr>\n",
       "    <tr>\n",
       "      <th>20</th>\n",
       "      <td>241032</td>\n",
       "      <td>2016-01-24</td>\n",
       "      <td>t</td>\n",
       "      <td>$85.00</td>\n",
       "    </tr>\n",
       "    <tr>\n",
       "      <th>21</th>\n",
       "      <td>241032</td>\n",
       "      <td>2016-01-25</td>\n",
       "      <td>t</td>\n",
       "      <td>$85.00</td>\n",
       "    </tr>\n",
       "    <tr>\n",
       "      <th>22</th>\n",
       "      <td>241032</td>\n",
       "      <td>2016-01-26</td>\n",
       "      <td>t</td>\n",
       "      <td>$85.00</td>\n",
       "    </tr>\n",
       "    <tr>\n",
       "      <th>23</th>\n",
       "      <td>241032</td>\n",
       "      <td>2016-01-27</td>\n",
       "      <td>t</td>\n",
       "      <td>$85.00</td>\n",
       "    </tr>\n",
       "    <tr>\n",
       "      <th>24</th>\n",
       "      <td>241032</td>\n",
       "      <td>2016-01-28</td>\n",
       "      <td>t</td>\n",
       "      <td>$85.00</td>\n",
       "    </tr>\n",
       "    <tr>\n",
       "      <th>28</th>\n",
       "      <td>241032</td>\n",
       "      <td>2016-02-01</td>\n",
       "      <td>t</td>\n",
       "      <td>$85.00</td>\n",
       "    </tr>\n",
       "    <tr>\n",
       "      <th>29</th>\n",
       "      <td>241032</td>\n",
       "      <td>2016-02-02</td>\n",
       "      <td>t</td>\n",
       "      <td>$85.00</td>\n",
       "    </tr>\n",
       "    <tr>\n",
       "      <th>30</th>\n",
       "      <td>241032</td>\n",
       "      <td>2016-02-03</td>\n",
       "      <td>t</td>\n",
       "      <td>$85.00</td>\n",
       "    </tr>\n",
       "    <tr>\n",
       "      <th>31</th>\n",
       "      <td>241032</td>\n",
       "      <td>2016-02-04</td>\n",
       "      <td>t</td>\n",
       "      <td>$85.00</td>\n",
       "    </tr>\n",
       "    <tr>\n",
       "      <th>32</th>\n",
       "      <td>241032</td>\n",
       "      <td>2016-02-05</td>\n",
       "      <td>t</td>\n",
       "      <td>$85.00</td>\n",
       "    </tr>\n",
       "    <tr>\n",
       "      <th>33</th>\n",
       "      <td>241032</td>\n",
       "      <td>2016-02-06</td>\n",
       "      <td>t</td>\n",
       "      <td>$85.00</td>\n",
       "    </tr>\n",
       "    <tr>\n",
       "      <th>34</th>\n",
       "      <td>241032</td>\n",
       "      <td>2016-02-07</td>\n",
       "      <td>t</td>\n",
       "      <td>$85.00</td>\n",
       "    </tr>\n",
       "    <tr>\n",
       "      <th>35</th>\n",
       "      <td>241032</td>\n",
       "      <td>2016-02-08</td>\n",
       "      <td>t</td>\n",
       "      <td>$85.00</td>\n",
       "    </tr>\n",
       "    <tr>\n",
       "      <th>36</th>\n",
       "      <td>241032</td>\n",
       "      <td>2016-02-09</td>\n",
       "      <td>t</td>\n",
       "      <td>$85.00</td>\n",
       "    </tr>\n",
       "    <tr>\n",
       "      <th>37</th>\n",
       "      <td>241032</td>\n",
       "      <td>2016-02-10</td>\n",
       "      <td>t</td>\n",
       "      <td>$85.00</td>\n",
       "    </tr>\n",
       "    <tr>\n",
       "      <th>41</th>\n",
       "      <td>241032</td>\n",
       "      <td>2016-02-14</td>\n",
       "      <td>t</td>\n",
       "      <td>$85.00</td>\n",
       "    </tr>\n",
       "    <tr>\n",
       "      <th>42</th>\n",
       "      <td>241032</td>\n",
       "      <td>2016-02-15</td>\n",
       "      <td>t</td>\n",
       "      <td>$85.00</td>\n",
       "    </tr>\n",
       "    <tr>\n",
       "      <th>43</th>\n",
       "      <td>241032</td>\n",
       "      <td>2016-02-16</td>\n",
       "      <td>t</td>\n",
       "      <td>$85.00</td>\n",
       "    </tr>\n",
       "    <tr>\n",
       "      <th>44</th>\n",
       "      <td>241032</td>\n",
       "      <td>2016-02-17</td>\n",
       "      <td>t</td>\n",
       "      <td>$85.00</td>\n",
       "    </tr>\n",
       "    <tr>\n",
       "      <th>45</th>\n",
       "      <td>241032</td>\n",
       "      <td>2016-02-18</td>\n",
       "      <td>t</td>\n",
       "      <td>$85.00</td>\n",
       "    </tr>\n",
       "    <tr>\n",
       "      <th>46</th>\n",
       "      <td>241032</td>\n",
       "      <td>2016-02-19</td>\n",
       "      <td>t</td>\n",
       "      <td>$85.00</td>\n",
       "    </tr>\n",
       "    <tr>\n",
       "      <th>47</th>\n",
       "      <td>241032</td>\n",
       "      <td>2016-02-20</td>\n",
       "      <td>t</td>\n",
       "      <td>$85.00</td>\n",
       "    </tr>\n",
       "    <tr>\n",
       "      <th>48</th>\n",
       "      <td>241032</td>\n",
       "      <td>2016-02-21</td>\n",
       "      <td>t</td>\n",
       "      <td>$85.00</td>\n",
       "    </tr>\n",
       "    <tr>\n",
       "      <th>...</th>\n",
       "      <td>...</td>\n",
       "      <td>...</td>\n",
       "      <td>...</td>\n",
       "      <td>...</td>\n",
       "    </tr>\n",
       "    <tr>\n",
       "      <th>1392996</th>\n",
       "      <td>9604740</td>\n",
       "      <td>2016-06-08</td>\n",
       "      <td>t</td>\n",
       "      <td>$99.00</td>\n",
       "    </tr>\n",
       "    <tr>\n",
       "      <th>1392997</th>\n",
       "      <td>9604740</td>\n",
       "      <td>2016-06-09</td>\n",
       "      <td>t</td>\n",
       "      <td>$99.00</td>\n",
       "    </tr>\n",
       "    <tr>\n",
       "      <th>1392998</th>\n",
       "      <td>9604740</td>\n",
       "      <td>2016-06-10</td>\n",
       "      <td>t</td>\n",
       "      <td>$99.00</td>\n",
       "    </tr>\n",
       "    <tr>\n",
       "      <th>1392999</th>\n",
       "      <td>9604740</td>\n",
       "      <td>2016-06-11</td>\n",
       "      <td>t</td>\n",
       "      <td>$99.00</td>\n",
       "    </tr>\n",
       "    <tr>\n",
       "      <th>1393000</th>\n",
       "      <td>9604740</td>\n",
       "      <td>2016-06-12</td>\n",
       "      <td>t</td>\n",
       "      <td>$99.00</td>\n",
       "    </tr>\n",
       "    <tr>\n",
       "      <th>1393001</th>\n",
       "      <td>9604740</td>\n",
       "      <td>2016-06-13</td>\n",
       "      <td>t</td>\n",
       "      <td>$99.00</td>\n",
       "    </tr>\n",
       "    <tr>\n",
       "      <th>1393002</th>\n",
       "      <td>9604740</td>\n",
       "      <td>2016-06-14</td>\n",
       "      <td>t</td>\n",
       "      <td>$99.00</td>\n",
       "    </tr>\n",
       "    <tr>\n",
       "      <th>1393003</th>\n",
       "      <td>9604740</td>\n",
       "      <td>2016-06-15</td>\n",
       "      <td>t</td>\n",
       "      <td>$99.00</td>\n",
       "    </tr>\n",
       "    <tr>\n",
       "      <th>1393004</th>\n",
       "      <td>9604740</td>\n",
       "      <td>2016-06-16</td>\n",
       "      <td>t</td>\n",
       "      <td>$99.00</td>\n",
       "    </tr>\n",
       "    <tr>\n",
       "      <th>1393005</th>\n",
       "      <td>9604740</td>\n",
       "      <td>2016-06-17</td>\n",
       "      <td>t</td>\n",
       "      <td>$99.00</td>\n",
       "    </tr>\n",
       "    <tr>\n",
       "      <th>1393006</th>\n",
       "      <td>9604740</td>\n",
       "      <td>2016-06-18</td>\n",
       "      <td>t</td>\n",
       "      <td>$99.00</td>\n",
       "    </tr>\n",
       "    <tr>\n",
       "      <th>1393007</th>\n",
       "      <td>9604740</td>\n",
       "      <td>2016-06-19</td>\n",
       "      <td>t</td>\n",
       "      <td>$99.00</td>\n",
       "    </tr>\n",
       "    <tr>\n",
       "      <th>1393008</th>\n",
       "      <td>9604740</td>\n",
       "      <td>2016-06-20</td>\n",
       "      <td>t</td>\n",
       "      <td>$99.00</td>\n",
       "    </tr>\n",
       "    <tr>\n",
       "      <th>1393009</th>\n",
       "      <td>9604740</td>\n",
       "      <td>2016-06-21</td>\n",
       "      <td>t</td>\n",
       "      <td>$99.00</td>\n",
       "    </tr>\n",
       "    <tr>\n",
       "      <th>1393010</th>\n",
       "      <td>9604740</td>\n",
       "      <td>2016-06-22</td>\n",
       "      <td>t</td>\n",
       "      <td>$99.00</td>\n",
       "    </tr>\n",
       "    <tr>\n",
       "      <th>1393011</th>\n",
       "      <td>9604740</td>\n",
       "      <td>2016-06-23</td>\n",
       "      <td>t</td>\n",
       "      <td>$99.00</td>\n",
       "    </tr>\n",
       "    <tr>\n",
       "      <th>1393012</th>\n",
       "      <td>9604740</td>\n",
       "      <td>2016-06-24</td>\n",
       "      <td>t</td>\n",
       "      <td>$99.00</td>\n",
       "    </tr>\n",
       "    <tr>\n",
       "      <th>1393013</th>\n",
       "      <td>9604740</td>\n",
       "      <td>2016-06-25</td>\n",
       "      <td>t</td>\n",
       "      <td>$99.00</td>\n",
       "    </tr>\n",
       "    <tr>\n",
       "      <th>1393014</th>\n",
       "      <td>9604740</td>\n",
       "      <td>2016-06-26</td>\n",
       "      <td>t</td>\n",
       "      <td>$99.00</td>\n",
       "    </tr>\n",
       "    <tr>\n",
       "      <th>1393015</th>\n",
       "      <td>9604740</td>\n",
       "      <td>2016-06-27</td>\n",
       "      <td>t</td>\n",
       "      <td>$99.00</td>\n",
       "    </tr>\n",
       "    <tr>\n",
       "      <th>1393016</th>\n",
       "      <td>9604740</td>\n",
       "      <td>2016-06-28</td>\n",
       "      <td>t</td>\n",
       "      <td>$99.00</td>\n",
       "    </tr>\n",
       "    <tr>\n",
       "      <th>1393017</th>\n",
       "      <td>9604740</td>\n",
       "      <td>2016-06-29</td>\n",
       "      <td>t</td>\n",
       "      <td>$99.00</td>\n",
       "    </tr>\n",
       "    <tr>\n",
       "      <th>1393018</th>\n",
       "      <td>9604740</td>\n",
       "      <td>2016-06-30</td>\n",
       "      <td>t</td>\n",
       "      <td>$99.00</td>\n",
       "    </tr>\n",
       "    <tr>\n",
       "      <th>1393205</th>\n",
       "      <td>10208623</td>\n",
       "      <td>2016-01-04</td>\n",
       "      <td>t</td>\n",
       "      <td>$87.00</td>\n",
       "    </tr>\n",
       "    <tr>\n",
       "      <th>1393206</th>\n",
       "      <td>10208623</td>\n",
       "      <td>2016-01-05</td>\n",
       "      <td>t</td>\n",
       "      <td>$87.00</td>\n",
       "    </tr>\n",
       "    <tr>\n",
       "      <th>1393207</th>\n",
       "      <td>10208623</td>\n",
       "      <td>2016-01-06</td>\n",
       "      <td>t</td>\n",
       "      <td>$87.00</td>\n",
       "    </tr>\n",
       "    <tr>\n",
       "      <th>1393208</th>\n",
       "      <td>10208623</td>\n",
       "      <td>2016-01-07</td>\n",
       "      <td>t</td>\n",
       "      <td>$87.00</td>\n",
       "    </tr>\n",
       "    <tr>\n",
       "      <th>1393211</th>\n",
       "      <td>10208623</td>\n",
       "      <td>2016-01-10</td>\n",
       "      <td>t</td>\n",
       "      <td>$87.00</td>\n",
       "    </tr>\n",
       "    <tr>\n",
       "      <th>1393212</th>\n",
       "      <td>10208623</td>\n",
       "      <td>2016-01-11</td>\n",
       "      <td>t</td>\n",
       "      <td>$87.00</td>\n",
       "    </tr>\n",
       "    <tr>\n",
       "      <th>1393213</th>\n",
       "      <td>10208623</td>\n",
       "      <td>2016-01-12</td>\n",
       "      <td>t</td>\n",
       "      <td>$87.00</td>\n",
       "    </tr>\n",
       "  </tbody>\n",
       "</table>\n",
       "<p>934542 rows × 4 columns</p>\n",
       "</div>"
      ],
      "text/plain": [
       "         listing_id        date available   price\n",
       "0            241032  2016-01-04         t  $85.00\n",
       "1            241032  2016-01-05         t  $85.00\n",
       "9            241032  2016-01-13         t  $85.00\n",
       "10           241032  2016-01-14         t  $85.00\n",
       "14           241032  2016-01-18         t  $85.00\n",
       "15           241032  2016-01-19         t  $85.00\n",
       "16           241032  2016-01-20         t  $85.00\n",
       "20           241032  2016-01-24         t  $85.00\n",
       "21           241032  2016-01-25         t  $85.00\n",
       "22           241032  2016-01-26         t  $85.00\n",
       "23           241032  2016-01-27         t  $85.00\n",
       "24           241032  2016-01-28         t  $85.00\n",
       "28           241032  2016-02-01         t  $85.00\n",
       "29           241032  2016-02-02         t  $85.00\n",
       "30           241032  2016-02-03         t  $85.00\n",
       "31           241032  2016-02-04         t  $85.00\n",
       "32           241032  2016-02-05         t  $85.00\n",
       "33           241032  2016-02-06         t  $85.00\n",
       "34           241032  2016-02-07         t  $85.00\n",
       "35           241032  2016-02-08         t  $85.00\n",
       "36           241032  2016-02-09         t  $85.00\n",
       "37           241032  2016-02-10         t  $85.00\n",
       "41           241032  2016-02-14         t  $85.00\n",
       "42           241032  2016-02-15         t  $85.00\n",
       "43           241032  2016-02-16         t  $85.00\n",
       "44           241032  2016-02-17         t  $85.00\n",
       "45           241032  2016-02-18         t  $85.00\n",
       "46           241032  2016-02-19         t  $85.00\n",
       "47           241032  2016-02-20         t  $85.00\n",
       "48           241032  2016-02-21         t  $85.00\n",
       "...             ...         ...       ...     ...\n",
       "1392996     9604740  2016-06-08         t  $99.00\n",
       "1392997     9604740  2016-06-09         t  $99.00\n",
       "1392998     9604740  2016-06-10         t  $99.00\n",
       "1392999     9604740  2016-06-11         t  $99.00\n",
       "1393000     9604740  2016-06-12         t  $99.00\n",
       "1393001     9604740  2016-06-13         t  $99.00\n",
       "1393002     9604740  2016-06-14         t  $99.00\n",
       "1393003     9604740  2016-06-15         t  $99.00\n",
       "1393004     9604740  2016-06-16         t  $99.00\n",
       "1393005     9604740  2016-06-17         t  $99.00\n",
       "1393006     9604740  2016-06-18         t  $99.00\n",
       "1393007     9604740  2016-06-19         t  $99.00\n",
       "1393008     9604740  2016-06-20         t  $99.00\n",
       "1393009     9604740  2016-06-21         t  $99.00\n",
       "1393010     9604740  2016-06-22         t  $99.00\n",
       "1393011     9604740  2016-06-23         t  $99.00\n",
       "1393012     9604740  2016-06-24         t  $99.00\n",
       "1393013     9604740  2016-06-25         t  $99.00\n",
       "1393014     9604740  2016-06-26         t  $99.00\n",
       "1393015     9604740  2016-06-27         t  $99.00\n",
       "1393016     9604740  2016-06-28         t  $99.00\n",
       "1393017     9604740  2016-06-29         t  $99.00\n",
       "1393018     9604740  2016-06-30         t  $99.00\n",
       "1393205    10208623  2016-01-04         t  $87.00\n",
       "1393206    10208623  2016-01-05         t  $87.00\n",
       "1393207    10208623  2016-01-06         t  $87.00\n",
       "1393208    10208623  2016-01-07         t  $87.00\n",
       "1393211    10208623  2016-01-10         t  $87.00\n",
       "1393212    10208623  2016-01-11         t  $87.00\n",
       "1393213    10208623  2016-01-12         t  $87.00\n",
       "\n",
       "[934542 rows x 4 columns]"
      ]
     },
     "execution_count": 54,
     "metadata": {},
     "output_type": "execute_result"
    }
   ],
   "source": [
    "calendar[calendar['available'].str.contains('t')] # checking for value T in the avaiable column. "
   ]
  },
  {
   "cell_type": "code",
   "execution_count": 55,
   "metadata": {},
   "outputs": [
    {
     "data": {
      "text/html": [
       "<div>\n",
       "<style scoped>\n",
       "    .dataframe tbody tr th:only-of-type {\n",
       "        vertical-align: middle;\n",
       "    }\n",
       "\n",
       "    .dataframe tbody tr th {\n",
       "        vertical-align: top;\n",
       "    }\n",
       "\n",
       "    .dataframe thead th {\n",
       "        text-align: right;\n",
       "    }\n",
       "</style>\n",
       "<table border=\"1\" class=\"dataframe\">\n",
       "  <thead>\n",
       "    <tr style=\"text-align: right;\">\n",
       "      <th></th>\n",
       "      <th>listing_id</th>\n",
       "      <th>date</th>\n",
       "      <th>available</th>\n",
       "      <th>price</th>\n",
       "    </tr>\n",
       "  </thead>\n",
       "  <tbody>\n",
       "    <tr>\n",
       "      <th>2</th>\n",
       "      <td>241032</td>\n",
       "      <td>2016-01-06</td>\n",
       "      <td>f</td>\n",
       "      <td>NaN</td>\n",
       "    </tr>\n",
       "    <tr>\n",
       "      <th>3</th>\n",
       "      <td>241032</td>\n",
       "      <td>2016-01-07</td>\n",
       "      <td>f</td>\n",
       "      <td>NaN</td>\n",
       "    </tr>\n",
       "    <tr>\n",
       "      <th>4</th>\n",
       "      <td>241032</td>\n",
       "      <td>2016-01-08</td>\n",
       "      <td>f</td>\n",
       "      <td>NaN</td>\n",
       "    </tr>\n",
       "    <tr>\n",
       "      <th>5</th>\n",
       "      <td>241032</td>\n",
       "      <td>2016-01-09</td>\n",
       "      <td>f</td>\n",
       "      <td>NaN</td>\n",
       "    </tr>\n",
       "    <tr>\n",
       "      <th>6</th>\n",
       "      <td>241032</td>\n",
       "      <td>2016-01-10</td>\n",
       "      <td>f</td>\n",
       "      <td>NaN</td>\n",
       "    </tr>\n",
       "    <tr>\n",
       "      <th>7</th>\n",
       "      <td>241032</td>\n",
       "      <td>2016-01-11</td>\n",
       "      <td>f</td>\n",
       "      <td>NaN</td>\n",
       "    </tr>\n",
       "    <tr>\n",
       "      <th>8</th>\n",
       "      <td>241032</td>\n",
       "      <td>2016-01-12</td>\n",
       "      <td>f</td>\n",
       "      <td>NaN</td>\n",
       "    </tr>\n",
       "    <tr>\n",
       "      <th>11</th>\n",
       "      <td>241032</td>\n",
       "      <td>2016-01-15</td>\n",
       "      <td>f</td>\n",
       "      <td>NaN</td>\n",
       "    </tr>\n",
       "    <tr>\n",
       "      <th>12</th>\n",
       "      <td>241032</td>\n",
       "      <td>2016-01-16</td>\n",
       "      <td>f</td>\n",
       "      <td>NaN</td>\n",
       "    </tr>\n",
       "    <tr>\n",
       "      <th>13</th>\n",
       "      <td>241032</td>\n",
       "      <td>2016-01-17</td>\n",
       "      <td>f</td>\n",
       "      <td>NaN</td>\n",
       "    </tr>\n",
       "    <tr>\n",
       "      <th>17</th>\n",
       "      <td>241032</td>\n",
       "      <td>2016-01-21</td>\n",
       "      <td>f</td>\n",
       "      <td>NaN</td>\n",
       "    </tr>\n",
       "    <tr>\n",
       "      <th>18</th>\n",
       "      <td>241032</td>\n",
       "      <td>2016-01-22</td>\n",
       "      <td>f</td>\n",
       "      <td>NaN</td>\n",
       "    </tr>\n",
       "    <tr>\n",
       "      <th>19</th>\n",
       "      <td>241032</td>\n",
       "      <td>2016-01-23</td>\n",
       "      <td>f</td>\n",
       "      <td>NaN</td>\n",
       "    </tr>\n",
       "    <tr>\n",
       "      <th>25</th>\n",
       "      <td>241032</td>\n",
       "      <td>2016-01-29</td>\n",
       "      <td>f</td>\n",
       "      <td>NaN</td>\n",
       "    </tr>\n",
       "    <tr>\n",
       "      <th>26</th>\n",
       "      <td>241032</td>\n",
       "      <td>2016-01-30</td>\n",
       "      <td>f</td>\n",
       "      <td>NaN</td>\n",
       "    </tr>\n",
       "    <tr>\n",
       "      <th>27</th>\n",
       "      <td>241032</td>\n",
       "      <td>2016-01-31</td>\n",
       "      <td>f</td>\n",
       "      <td>NaN</td>\n",
       "    </tr>\n",
       "    <tr>\n",
       "      <th>38</th>\n",
       "      <td>241032</td>\n",
       "      <td>2016-02-11</td>\n",
       "      <td>f</td>\n",
       "      <td>NaN</td>\n",
       "    </tr>\n",
       "    <tr>\n",
       "      <th>39</th>\n",
       "      <td>241032</td>\n",
       "      <td>2016-02-12</td>\n",
       "      <td>f</td>\n",
       "      <td>NaN</td>\n",
       "    </tr>\n",
       "    <tr>\n",
       "      <th>40</th>\n",
       "      <td>241032</td>\n",
       "      <td>2016-02-13</td>\n",
       "      <td>f</td>\n",
       "      <td>NaN</td>\n",
       "    </tr>\n",
       "    <tr>\n",
       "      <th>367</th>\n",
       "      <td>953595</td>\n",
       "      <td>2016-01-06</td>\n",
       "      <td>f</td>\n",
       "      <td>NaN</td>\n",
       "    </tr>\n",
       "    <tr>\n",
       "      <th>368</th>\n",
       "      <td>953595</td>\n",
       "      <td>2016-01-07</td>\n",
       "      <td>f</td>\n",
       "      <td>NaN</td>\n",
       "    </tr>\n",
       "    <tr>\n",
       "      <th>369</th>\n",
       "      <td>953595</td>\n",
       "      <td>2016-01-08</td>\n",
       "      <td>f</td>\n",
       "      <td>NaN</td>\n",
       "    </tr>\n",
       "    <tr>\n",
       "      <th>376</th>\n",
       "      <td>953595</td>\n",
       "      <td>2016-01-15</td>\n",
       "      <td>f</td>\n",
       "      <td>NaN</td>\n",
       "    </tr>\n",
       "    <tr>\n",
       "      <th>377</th>\n",
       "      <td>953595</td>\n",
       "      <td>2016-01-16</td>\n",
       "      <td>f</td>\n",
       "      <td>NaN</td>\n",
       "    </tr>\n",
       "    <tr>\n",
       "      <th>378</th>\n",
       "      <td>953595</td>\n",
       "      <td>2016-01-17</td>\n",
       "      <td>f</td>\n",
       "      <td>NaN</td>\n",
       "    </tr>\n",
       "    <tr>\n",
       "      <th>380</th>\n",
       "      <td>953595</td>\n",
       "      <td>2016-01-19</td>\n",
       "      <td>f</td>\n",
       "      <td>NaN</td>\n",
       "    </tr>\n",
       "    <tr>\n",
       "      <th>381</th>\n",
       "      <td>953595</td>\n",
       "      <td>2016-01-20</td>\n",
       "      <td>f</td>\n",
       "      <td>NaN</td>\n",
       "    </tr>\n",
       "    <tr>\n",
       "      <th>382</th>\n",
       "      <td>953595</td>\n",
       "      <td>2016-01-21</td>\n",
       "      <td>f</td>\n",
       "      <td>NaN</td>\n",
       "    </tr>\n",
       "    <tr>\n",
       "      <th>383</th>\n",
       "      <td>953595</td>\n",
       "      <td>2016-01-22</td>\n",
       "      <td>f</td>\n",
       "      <td>NaN</td>\n",
       "    </tr>\n",
       "    <tr>\n",
       "      <th>384</th>\n",
       "      <td>953595</td>\n",
       "      <td>2016-01-23</td>\n",
       "      <td>f</td>\n",
       "      <td>NaN</td>\n",
       "    </tr>\n",
       "    <tr>\n",
       "      <th>...</th>\n",
       "      <td>...</td>\n",
       "      <td>...</td>\n",
       "      <td>...</td>\n",
       "      <td>...</td>\n",
       "    </tr>\n",
       "    <tr>\n",
       "      <th>1393540</th>\n",
       "      <td>10208623</td>\n",
       "      <td>2016-12-04</td>\n",
       "      <td>f</td>\n",
       "      <td>NaN</td>\n",
       "    </tr>\n",
       "    <tr>\n",
       "      <th>1393541</th>\n",
       "      <td>10208623</td>\n",
       "      <td>2016-12-05</td>\n",
       "      <td>f</td>\n",
       "      <td>NaN</td>\n",
       "    </tr>\n",
       "    <tr>\n",
       "      <th>1393542</th>\n",
       "      <td>10208623</td>\n",
       "      <td>2016-12-06</td>\n",
       "      <td>f</td>\n",
       "      <td>NaN</td>\n",
       "    </tr>\n",
       "    <tr>\n",
       "      <th>1393543</th>\n",
       "      <td>10208623</td>\n",
       "      <td>2016-12-07</td>\n",
       "      <td>f</td>\n",
       "      <td>NaN</td>\n",
       "    </tr>\n",
       "    <tr>\n",
       "      <th>1393544</th>\n",
       "      <td>10208623</td>\n",
       "      <td>2016-12-08</td>\n",
       "      <td>f</td>\n",
       "      <td>NaN</td>\n",
       "    </tr>\n",
       "    <tr>\n",
       "      <th>1393545</th>\n",
       "      <td>10208623</td>\n",
       "      <td>2016-12-09</td>\n",
       "      <td>f</td>\n",
       "      <td>NaN</td>\n",
       "    </tr>\n",
       "    <tr>\n",
       "      <th>1393546</th>\n",
       "      <td>10208623</td>\n",
       "      <td>2016-12-10</td>\n",
       "      <td>f</td>\n",
       "      <td>NaN</td>\n",
       "    </tr>\n",
       "    <tr>\n",
       "      <th>1393547</th>\n",
       "      <td>10208623</td>\n",
       "      <td>2016-12-11</td>\n",
       "      <td>f</td>\n",
       "      <td>NaN</td>\n",
       "    </tr>\n",
       "    <tr>\n",
       "      <th>1393548</th>\n",
       "      <td>10208623</td>\n",
       "      <td>2016-12-12</td>\n",
       "      <td>f</td>\n",
       "      <td>NaN</td>\n",
       "    </tr>\n",
       "    <tr>\n",
       "      <th>1393549</th>\n",
       "      <td>10208623</td>\n",
       "      <td>2016-12-13</td>\n",
       "      <td>f</td>\n",
       "      <td>NaN</td>\n",
       "    </tr>\n",
       "    <tr>\n",
       "      <th>1393550</th>\n",
       "      <td>10208623</td>\n",
       "      <td>2016-12-14</td>\n",
       "      <td>f</td>\n",
       "      <td>NaN</td>\n",
       "    </tr>\n",
       "    <tr>\n",
       "      <th>1393551</th>\n",
       "      <td>10208623</td>\n",
       "      <td>2016-12-15</td>\n",
       "      <td>f</td>\n",
       "      <td>NaN</td>\n",
       "    </tr>\n",
       "    <tr>\n",
       "      <th>1393552</th>\n",
       "      <td>10208623</td>\n",
       "      <td>2016-12-16</td>\n",
       "      <td>f</td>\n",
       "      <td>NaN</td>\n",
       "    </tr>\n",
       "    <tr>\n",
       "      <th>1393553</th>\n",
       "      <td>10208623</td>\n",
       "      <td>2016-12-17</td>\n",
       "      <td>f</td>\n",
       "      <td>NaN</td>\n",
       "    </tr>\n",
       "    <tr>\n",
       "      <th>1393554</th>\n",
       "      <td>10208623</td>\n",
       "      <td>2016-12-18</td>\n",
       "      <td>f</td>\n",
       "      <td>NaN</td>\n",
       "    </tr>\n",
       "    <tr>\n",
       "      <th>1393555</th>\n",
       "      <td>10208623</td>\n",
       "      <td>2016-12-19</td>\n",
       "      <td>f</td>\n",
       "      <td>NaN</td>\n",
       "    </tr>\n",
       "    <tr>\n",
       "      <th>1393556</th>\n",
       "      <td>10208623</td>\n",
       "      <td>2016-12-20</td>\n",
       "      <td>f</td>\n",
       "      <td>NaN</td>\n",
       "    </tr>\n",
       "    <tr>\n",
       "      <th>1393557</th>\n",
       "      <td>10208623</td>\n",
       "      <td>2016-12-21</td>\n",
       "      <td>f</td>\n",
       "      <td>NaN</td>\n",
       "    </tr>\n",
       "    <tr>\n",
       "      <th>1393558</th>\n",
       "      <td>10208623</td>\n",
       "      <td>2016-12-22</td>\n",
       "      <td>f</td>\n",
       "      <td>NaN</td>\n",
       "    </tr>\n",
       "    <tr>\n",
       "      <th>1393559</th>\n",
       "      <td>10208623</td>\n",
       "      <td>2016-12-23</td>\n",
       "      <td>f</td>\n",
       "      <td>NaN</td>\n",
       "    </tr>\n",
       "    <tr>\n",
       "      <th>1393560</th>\n",
       "      <td>10208623</td>\n",
       "      <td>2016-12-24</td>\n",
       "      <td>f</td>\n",
       "      <td>NaN</td>\n",
       "    </tr>\n",
       "    <tr>\n",
       "      <th>1393561</th>\n",
       "      <td>10208623</td>\n",
       "      <td>2016-12-25</td>\n",
       "      <td>f</td>\n",
       "      <td>NaN</td>\n",
       "    </tr>\n",
       "    <tr>\n",
       "      <th>1393562</th>\n",
       "      <td>10208623</td>\n",
       "      <td>2016-12-26</td>\n",
       "      <td>f</td>\n",
       "      <td>NaN</td>\n",
       "    </tr>\n",
       "    <tr>\n",
       "      <th>1393563</th>\n",
       "      <td>10208623</td>\n",
       "      <td>2016-12-27</td>\n",
       "      <td>f</td>\n",
       "      <td>NaN</td>\n",
       "    </tr>\n",
       "    <tr>\n",
       "      <th>1393564</th>\n",
       "      <td>10208623</td>\n",
       "      <td>2016-12-28</td>\n",
       "      <td>f</td>\n",
       "      <td>NaN</td>\n",
       "    </tr>\n",
       "    <tr>\n",
       "      <th>1393565</th>\n",
       "      <td>10208623</td>\n",
       "      <td>2016-12-29</td>\n",
       "      <td>f</td>\n",
       "      <td>NaN</td>\n",
       "    </tr>\n",
       "    <tr>\n",
       "      <th>1393566</th>\n",
       "      <td>10208623</td>\n",
       "      <td>2016-12-30</td>\n",
       "      <td>f</td>\n",
       "      <td>NaN</td>\n",
       "    </tr>\n",
       "    <tr>\n",
       "      <th>1393567</th>\n",
       "      <td>10208623</td>\n",
       "      <td>2016-12-31</td>\n",
       "      <td>f</td>\n",
       "      <td>NaN</td>\n",
       "    </tr>\n",
       "    <tr>\n",
       "      <th>1393568</th>\n",
       "      <td>10208623</td>\n",
       "      <td>2017-01-01</td>\n",
       "      <td>f</td>\n",
       "      <td>NaN</td>\n",
       "    </tr>\n",
       "    <tr>\n",
       "      <th>1393569</th>\n",
       "      <td>10208623</td>\n",
       "      <td>2017-01-02</td>\n",
       "      <td>f</td>\n",
       "      <td>NaN</td>\n",
       "    </tr>\n",
       "  </tbody>\n",
       "</table>\n",
       "<p>459028 rows × 4 columns</p>\n",
       "</div>"
      ],
      "text/plain": [
       "         listing_id        date available price\n",
       "2            241032  2016-01-06         f   NaN\n",
       "3            241032  2016-01-07         f   NaN\n",
       "4            241032  2016-01-08         f   NaN\n",
       "5            241032  2016-01-09         f   NaN\n",
       "6            241032  2016-01-10         f   NaN\n",
       "7            241032  2016-01-11         f   NaN\n",
       "8            241032  2016-01-12         f   NaN\n",
       "11           241032  2016-01-15         f   NaN\n",
       "12           241032  2016-01-16         f   NaN\n",
       "13           241032  2016-01-17         f   NaN\n",
       "17           241032  2016-01-21         f   NaN\n",
       "18           241032  2016-01-22         f   NaN\n",
       "19           241032  2016-01-23         f   NaN\n",
       "25           241032  2016-01-29         f   NaN\n",
       "26           241032  2016-01-30         f   NaN\n",
       "27           241032  2016-01-31         f   NaN\n",
       "38           241032  2016-02-11         f   NaN\n",
       "39           241032  2016-02-12         f   NaN\n",
       "40           241032  2016-02-13         f   NaN\n",
       "367          953595  2016-01-06         f   NaN\n",
       "368          953595  2016-01-07         f   NaN\n",
       "369          953595  2016-01-08         f   NaN\n",
       "376          953595  2016-01-15         f   NaN\n",
       "377          953595  2016-01-16         f   NaN\n",
       "378          953595  2016-01-17         f   NaN\n",
       "380          953595  2016-01-19         f   NaN\n",
       "381          953595  2016-01-20         f   NaN\n",
       "382          953595  2016-01-21         f   NaN\n",
       "383          953595  2016-01-22         f   NaN\n",
       "384          953595  2016-01-23         f   NaN\n",
       "...             ...         ...       ...   ...\n",
       "1393540    10208623  2016-12-04         f   NaN\n",
       "1393541    10208623  2016-12-05         f   NaN\n",
       "1393542    10208623  2016-12-06         f   NaN\n",
       "1393543    10208623  2016-12-07         f   NaN\n",
       "1393544    10208623  2016-12-08         f   NaN\n",
       "1393545    10208623  2016-12-09         f   NaN\n",
       "1393546    10208623  2016-12-10         f   NaN\n",
       "1393547    10208623  2016-12-11         f   NaN\n",
       "1393548    10208623  2016-12-12         f   NaN\n",
       "1393549    10208623  2016-12-13         f   NaN\n",
       "1393550    10208623  2016-12-14         f   NaN\n",
       "1393551    10208623  2016-12-15         f   NaN\n",
       "1393552    10208623  2016-12-16         f   NaN\n",
       "1393553    10208623  2016-12-17         f   NaN\n",
       "1393554    10208623  2016-12-18         f   NaN\n",
       "1393555    10208623  2016-12-19         f   NaN\n",
       "1393556    10208623  2016-12-20         f   NaN\n",
       "1393557    10208623  2016-12-21         f   NaN\n",
       "1393558    10208623  2016-12-22         f   NaN\n",
       "1393559    10208623  2016-12-23         f   NaN\n",
       "1393560    10208623  2016-12-24         f   NaN\n",
       "1393561    10208623  2016-12-25         f   NaN\n",
       "1393562    10208623  2016-12-26         f   NaN\n",
       "1393563    10208623  2016-12-27         f   NaN\n",
       "1393564    10208623  2016-12-28         f   NaN\n",
       "1393565    10208623  2016-12-29         f   NaN\n",
       "1393566    10208623  2016-12-30         f   NaN\n",
       "1393567    10208623  2016-12-31         f   NaN\n",
       "1393568    10208623  2017-01-01         f   NaN\n",
       "1393569    10208623  2017-01-02         f   NaN\n",
       "\n",
       "[459028 rows x 4 columns]"
      ]
     },
     "execution_count": 55,
     "metadata": {},
     "output_type": "execute_result"
    }
   ],
   "source": [
    "calendar[calendar['available'].str.contains('f')] # checking for value f in the avaiable column. "
   ]
  },
  {
   "cell_type": "markdown",
   "metadata": {},
   "source": [
    "#### Listings Data Set"
   ]
  },
  {
   "cell_type": "markdown",
   "metadata": {},
   "source": [
    "#### Checking Data set Structure"
   ]
  },
  {
   "cell_type": "code",
   "execution_count": 56,
   "metadata": {},
   "outputs": [
    {
     "data": {
      "text/plain": [
       "(3818, 92)"
      ]
     },
     "execution_count": 56,
     "metadata": {},
     "output_type": "execute_result"
    }
   ],
   "source": [
    "listings.shape # Access Data"
   ]
  },
  {
   "cell_type": "markdown",
   "metadata": {},
   "source": [
    "The listing data set contains 3818 rows and 92 columns "
   ]
  },
  {
   "cell_type": "code",
   "execution_count": 57,
   "metadata": {},
   "outputs": [
    {
     "name": "stdout",
     "output_type": "stream",
     "text": [
      "<class 'pandas.core.frame.DataFrame'>\n",
      "RangeIndex: 3818 entries, 0 to 3817\n",
      "Data columns (total 92 columns):\n",
      "id                                  3818 non-null int64\n",
      "listing_url                         3818 non-null object\n",
      "scrape_id                           3818 non-null int64\n",
      "last_scraped                        3818 non-null object\n",
      "name                                3818 non-null object\n",
      "summary                             3641 non-null object\n",
      "space                               3249 non-null object\n",
      "description                         3818 non-null object\n",
      "experiences_offered                 3818 non-null object\n",
      "neighborhood_overview               2786 non-null object\n",
      "notes                               2212 non-null object\n",
      "transit                             2884 non-null object\n",
      "thumbnail_url                       3498 non-null object\n",
      "medium_url                          3498 non-null object\n",
      "picture_url                         3818 non-null object\n",
      "xl_picture_url                      3498 non-null object\n",
      "host_id                             3818 non-null int64\n",
      "host_url                            3818 non-null object\n",
      "host_name                           3816 non-null object\n",
      "host_since                          3816 non-null object\n",
      "host_location                       3810 non-null object\n",
      "host_about                          2959 non-null object\n",
      "host_response_time                  3295 non-null object\n",
      "host_response_rate                  3295 non-null object\n",
      "host_acceptance_rate                3045 non-null object\n",
      "host_is_superhost                   3816 non-null object\n",
      "host_thumbnail_url                  3816 non-null object\n",
      "host_picture_url                    3816 non-null object\n",
      "host_neighbourhood                  3518 non-null object\n",
      "host_listings_count                 3816 non-null float64\n",
      "host_total_listings_count           3816 non-null float64\n",
      "host_verifications                  3818 non-null object\n",
      "host_has_profile_pic                3816 non-null object\n",
      "host_identity_verified              3816 non-null object\n",
      "street                              3818 non-null object\n",
      "neighbourhood                       3402 non-null object\n",
      "neighbourhood_cleansed              3818 non-null object\n",
      "neighbourhood_group_cleansed        3818 non-null object\n",
      "city                                3818 non-null object\n",
      "state                               3818 non-null object\n",
      "zipcode                             3811 non-null object\n",
      "market                              3818 non-null object\n",
      "smart_location                      3818 non-null object\n",
      "country_code                        3818 non-null object\n",
      "country                             3818 non-null object\n",
      "latitude                            3818 non-null float64\n",
      "longitude                           3818 non-null float64\n",
      "is_location_exact                   3818 non-null object\n",
      "property_type                       3817 non-null object\n",
      "room_type                           3818 non-null object\n",
      "accommodates                        3818 non-null int64\n",
      "bathrooms                           3802 non-null float64\n",
      "bedrooms                            3812 non-null float64\n",
      "beds                                3817 non-null float64\n",
      "bed_type                            3818 non-null object\n",
      "amenities                           3818 non-null object\n",
      "square_feet                         97 non-null float64\n",
      "price                               3818 non-null object\n",
      "weekly_price                        2009 non-null object\n",
      "monthly_price                       1517 non-null object\n",
      "security_deposit                    1866 non-null object\n",
      "cleaning_fee                        2788 non-null object\n",
      "guests_included                     3818 non-null int64\n",
      "extra_people                        3818 non-null object\n",
      "minimum_nights                      3818 non-null int64\n",
      "maximum_nights                      3818 non-null int64\n",
      "calendar_updated                    3818 non-null object\n",
      "has_availability                    3818 non-null object\n",
      "availability_30                     3818 non-null int64\n",
      "availability_60                     3818 non-null int64\n",
      "availability_90                     3818 non-null int64\n",
      "availability_365                    3818 non-null int64\n",
      "calendar_last_scraped               3818 non-null object\n",
      "number_of_reviews                   3818 non-null int64\n",
      "first_review                        3191 non-null object\n",
      "last_review                         3191 non-null object\n",
      "review_scores_rating                3171 non-null float64\n",
      "review_scores_accuracy              3160 non-null float64\n",
      "review_scores_cleanliness           3165 non-null float64\n",
      "review_scores_checkin               3160 non-null float64\n",
      "review_scores_communication         3167 non-null float64\n",
      "review_scores_location              3163 non-null float64\n",
      "review_scores_value                 3162 non-null float64\n",
      "requires_license                    3818 non-null object\n",
      "license                             0 non-null float64\n",
      "jurisdiction_names                  3818 non-null object\n",
      "instant_bookable                    3818 non-null object\n",
      "cancellation_policy                 3818 non-null object\n",
      "require_guest_profile_picture       3818 non-null object\n",
      "require_guest_phone_verification    3818 non-null object\n",
      "calculated_host_listings_count      3818 non-null int64\n",
      "reviews_per_month                   3191 non-null float64\n",
      "dtypes: float64(17), int64(13), object(62)\n",
      "memory usage: 2.7+ MB\n"
     ]
    }
   ],
   "source": [
    "listings.info() # Access Data"
   ]
  },
  {
   "cell_type": "markdown",
   "metadata": {},
   "source": [
    "#### Basic Statistics"
   ]
  },
  {
   "cell_type": "code",
   "execution_count": 58,
   "metadata": {},
   "outputs": [
    {
     "data": {
      "text/html": [
       "<div>\n",
       "<style scoped>\n",
       "    .dataframe tbody tr th:only-of-type {\n",
       "        vertical-align: middle;\n",
       "    }\n",
       "\n",
       "    .dataframe tbody tr th {\n",
       "        vertical-align: top;\n",
       "    }\n",
       "\n",
       "    .dataframe thead th {\n",
       "        text-align: right;\n",
       "    }\n",
       "</style>\n",
       "<table border=\"1\" class=\"dataframe\">\n",
       "  <thead>\n",
       "    <tr style=\"text-align: right;\">\n",
       "      <th></th>\n",
       "      <th>id</th>\n",
       "      <th>scrape_id</th>\n",
       "      <th>host_id</th>\n",
       "      <th>host_listings_count</th>\n",
       "      <th>host_total_listings_count</th>\n",
       "      <th>latitude</th>\n",
       "      <th>longitude</th>\n",
       "      <th>accommodates</th>\n",
       "      <th>bathrooms</th>\n",
       "      <th>bedrooms</th>\n",
       "      <th>...</th>\n",
       "      <th>review_scores_rating</th>\n",
       "      <th>review_scores_accuracy</th>\n",
       "      <th>review_scores_cleanliness</th>\n",
       "      <th>review_scores_checkin</th>\n",
       "      <th>review_scores_communication</th>\n",
       "      <th>review_scores_location</th>\n",
       "      <th>review_scores_value</th>\n",
       "      <th>license</th>\n",
       "      <th>calculated_host_listings_count</th>\n",
       "      <th>reviews_per_month</th>\n",
       "    </tr>\n",
       "  </thead>\n",
       "  <tbody>\n",
       "    <tr>\n",
       "      <th>count</th>\n",
       "      <td>3.818000e+03</td>\n",
       "      <td>3.818000e+03</td>\n",
       "      <td>3.818000e+03</td>\n",
       "      <td>3816.000000</td>\n",
       "      <td>3816.000000</td>\n",
       "      <td>3818.000000</td>\n",
       "      <td>3818.000000</td>\n",
       "      <td>3818.000000</td>\n",
       "      <td>3802.000000</td>\n",
       "      <td>3812.000000</td>\n",
       "      <td>...</td>\n",
       "      <td>3171.000000</td>\n",
       "      <td>3160.000000</td>\n",
       "      <td>3165.000000</td>\n",
       "      <td>3160.000000</td>\n",
       "      <td>3167.000000</td>\n",
       "      <td>3163.000000</td>\n",
       "      <td>3162.000000</td>\n",
       "      <td>0.0</td>\n",
       "      <td>3818.000000</td>\n",
       "      <td>3191.000000</td>\n",
       "    </tr>\n",
       "    <tr>\n",
       "      <th>mean</th>\n",
       "      <td>5.550111e+06</td>\n",
       "      <td>2.016010e+13</td>\n",
       "      <td>1.578556e+07</td>\n",
       "      <td>7.157757</td>\n",
       "      <td>7.157757</td>\n",
       "      <td>47.628961</td>\n",
       "      <td>-122.333103</td>\n",
       "      <td>3.349398</td>\n",
       "      <td>1.259469</td>\n",
       "      <td>1.307712</td>\n",
       "      <td>...</td>\n",
       "      <td>94.539262</td>\n",
       "      <td>9.636392</td>\n",
       "      <td>9.556398</td>\n",
       "      <td>9.786709</td>\n",
       "      <td>9.809599</td>\n",
       "      <td>9.608916</td>\n",
       "      <td>9.452245</td>\n",
       "      <td>NaN</td>\n",
       "      <td>2.946307</td>\n",
       "      <td>2.078919</td>\n",
       "    </tr>\n",
       "    <tr>\n",
       "      <th>std</th>\n",
       "      <td>2.962660e+06</td>\n",
       "      <td>0.000000e+00</td>\n",
       "      <td>1.458382e+07</td>\n",
       "      <td>28.628149</td>\n",
       "      <td>28.628149</td>\n",
       "      <td>0.043052</td>\n",
       "      <td>0.031745</td>\n",
       "      <td>1.977599</td>\n",
       "      <td>0.590369</td>\n",
       "      <td>0.883395</td>\n",
       "      <td>...</td>\n",
       "      <td>6.606083</td>\n",
       "      <td>0.698031</td>\n",
       "      <td>0.797274</td>\n",
       "      <td>0.595499</td>\n",
       "      <td>0.568211</td>\n",
       "      <td>0.629053</td>\n",
       "      <td>0.750259</td>\n",
       "      <td>NaN</td>\n",
       "      <td>5.893029</td>\n",
       "      <td>1.822348</td>\n",
       "    </tr>\n",
       "    <tr>\n",
       "      <th>min</th>\n",
       "      <td>3.335000e+03</td>\n",
       "      <td>2.016010e+13</td>\n",
       "      <td>4.193000e+03</td>\n",
       "      <td>1.000000</td>\n",
       "      <td>1.000000</td>\n",
       "      <td>47.505088</td>\n",
       "      <td>-122.417219</td>\n",
       "      <td>1.000000</td>\n",
       "      <td>0.000000</td>\n",
       "      <td>0.000000</td>\n",
       "      <td>...</td>\n",
       "      <td>20.000000</td>\n",
       "      <td>2.000000</td>\n",
       "      <td>3.000000</td>\n",
       "      <td>2.000000</td>\n",
       "      <td>2.000000</td>\n",
       "      <td>4.000000</td>\n",
       "      <td>2.000000</td>\n",
       "      <td>NaN</td>\n",
       "      <td>1.000000</td>\n",
       "      <td>0.020000</td>\n",
       "    </tr>\n",
       "    <tr>\n",
       "      <th>25%</th>\n",
       "      <td>3.258256e+06</td>\n",
       "      <td>2.016010e+13</td>\n",
       "      <td>3.275204e+06</td>\n",
       "      <td>1.000000</td>\n",
       "      <td>1.000000</td>\n",
       "      <td>47.609418</td>\n",
       "      <td>-122.354320</td>\n",
       "      <td>2.000000</td>\n",
       "      <td>1.000000</td>\n",
       "      <td>1.000000</td>\n",
       "      <td>...</td>\n",
       "      <td>93.000000</td>\n",
       "      <td>9.000000</td>\n",
       "      <td>9.000000</td>\n",
       "      <td>10.000000</td>\n",
       "      <td>10.000000</td>\n",
       "      <td>9.000000</td>\n",
       "      <td>9.000000</td>\n",
       "      <td>NaN</td>\n",
       "      <td>1.000000</td>\n",
       "      <td>0.695000</td>\n",
       "    </tr>\n",
       "    <tr>\n",
       "      <th>50%</th>\n",
       "      <td>6.118244e+06</td>\n",
       "      <td>2.016010e+13</td>\n",
       "      <td>1.055814e+07</td>\n",
       "      <td>1.000000</td>\n",
       "      <td>1.000000</td>\n",
       "      <td>47.623601</td>\n",
       "      <td>-122.328874</td>\n",
       "      <td>3.000000</td>\n",
       "      <td>1.000000</td>\n",
       "      <td>1.000000</td>\n",
       "      <td>...</td>\n",
       "      <td>96.000000</td>\n",
       "      <td>10.000000</td>\n",
       "      <td>10.000000</td>\n",
       "      <td>10.000000</td>\n",
       "      <td>10.000000</td>\n",
       "      <td>10.000000</td>\n",
       "      <td>10.000000</td>\n",
       "      <td>NaN</td>\n",
       "      <td>1.000000</td>\n",
       "      <td>1.540000</td>\n",
       "    </tr>\n",
       "    <tr>\n",
       "      <th>75%</th>\n",
       "      <td>8.035127e+06</td>\n",
       "      <td>2.016010e+13</td>\n",
       "      <td>2.590309e+07</td>\n",
       "      <td>3.000000</td>\n",
       "      <td>3.000000</td>\n",
       "      <td>47.662694</td>\n",
       "      <td>-122.310800</td>\n",
       "      <td>4.000000</td>\n",
       "      <td>1.000000</td>\n",
       "      <td>2.000000</td>\n",
       "      <td>...</td>\n",
       "      <td>99.000000</td>\n",
       "      <td>10.000000</td>\n",
       "      <td>10.000000</td>\n",
       "      <td>10.000000</td>\n",
       "      <td>10.000000</td>\n",
       "      <td>10.000000</td>\n",
       "      <td>10.000000</td>\n",
       "      <td>NaN</td>\n",
       "      <td>2.000000</td>\n",
       "      <td>3.000000</td>\n",
       "    </tr>\n",
       "    <tr>\n",
       "      <th>max</th>\n",
       "      <td>1.034016e+07</td>\n",
       "      <td>2.016010e+13</td>\n",
       "      <td>5.320861e+07</td>\n",
       "      <td>502.000000</td>\n",
       "      <td>502.000000</td>\n",
       "      <td>47.733358</td>\n",
       "      <td>-122.240607</td>\n",
       "      <td>16.000000</td>\n",
       "      <td>8.000000</td>\n",
       "      <td>7.000000</td>\n",
       "      <td>...</td>\n",
       "      <td>100.000000</td>\n",
       "      <td>10.000000</td>\n",
       "      <td>10.000000</td>\n",
       "      <td>10.000000</td>\n",
       "      <td>10.000000</td>\n",
       "      <td>10.000000</td>\n",
       "      <td>10.000000</td>\n",
       "      <td>NaN</td>\n",
       "      <td>37.000000</td>\n",
       "      <td>12.150000</td>\n",
       "    </tr>\n",
       "  </tbody>\n",
       "</table>\n",
       "<p>8 rows × 30 columns</p>\n",
       "</div>"
      ],
      "text/plain": [
       "                 id     scrape_id       host_id  host_listings_count  \\\n",
       "count  3.818000e+03  3.818000e+03  3.818000e+03          3816.000000   \n",
       "mean   5.550111e+06  2.016010e+13  1.578556e+07             7.157757   \n",
       "std    2.962660e+06  0.000000e+00  1.458382e+07            28.628149   \n",
       "min    3.335000e+03  2.016010e+13  4.193000e+03             1.000000   \n",
       "25%    3.258256e+06  2.016010e+13  3.275204e+06             1.000000   \n",
       "50%    6.118244e+06  2.016010e+13  1.055814e+07             1.000000   \n",
       "75%    8.035127e+06  2.016010e+13  2.590309e+07             3.000000   \n",
       "max    1.034016e+07  2.016010e+13  5.320861e+07           502.000000   \n",
       "\n",
       "       host_total_listings_count     latitude    longitude  accommodates  \\\n",
       "count                3816.000000  3818.000000  3818.000000   3818.000000   \n",
       "mean                    7.157757    47.628961  -122.333103      3.349398   \n",
       "std                    28.628149     0.043052     0.031745      1.977599   \n",
       "min                     1.000000    47.505088  -122.417219      1.000000   \n",
       "25%                     1.000000    47.609418  -122.354320      2.000000   \n",
       "50%                     1.000000    47.623601  -122.328874      3.000000   \n",
       "75%                     3.000000    47.662694  -122.310800      4.000000   \n",
       "max                   502.000000    47.733358  -122.240607     16.000000   \n",
       "\n",
       "         bathrooms     bedrooms  ...  review_scores_rating  \\\n",
       "count  3802.000000  3812.000000  ...           3171.000000   \n",
       "mean      1.259469     1.307712  ...             94.539262   \n",
       "std       0.590369     0.883395  ...              6.606083   \n",
       "min       0.000000     0.000000  ...             20.000000   \n",
       "25%       1.000000     1.000000  ...             93.000000   \n",
       "50%       1.000000     1.000000  ...             96.000000   \n",
       "75%       1.000000     2.000000  ...             99.000000   \n",
       "max       8.000000     7.000000  ...            100.000000   \n",
       "\n",
       "       review_scores_accuracy  review_scores_cleanliness  \\\n",
       "count             3160.000000                3165.000000   \n",
       "mean                 9.636392                   9.556398   \n",
       "std                  0.698031                   0.797274   \n",
       "min                  2.000000                   3.000000   \n",
       "25%                  9.000000                   9.000000   \n",
       "50%                 10.000000                  10.000000   \n",
       "75%                 10.000000                  10.000000   \n",
       "max                 10.000000                  10.000000   \n",
       "\n",
       "       review_scores_checkin  review_scores_communication  \\\n",
       "count            3160.000000                  3167.000000   \n",
       "mean                9.786709                     9.809599   \n",
       "std                 0.595499                     0.568211   \n",
       "min                 2.000000                     2.000000   \n",
       "25%                10.000000                    10.000000   \n",
       "50%                10.000000                    10.000000   \n",
       "75%                10.000000                    10.000000   \n",
       "max                10.000000                    10.000000   \n",
       "\n",
       "       review_scores_location  review_scores_value  license  \\\n",
       "count             3163.000000          3162.000000      0.0   \n",
       "mean                 9.608916             9.452245      NaN   \n",
       "std                  0.629053             0.750259      NaN   \n",
       "min                  4.000000             2.000000      NaN   \n",
       "25%                  9.000000             9.000000      NaN   \n",
       "50%                 10.000000            10.000000      NaN   \n",
       "75%                 10.000000            10.000000      NaN   \n",
       "max                 10.000000            10.000000      NaN   \n",
       "\n",
       "       calculated_host_listings_count  reviews_per_month  \n",
       "count                     3818.000000        3191.000000  \n",
       "mean                         2.946307           2.078919  \n",
       "std                          5.893029           1.822348  \n",
       "min                          1.000000           0.020000  \n",
       "25%                          1.000000           0.695000  \n",
       "50%                          1.000000           1.540000  \n",
       "75%                          2.000000           3.000000  \n",
       "max                         37.000000          12.150000  \n",
       "\n",
       "[8 rows x 30 columns]"
      ]
     },
     "execution_count": 58,
     "metadata": {},
     "output_type": "execute_result"
    }
   ],
   "source": [
    "listings.describe() # Basic Statistics"
   ]
  },
  {
   "cell_type": "code",
   "execution_count": 59,
   "metadata": {},
   "outputs": [
    {
     "data": {
      "text/plain": [
       "'$1,000.00'"
      ]
     },
     "execution_count": 59,
     "metadata": {},
     "output_type": "execute_result"
    }
   ],
   "source": [
    "listings['price'].min() # checking for min price. "
   ]
  },
  {
   "cell_type": "code",
   "execution_count": 60,
   "metadata": {},
   "outputs": [
    {
     "data": {
      "text/plain": [
       "'$999.00'"
      ]
     },
     "execution_count": 60,
     "metadata": {},
     "output_type": "execute_result"
    }
   ],
   "source": [
    "listings['price'].max() # checking for max price. "
   ]
  },
  {
   "cell_type": "markdown",
   "metadata": {},
   "source": [
    "##### Checking for Missing Values"
   ]
  },
  {
   "cell_type": "code",
   "execution_count": 61,
   "metadata": {},
   "outputs": [
    {
     "data": {
      "text/plain": [
       "license                             3818\n",
       "square_feet                         3721\n",
       "monthly_price                       2301\n",
       "security_deposit                    1952\n",
       "weekly_price                        1809\n",
       "notes                               1606\n",
       "neighborhood_overview               1032\n",
       "cleaning_fee                        1030\n",
       "transit                              934\n",
       "host_about                           859\n",
       "host_acceptance_rate                 773\n",
       "review_scores_accuracy               658\n",
       "review_scores_checkin                658\n",
       "review_scores_value                  656\n",
       "review_scores_location               655\n",
       "review_scores_cleanliness            653\n",
       "review_scores_communication          651\n",
       "review_scores_rating                 647\n",
       "reviews_per_month                    627\n",
       "first_review                         627\n",
       "last_review                          627\n",
       "space                                569\n",
       "host_response_time                   523\n",
       "host_response_rate                   523\n",
       "neighbourhood                        416\n",
       "xl_picture_url                       320\n",
       "thumbnail_url                        320\n",
       "medium_url                           320\n",
       "host_neighbourhood                   300\n",
       "summary                              177\n",
       "                                    ... \n",
       "availability_60                        0\n",
       "availability_90                        0\n",
       "availability_365                       0\n",
       "number_of_reviews                      0\n",
       "minimum_nights                         0\n",
       "requires_license                       0\n",
       "jurisdiction_names                     0\n",
       "instant_bookable                       0\n",
       "cancellation_policy                    0\n",
       "require_guest_profile_picture          0\n",
       "require_guest_phone_verification       0\n",
       "maximum_nights                         0\n",
       "extra_people                           0\n",
       "neighbourhood_group_cleansed           0\n",
       "calculated_host_listings_count         0\n",
       "city                                   0\n",
       "state                                  0\n",
       "market                                 0\n",
       "smart_location                         0\n",
       "country_code                           0\n",
       "country                                0\n",
       "longitude                              0\n",
       "guests_included                        0\n",
       "is_location_exact                      0\n",
       "room_type                              0\n",
       "accommodates                           0\n",
       "bed_type                               0\n",
       "amenities                              0\n",
       "price                                  0\n",
       "id                                     0\n",
       "Length: 92, dtype: int64"
      ]
     },
     "execution_count": 61,
     "metadata": {},
     "output_type": "execute_result"
    }
   ],
   "source": [
    "listings.isnull().sum().sort_values(axis = 0, ascending = False) # checking for missing values"
   ]
  },
  {
   "cell_type": "markdown",
   "metadata": {},
   "source": [
    "#### Visualisation Missing Values. "
   ]
  },
  {
   "cell_type": "code",
   "execution_count": 62,
   "metadata": {},
   "outputs": [
    {
     "data": {
      "text/plain": [
       "<matplotlib.axes._subplots.AxesSubplot at 0x1a1d48dfd0>"
      ]
     },
     "execution_count": 62,
     "metadata": {},
     "output_type": "execute_result"
    },
    {
     "data": {
      "image/png": "[encoded data removed]",
      "text/plain": [
       "<Figure size 432x288 with 1 Axes>"
      ]
     },
     "metadata": {
      "needs_background": "light"
     },
     "output_type": "display_data"
    }
   ],
   "source": [
    "plot_NA(df = listings) # use heat map Function for missing values"
   ]
  },
  {
   "cell_type": "markdown",
   "metadata": {},
   "source": [
    "#### Review"
   ]
  },
  {
   "cell_type": "markdown",
   "metadata": {},
   "source": [
    "#### Checking Data set Structure"
   ]
  },
  {
   "cell_type": "code",
   "execution_count": 63,
   "metadata": {},
   "outputs": [
    {
     "data": {
      "text/plain": [
       "(84849, 6)"
      ]
     },
     "execution_count": 63,
     "metadata": {},
     "output_type": "execute_result"
    }
   ],
   "source": [
    "reviews.shape # access data"
   ]
  },
  {
   "cell_type": "markdown",
   "metadata": {},
   "source": [
    "The review data set contains 84849 rows and 6 columns."
   ]
  },
  {
   "cell_type": "code",
   "execution_count": 64,
   "metadata": {},
   "outputs": [
    {
     "name": "stdout",
     "output_type": "stream",
     "text": [
      "<class 'pandas.core.frame.DataFrame'>\n",
      "RangeIndex: 84849 entries, 0 to 84848\n",
      "Data columns (total 6 columns):\n",
      "listing_id       84849 non-null int64\n",
      "id               84849 non-null int64\n",
      "date             84849 non-null object\n",
      "reviewer_id      84849 non-null int64\n",
      "reviewer_name    84849 non-null object\n",
      "comments         84831 non-null object\n",
      "dtypes: int64(3), object(3)\n",
      "memory usage: 3.9+ MB\n"
     ]
    }
   ],
   "source": [
    "reviews.info() # access data"
   ]
  },
  {
   "cell_type": "markdown",
   "metadata": {},
   "source": [
    "#### Basic Statistics"
   ]
  },
  {
   "cell_type": "code",
   "execution_count": 66,
   "metadata": {},
   "outputs": [
    {
     "data": {
      "text/html": [
       "<div>\n",
       "<style scoped>\n",
       "    .dataframe tbody tr th:only-of-type {\n",
       "        vertical-align: middle;\n",
       "    }\n",
       "\n",
       "    .dataframe tbody tr th {\n",
       "        vertical-align: top;\n",
       "    }\n",
       "\n",
       "    .dataframe thead th {\n",
       "        text-align: right;\n",
       "    }\n",
       "</style>\n",
       "<table border=\"1\" class=\"dataframe\">\n",
       "  <thead>\n",
       "    <tr style=\"text-align: right;\">\n",
       "      <th></th>\n",
       "      <th>listing_id</th>\n",
       "      <th>id</th>\n",
       "      <th>reviewer_id</th>\n",
       "    </tr>\n",
       "  </thead>\n",
       "  <tbody>\n",
       "    <tr>\n",
       "      <th>count</th>\n",
       "      <td>8.484900e+04</td>\n",
       "      <td>8.484900e+04</td>\n",
       "      <td>8.484900e+04</td>\n",
       "    </tr>\n",
       "    <tr>\n",
       "      <th>mean</th>\n",
       "      <td>3.005067e+06</td>\n",
       "      <td>3.058765e+07</td>\n",
       "      <td>1.701301e+07</td>\n",
       "    </tr>\n",
       "    <tr>\n",
       "      <th>std</th>\n",
       "      <td>2.472877e+06</td>\n",
       "      <td>1.636613e+07</td>\n",
       "      <td>1.353704e+07</td>\n",
       "    </tr>\n",
       "    <tr>\n",
       "      <th>min</th>\n",
       "      <td>4.291000e+03</td>\n",
       "      <td>3.721000e+03</td>\n",
       "      <td>1.500000e+01</td>\n",
       "    </tr>\n",
       "    <tr>\n",
       "      <th>25%</th>\n",
       "      <td>7.946330e+05</td>\n",
       "      <td>1.725127e+07</td>\n",
       "      <td>5.053141e+06</td>\n",
       "    </tr>\n",
       "    <tr>\n",
       "      <th>50%</th>\n",
       "      <td>2.488228e+06</td>\n",
       "      <td>3.228809e+07</td>\n",
       "      <td>1.413476e+07</td>\n",
       "    </tr>\n",
       "    <tr>\n",
       "      <th>75%</th>\n",
       "      <td>4.694479e+06</td>\n",
       "      <td>4.457648e+07</td>\n",
       "      <td>2.762402e+07</td>\n",
       "    </tr>\n",
       "    <tr>\n",
       "      <th>max</th>\n",
       "      <td>1.024814e+07</td>\n",
       "      <td>5.873651e+07</td>\n",
       "      <td>5.281274e+07</td>\n",
       "    </tr>\n",
       "  </tbody>\n",
       "</table>\n",
       "</div>"
      ],
      "text/plain": [
       "         listing_id            id   reviewer_id\n",
       "count  8.484900e+04  8.484900e+04  8.484900e+04\n",
       "mean   3.005067e+06  3.058765e+07  1.701301e+07\n",
       "std    2.472877e+06  1.636613e+07  1.353704e+07\n",
       "min    4.291000e+03  3.721000e+03  1.500000e+01\n",
       "25%    7.946330e+05  1.725127e+07  5.053141e+06\n",
       "50%    2.488228e+06  3.228809e+07  1.413476e+07\n",
       "75%    4.694479e+06  4.457648e+07  2.762402e+07\n",
       "max    1.024814e+07  5.873651e+07  5.281274e+07"
      ]
     },
     "execution_count": 66,
     "metadata": {},
     "output_type": "execute_result"
    }
   ],
   "source": [
    "reviews.describe()"
   ]
  },
  {
   "cell_type": "markdown",
   "metadata": {},
   "source": [
    "##### Checking for Missing Values"
   ]
  },
  {
   "cell_type": "code",
   "execution_count": 67,
   "metadata": {},
   "outputs": [
    {
     "data": {
      "text/plain": [
       "comments         18\n",
       "reviewer_name     0\n",
       "reviewer_id       0\n",
       "date              0\n",
       "id                0\n",
       "listing_id        0\n",
       "dtype: int64"
      ]
     },
     "execution_count": 67,
     "metadata": {},
     "output_type": "execute_result"
    }
   ],
   "source": [
    "reviews.isnull().sum().sort_values(axis = 0, ascending = False) # checking for missing values"
   ]
  },
  {
   "cell_type": "markdown",
   "metadata": {},
   "source": [
    "#### Visualisation Missing Values. "
   ]
  },
  {
   "cell_type": "code",
   "execution_count": 68,
   "metadata": {},
   "outputs": [
    {
     "data": {
      "text/plain": [
       "<matplotlib.axes._subplots.AxesSubplot at 0x1a1f641b70>"
      ]
     },
     "execution_count": 68,
     "metadata": {},
     "output_type": "execute_result"
    },
    {
     "data": {
      "image/png": "[encoded data removed]",
      "text/plain": [
       "<Figure size 432x288 with 1 Axes>"
      ]
     },
     "metadata": {
      "needs_background": "light"
     },
     "output_type": "display_data"
    }
   ],
   "source": [
    "plot_NA(df = reviews) # use heat map Function for missing values"
   ]
  },
  {
   "cell_type": "markdown",
   "metadata": {},
   "source": [
    "#### Checking for Duplciates"
   ]
  },
  {
   "cell_type": "code",
   "execution_count": 69,
   "metadata": {},
   "outputs": [
    {
     "data": {
      "text/plain": [
       "0"
      ]
     },
     "execution_count": 69,
     "metadata": {},
     "output_type": "execute_result"
    }
   ],
   "source": [
    "reviews.duplicated().sum() # checking for duplicates"
   ]
  },
  {
   "cell_type": "markdown",
   "metadata": {},
   "source": [
    "#### Section 3: Preparation of data"
   ]
  },
  {
   "cell_type": "markdown",
   "metadata": {},
   "source": [
    "##### 3:1 Cleaning Section\n",
    "\n",
    "#### Clean Data"
   ]
  },
  {
   "cell_type": "markdown",
   "metadata": {},
   "source": [
    "#### 3:2 Report of data cleaning"
   ]
  },
  {
   "cell_type": "markdown",
   "metadata": {},
   "source": [
    "#### Issues:\n",
    "\n",
    "#### Drop Columns that are not required.\n",
    "\n",
    "\n",
    "\n",
    "#### Drop Columns that are not required.\n",
    "\n",
    "\n",
    "##### calendar\n",
    "\n",
    "- Available\n",
    "\n",
    "##### Listing\n",
    "\n",
    "- listing_url\n",
    "- scrape_id\n",
    "- last_scraped\n",
    "- summary\n",
    "- space\n",
    "- description\n",
    "- experiences_offered\n",
    "- neighborhood_overview\n",
    "- notes\n",
    "- transit\n",
    "- thumbnail_url\n",
    "- medium_url\n",
    "- picture_url\n",
    "- host_thumbnail_url\n",
    "- host_picture_url\n",
    "- street\n",
    "- amenities\n",
    "- square_feet\n",
    "- calendar_updated'\n",
    "\n",
    "#### Missing Values:\n",
    "\n",
    "##### calendar\n",
    "\n",
    "- Price contains missing values, however this relate to days, where the listing is unavailable. Set to Unavailble.\n",
    "\n",
    "##### calendar\n",
    "\n",
    " \n",
    "##### Remove the Dollar Sign and , from follow data set and columns:\n",
    "\n",
    "###### calendar_clean\n",
    "- price\n",
    "\n",
    "##### listings_clean\n",
    "\n",
    "- price\n",
    "- weekly_price\n",
    "- monthly_price\n",
    "- security_deposit\n",
    "- cleaning_fee\n",
    "\n",
    "\n",
    "##### Define: Change the column format:\n",
    "\n",
    "###### calendar_clean\n",
    "\n",
    "- listing_id convert to a string.\n",
    "- date convert to date format\n",
    "- price convert to a float\n",
    "\n",
    "###### listings_clean\n",
    "\n",
    "- id convert to a string.\n",
    "- host_id convert to a string.\n",
    "- price convert to a float\n",
    "- weekly_price convert to a float\n",
    "- monthly_price convert to a float\n",
    "- security_deposit convert to a float\n",
    "- cleaning_fee convert to a float\n",
    "\n",
    "\n",
    "######  reviews_clean\n",
    "\n",
    "- listing_id convert to a string.\n",
    "- id convert to a string.\n",
    "- date convert to date format\n",
    "- reviewer_id convert to a string.\n",
    "\n",
    "##### Define: Rename columns as there a dupicate names in the data set. \n",
    "\n",
    "###### listings_clean\n",
    "- id rename to listing_id\n",
    "- price rename to listing_price\n",
    "\n",
    "###### calendar_clean\n",
    "\n",
    "- date to calendar_date\n",
    "- price to day_price\n",
    "\n",
    "###### reviews_clean\n",
    "- date to review_date\n",
    "- id to reviews_id\n",
    "\n",
    "##### Reset the data set index after merging. \n",
    "\n",
    "#### Define: Split the data set too using review per a month.  \n",
    "\n",
    "- Then extract review comments sectionfor word cloud.\n",
    "\n",
    "### Missing Values\n",
    "\n",
    "- This project is not using machine learning or Deep learning. \n",
    "\n",
    "### calendar_clean\n",
    "\n",
    "- Missing values are being replace with 0 in the price columns, as this is when the places are not available and does not impact our corr visuals. \n",
    "\n",
    "### listings_clean\n",
    "\n",
    "- Missing values are being replace with 0, as this is when the places are not available and does not impact our corr visuals for the following columns:\n",
    "\n",
    "- monthly_price\n",
    "- security_deposit\n",
    "- weekly_price\n",
    "- cleaning_fee\n",
    "\n",
    "- Other missing values are being remove from the data set.\n",
    "\n",
    "\n"
   ]
  },
  {
   "cell_type": "markdown",
   "metadata": {},
   "source": [
    "Code"
   ]
  },
  {
   "cell_type": "code",
   "execution_count": 70,
   "metadata": {},
   "outputs": [],
   "source": [
    "calendar_clean = calendar.copy() # copying data for cleaning "
   ]
  },
  {
   "cell_type": "code",
   "execution_count": 71,
   "metadata": {},
   "outputs": [],
   "source": [
    "listings_clean = listings.copy()  # copying data for cleaning "
   ]
  },
  {
   "cell_type": "code",
   "execution_count": 72,
   "metadata": {},
   "outputs": [],
   "source": [
    "reviews_clean = reviews.copy()  # copying data for cleaning "
   ]
  },
  {
   "cell_type": "markdown",
   "metadata": {},
   "source": [
    "Test"
   ]
  },
  {
   "cell_type": "code",
   "execution_count": 73,
   "metadata": {},
   "outputs": [
    {
     "data": {
      "text/html": [
       "<div>\n",
       "<style scoped>\n",
       "    .dataframe tbody tr th:only-of-type {\n",
       "        vertical-align: middle;\n",
       "    }\n",
       "\n",
       "    .dataframe tbody tr th {\n",
       "        vertical-align: top;\n",
       "    }\n",
       "\n",
       "    .dataframe thead th {\n",
       "        text-align: right;\n",
       "    }\n",
       "</style>\n",
       "<table border=\"1\" class=\"dataframe\">\n",
       "  <thead>\n",
       "    <tr style=\"text-align: right;\">\n",
       "      <th></th>\n",
       "      <th>listing_id</th>\n",
       "      <th>date</th>\n",
       "      <th>available</th>\n",
       "      <th>price</th>\n",
       "    </tr>\n",
       "  </thead>\n",
       "  <tbody>\n",
       "    <tr>\n",
       "      <th>0</th>\n",
       "      <td>241032</td>\n",
       "      <td>2016-01-04</td>\n",
       "      <td>t</td>\n",
       "      <td>$85.00</td>\n",
       "    </tr>\n",
       "  </tbody>\n",
       "</table>\n",
       "</div>"
      ],
      "text/plain": [
       "   listing_id        date available   price\n",
       "0      241032  2016-01-04         t  $85.00"
      ]
     },
     "execution_count": 73,
     "metadata": {},
     "output_type": "execute_result"
    }
   ],
   "source": [
    "calendar_clean.head(1) # testing "
   ]
  },
  {
   "cell_type": "code",
   "execution_count": 74,
   "metadata": {},
   "outputs": [
    {
     "data": {
      "text/html": [
       "<div>\n",
       "<style scoped>\n",
       "    .dataframe tbody tr th:only-of-type {\n",
       "        vertical-align: middle;\n",
       "    }\n",
       "\n",
       "    .dataframe tbody tr th {\n",
       "        vertical-align: top;\n",
       "    }\n",
       "\n",
       "    .dataframe thead th {\n",
       "        text-align: right;\n",
       "    }\n",
       "</style>\n",
       "<table border=\"1\" class=\"dataframe\">\n",
       "  <thead>\n",
       "    <tr style=\"text-align: right;\">\n",
       "      <th></th>\n",
       "      <th>id</th>\n",
       "      <th>listing_url</th>\n",
       "      <th>scrape_id</th>\n",
       "      <th>last_scraped</th>\n",
       "      <th>name</th>\n",
       "      <th>summary</th>\n",
       "      <th>space</th>\n",
       "      <th>description</th>\n",
       "      <th>experiences_offered</th>\n",
       "      <th>neighborhood_overview</th>\n",
       "      <th>...</th>\n",
       "      <th>review_scores_value</th>\n",
       "      <th>requires_license</th>\n",
       "      <th>license</th>\n",
       "      <th>jurisdiction_names</th>\n",
       "      <th>instant_bookable</th>\n",
       "      <th>cancellation_policy</th>\n",
       "      <th>require_guest_profile_picture</th>\n",
       "      <th>require_guest_phone_verification</th>\n",
       "      <th>calculated_host_listings_count</th>\n",
       "      <th>reviews_per_month</th>\n",
       "    </tr>\n",
       "  </thead>\n",
       "  <tbody>\n",
       "    <tr>\n",
       "      <th>0</th>\n",
       "      <td>241032</td>\n",
       "      <td>https://www.airbnb.com/rooms/241032</td>\n",
       "      <td>20160104002432</td>\n",
       "      <td>2016-01-04</td>\n",
       "      <td>Stylish Queen Anne Apartment</td>\n",
       "      <td>NaN</td>\n",
       "      <td>Make your self at home in this charming one-be...</td>\n",
       "      <td>Make your self at home in this charming one-be...</td>\n",
       "      <td>none</td>\n",
       "      <td>NaN</td>\n",
       "      <td>...</td>\n",
       "      <td>10.0</td>\n",
       "      <td>f</td>\n",
       "      <td>NaN</td>\n",
       "      <td>WASHINGTON</td>\n",
       "      <td>f</td>\n",
       "      <td>moderate</td>\n",
       "      <td>f</td>\n",
       "      <td>f</td>\n",
       "      <td>2</td>\n",
       "      <td>4.07</td>\n",
       "    </tr>\n",
       "  </tbody>\n",
       "</table>\n",
       "<p>1 rows × 92 columns</p>\n",
       "</div>"
      ],
      "text/plain": [
       "       id                          listing_url       scrape_id last_scraped  \\\n",
       "0  241032  https://www.airbnb.com/rooms/241032  20160104002432   2016-01-04   \n",
       "\n",
       "                           name summary  \\\n",
       "0  Stylish Queen Anne Apartment     NaN   \n",
       "\n",
       "                                               space  \\\n",
       "0  Make your self at home in this charming one-be...   \n",
       "\n",
       "                                         description experiences_offered  \\\n",
       "0  Make your self at home in this charming one-be...                none   \n",
       "\n",
       "  neighborhood_overview  ... review_scores_value requires_license license  \\\n",
       "0                   NaN  ...                10.0                f     NaN   \n",
       "\n",
       "  jurisdiction_names instant_bookable cancellation_policy  \\\n",
       "0         WASHINGTON                f            moderate   \n",
       "\n",
       "   require_guest_profile_picture require_guest_phone_verification  \\\n",
       "0                              f                                f   \n",
       "\n",
       "  calculated_host_listings_count reviews_per_month  \n",
       "0                              2              4.07  \n",
       "\n",
       "[1 rows x 92 columns]"
      ]
     },
     "execution_count": 74,
     "metadata": {},
     "output_type": "execute_result"
    }
   ],
   "source": [
    "listings_clean.head(1) # testing "
   ]
  },
  {
   "cell_type": "code",
   "execution_count": 75,
   "metadata": {},
   "outputs": [
    {
     "data": {
      "text/html": [
       "<div>\n",
       "<style scoped>\n",
       "    .dataframe tbody tr th:only-of-type {\n",
       "        vertical-align: middle;\n",
       "    }\n",
       "\n",
       "    .dataframe tbody tr th {\n",
       "        vertical-align: top;\n",
       "    }\n",
       "\n",
       "    .dataframe thead th {\n",
       "        text-align: right;\n",
       "    }\n",
       "</style>\n",
       "<table border=\"1\" class=\"dataframe\">\n",
       "  <thead>\n",
       "    <tr style=\"text-align: right;\">\n",
       "      <th></th>\n",
       "      <th>listing_id</th>\n",
       "      <th>id</th>\n",
       "      <th>date</th>\n",
       "      <th>reviewer_id</th>\n",
       "      <th>reviewer_name</th>\n",
       "      <th>comments</th>\n",
       "    </tr>\n",
       "  </thead>\n",
       "  <tbody>\n",
       "    <tr>\n",
       "      <th>0</th>\n",
       "      <td>7202016</td>\n",
       "      <td>38917982</td>\n",
       "      <td>2015-07-19</td>\n",
       "      <td>28943674</td>\n",
       "      <td>Bianca</td>\n",
       "      <td>Cute and cozy place. Perfect location to every...</td>\n",
       "    </tr>\n",
       "  </tbody>\n",
       "</table>\n",
       "</div>"
      ],
      "text/plain": [
       "   listing_id        id        date  reviewer_id reviewer_name  \\\n",
       "0     7202016  38917982  2015-07-19     28943674        Bianca   \n",
       "\n",
       "                                            comments  \n",
       "0  Cute and cozy place. Perfect location to every...  "
      ]
     },
     "execution_count": 75,
     "metadata": {},
     "output_type": "execute_result"
    }
   ],
   "source": [
    "reviews_clean.head(1) # testing "
   ]
  },
  {
   "cell_type": "markdown",
   "metadata": {},
   "source": [
    "###### Define: Remove columns that are not required for this project:\n",
    "\n",
    "> ###### calendar_clean Data set:\n",
    "    \n",
    "- available\n",
    "\n",
    "> ###### listings_clean\n",
    "\n",
    "- listing_url\n",
    "- scrape_id\n",
    "- last_scraped\n",
    "- summary\n",
    "- space\n",
    "- description\n",
    "- experiences_offered\n",
    "- neighborhood_overview\n",
    "- notes\n",
    "- transit\n",
    "- thumbnail_url\n",
    "- medium_url\n",
    "- picture_url\n",
    "- host_thumbnail_url\n",
    "- host_picture_url\n",
    "- street\n",
    "- amenities\n",
    "- square_feet\n",
    "- calendar_updated'\n",
    "\n",
    "\n",
    "\n",
    "> ###### Review\n",
    "\n"
   ]
  },
  {
   "cell_type": "markdown",
   "metadata": {},
   "source": [
    "Code"
   ]
  },
  {
   "cell_type": "code",
   "execution_count": 76,
   "metadata": {},
   "outputs": [],
   "source": [
    "calendar_clean.drop(['available'],axis=1,inplace=True) # drop columns"
   ]
  },
  {
   "cell_type": "code",
   "execution_count": 77,
   "metadata": {},
   "outputs": [],
   "source": [
    "listings_clean.drop(['listing_url','scrape_id','last_scraped','summary','space','description','experiences_offered','neighborhood_overview','notes','transit','thumbnail_url','medium_url','picture_url','host_thumbnail_url','host_picture_url','street','amenities','square_feet','calendar_updated'],axis=1,inplace=True) # drop columns"
   ]
  },
  {
   "cell_type": "code",
   "execution_count": 78,
   "metadata": {},
   "outputs": [],
   "source": [
    "listings_clean.drop(['xl_picture_url','host_url','host_about','requires_license','license','jurisdiction_names','require_guest_profile_picture','require_guest_phone_verification','country_code','country'],axis=1,inplace=True) # drop columns"
   ]
  },
  {
   "cell_type": "markdown",
   "metadata": {},
   "source": [
    "Test"
   ]
  },
  {
   "cell_type": "code",
   "execution_count": 79,
   "metadata": {},
   "outputs": [
    {
     "data": {
      "text/html": [
       "<div>\n",
       "<style scoped>\n",
       "    .dataframe tbody tr th:only-of-type {\n",
       "        vertical-align: middle;\n",
       "    }\n",
       "\n",
       "    .dataframe tbody tr th {\n",
       "        vertical-align: top;\n",
       "    }\n",
       "\n",
       "    .dataframe thead th {\n",
       "        text-align: right;\n",
       "    }\n",
       "</style>\n",
       "<table border=\"1\" class=\"dataframe\">\n",
       "  <thead>\n",
       "    <tr style=\"text-align: right;\">\n",
       "      <th></th>\n",
       "      <th>listing_id</th>\n",
       "      <th>date</th>\n",
       "      <th>price</th>\n",
       "    </tr>\n",
       "  </thead>\n",
       "  <tbody>\n",
       "    <tr>\n",
       "      <th>0</th>\n",
       "      <td>241032</td>\n",
       "      <td>2016-01-04</td>\n",
       "      <td>$85.00</td>\n",
       "    </tr>\n",
       "  </tbody>\n",
       "</table>\n",
       "</div>"
      ],
      "text/plain": [
       "   listing_id        date   price\n",
       "0      241032  2016-01-04  $85.00"
      ]
     },
     "execution_count": 79,
     "metadata": {},
     "output_type": "execute_result"
    }
   ],
   "source": [
    "calendar_clean.head(1) # testing "
   ]
  },
  {
   "cell_type": "code",
   "execution_count": 80,
   "metadata": {},
   "outputs": [
    {
     "data": {
      "text/html": [
       "<div>\n",
       "<style scoped>\n",
       "    .dataframe tbody tr th:only-of-type {\n",
       "        vertical-align: middle;\n",
       "    }\n",
       "\n",
       "    .dataframe tbody tr th {\n",
       "        vertical-align: top;\n",
       "    }\n",
       "\n",
       "    .dataframe thead th {\n",
       "        text-align: right;\n",
       "    }\n",
       "</style>\n",
       "<table border=\"1\" class=\"dataframe\">\n",
       "  <thead>\n",
       "    <tr style=\"text-align: right;\">\n",
       "      <th></th>\n",
       "      <th>id</th>\n",
       "      <th>name</th>\n",
       "      <th>host_id</th>\n",
       "      <th>host_name</th>\n",
       "      <th>host_since</th>\n",
       "      <th>host_location</th>\n",
       "      <th>host_response_time</th>\n",
       "      <th>host_response_rate</th>\n",
       "      <th>host_acceptance_rate</th>\n",
       "      <th>host_is_superhost</th>\n",
       "      <th>...</th>\n",
       "      <th>review_scores_accuracy</th>\n",
       "      <th>review_scores_cleanliness</th>\n",
       "      <th>review_scores_checkin</th>\n",
       "      <th>review_scores_communication</th>\n",
       "      <th>review_scores_location</th>\n",
       "      <th>review_scores_value</th>\n",
       "      <th>instant_bookable</th>\n",
       "      <th>cancellation_policy</th>\n",
       "      <th>calculated_host_listings_count</th>\n",
       "      <th>reviews_per_month</th>\n",
       "    </tr>\n",
       "  </thead>\n",
       "  <tbody>\n",
       "    <tr>\n",
       "      <th>0</th>\n",
       "      <td>241032</td>\n",
       "      <td>Stylish Queen Anne Apartment</td>\n",
       "      <td>956883</td>\n",
       "      <td>Maija</td>\n",
       "      <td>2011-08-11</td>\n",
       "      <td>Seattle, Washington, United States</td>\n",
       "      <td>within a few hours</td>\n",
       "      <td>96%</td>\n",
       "      <td>100%</td>\n",
       "      <td>f</td>\n",
       "      <td>...</td>\n",
       "      <td>10.0</td>\n",
       "      <td>10.0</td>\n",
       "      <td>10.0</td>\n",
       "      <td>10.0</td>\n",
       "      <td>9.0</td>\n",
       "      <td>10.0</td>\n",
       "      <td>f</td>\n",
       "      <td>moderate</td>\n",
       "      <td>2</td>\n",
       "      <td>4.07</td>\n",
       "    </tr>\n",
       "  </tbody>\n",
       "</table>\n",
       "<p>1 rows × 63 columns</p>\n",
       "</div>"
      ],
      "text/plain": [
       "       id                          name  host_id host_name  host_since  \\\n",
       "0  241032  Stylish Queen Anne Apartment   956883     Maija  2011-08-11   \n",
       "\n",
       "                        host_location  host_response_time host_response_rate  \\\n",
       "0  Seattle, Washington, United States  within a few hours                96%   \n",
       "\n",
       "  host_acceptance_rate host_is_superhost  ... review_scores_accuracy  \\\n",
       "0                 100%                 f  ...                   10.0   \n",
       "\n",
       "   review_scores_cleanliness  review_scores_checkin  \\\n",
       "0                       10.0                   10.0   \n",
       "\n",
       "  review_scores_communication review_scores_location review_scores_value  \\\n",
       "0                        10.0                    9.0                10.0   \n",
       "\n",
       "  instant_bookable cancellation_policy calculated_host_listings_count  \\\n",
       "0                f            moderate                              2   \n",
       "\n",
       "  reviews_per_month  \n",
       "0              4.07  \n",
       "\n",
       "[1 rows x 63 columns]"
      ]
     },
     "execution_count": 80,
     "metadata": {},
     "output_type": "execute_result"
    }
   ],
   "source": [
    "listings_clean.head(1) # testing "
   ]
  },
  {
   "cell_type": "code",
   "execution_count": 81,
   "metadata": {},
   "outputs": [
    {
     "data": {
      "text/html": [
       "<div>\n",
       "<style scoped>\n",
       "    .dataframe tbody tr th:only-of-type {\n",
       "        vertical-align: middle;\n",
       "    }\n",
       "\n",
       "    .dataframe tbody tr th {\n",
       "        vertical-align: top;\n",
       "    }\n",
       "\n",
       "    .dataframe thead th {\n",
       "        text-align: right;\n",
       "    }\n",
       "</style>\n",
       "<table border=\"1\" class=\"dataframe\">\n",
       "  <thead>\n",
       "    <tr style=\"text-align: right;\">\n",
       "      <th></th>\n",
       "      <th>listing_id</th>\n",
       "      <th>id</th>\n",
       "      <th>date</th>\n",
       "      <th>reviewer_id</th>\n",
       "      <th>reviewer_name</th>\n",
       "      <th>comments</th>\n",
       "    </tr>\n",
       "  </thead>\n",
       "  <tbody>\n",
       "    <tr>\n",
       "      <th>0</th>\n",
       "      <td>7202016</td>\n",
       "      <td>38917982</td>\n",
       "      <td>2015-07-19</td>\n",
       "      <td>28943674</td>\n",
       "      <td>Bianca</td>\n",
       "      <td>Cute and cozy place. Perfect location to every...</td>\n",
       "    </tr>\n",
       "  </tbody>\n",
       "</table>\n",
       "</div>"
      ],
      "text/plain": [
       "   listing_id        id        date  reviewer_id reviewer_name  \\\n",
       "0     7202016  38917982  2015-07-19     28943674        Bianca   \n",
       "\n",
       "                                            comments  \n",
       "0  Cute and cozy place. Perfect location to every...  "
      ]
     },
     "execution_count": 81,
     "metadata": {},
     "output_type": "execute_result"
    }
   ],
   "source": [
    "reviews_clean.head(1) # testing "
   ]
  },
  {
   "cell_type": "markdown",
   "metadata": {},
   "source": [
    "##### Define: Replace Null values in the calendar_clean price column with $0 for plotting time series Graph."
   ]
  },
  {
   "cell_type": "markdown",
   "metadata": {},
   "source": [
    "Code"
   ]
  },
  {
   "cell_type": "code",
   "execution_count": 82,
   "metadata": {},
   "outputs": [],
   "source": [
    "calendar_clean['price'] = calendar_clean['price'].fillna('$0') # replace nan "
   ]
  },
  {
   "cell_type": "markdown",
   "metadata": {},
   "source": [
    "Test\n",
    " "
   ]
  },
  {
   "cell_type": "code",
   "execution_count": 83,
   "metadata": {},
   "outputs": [
    {
     "data": {
      "text/plain": [
       "listing_id    0\n",
       "date          0\n",
       "price         0\n",
       "dtype: int64"
      ]
     },
     "execution_count": 83,
     "metadata": {},
     "output_type": "execute_result"
    }
   ],
   "source": [
    "calendar_clean.isnull().sum() # Checking"
   ]
  },
  {
   "cell_type": "markdown",
   "metadata": {},
   "source": [
    "##### Define: Replace Null values in the following Columns With Zero for plotting time series Graph\n",
    "\n",
    "- monthly_price\n",
    "- security_deposit\n",
    "- weekly_price \n",
    "- cleaning_fee \n"
   ]
  },
  {
   "cell_type": "markdown",
   "metadata": {},
   "source": [
    "Code"
   ]
  },
  {
   "cell_type": "code",
   "execution_count": 84,
   "metadata": {},
   "outputs": [],
   "source": [
    "listings_clean['monthly_price'] = listings_clean['monthly_price'].fillna('$0')\n",
    "listings_clean['security_deposit'] = listings_clean['security_deposit'].fillna('$0')\n",
    "listings_clean['weekly_price'] = listings_clean['weekly_price'].fillna('$0')\n",
    "listings_clean['cleaning_fee'] = listings_clean['cleaning_fee'].fillna('$0')"
   ]
  },
  {
   "cell_type": "markdown",
   "metadata": {},
   "source": [
    "Test"
   ]
  },
  {
   "cell_type": "code",
   "execution_count": 85,
   "metadata": {},
   "outputs": [
    {
     "data": {
      "text/plain": [
       "host_acceptance_rate              773\n",
       "review_scores_accuracy            658\n",
       "review_scores_checkin             658\n",
       "review_scores_value               656\n",
       "review_scores_location            655\n",
       "review_scores_cleanliness         653\n",
       "review_scores_communication       651\n",
       "review_scores_rating              647\n",
       "first_review                      627\n",
       "last_review                       627\n",
       "reviews_per_month                 627\n",
       "host_response_time                523\n",
       "host_response_rate                523\n",
       "neighbourhood                     416\n",
       "host_neighbourhood                300\n",
       "bathrooms                          16\n",
       "host_location                       8\n",
       "zipcode                             7\n",
       "bedrooms                            6\n",
       "host_listings_count                 2\n",
       "host_name                           2\n",
       "host_since                          2\n",
       "host_identity_verified              2\n",
       "host_has_profile_pic                2\n",
       "host_is_superhost                   2\n",
       "host_total_listings_count           2\n",
       "beds                                1\n",
       "property_type                       1\n",
       "neighbourhood_group_cleansed        0\n",
       "neighbourhood_cleansed              0\n",
       "                                 ... \n",
       "availability_365                    0\n",
       "state                               0\n",
       "calendar_last_scraped               0\n",
       "number_of_reviews                   0\n",
       "instant_bookable                    0\n",
       "cancellation_policy                 0\n",
       "host_id                             0\n",
       "name                                0\n",
       "city                                0\n",
       "availability_60                     0\n",
       "maximum_nights                      0\n",
       "market                              0\n",
       "minimum_nights                      0\n",
       "extra_people                        0\n",
       "guests_included                     0\n",
       "cleaning_fee                        0\n",
       "security_deposit                    0\n",
       "monthly_price                       0\n",
       "weekly_price                        0\n",
       "price                               0\n",
       "bed_type                            0\n",
       "calculated_host_listings_count      0\n",
       "availability_30                     0\n",
       "accommodates                        0\n",
       "room_type                           0\n",
       "is_location_exact                   0\n",
       "longitude                           0\n",
       "latitude                            0\n",
       "smart_location                      0\n",
       "id                                  0\n",
       "Length: 63, dtype: int64"
      ]
     },
     "execution_count": 85,
     "metadata": {},
     "output_type": "execute_result"
    }
   ],
   "source": [
    "listings_clean.isnull().sum().sort_values(axis = 0, ascending = False)"
   ]
  },
  {
   "cell_type": "markdown",
   "metadata": {},
   "source": [
    "##### Define: Removing values that have missng values. "
   ]
  },
  {
   "cell_type": "markdown",
   "metadata": {},
   "source": [
    "Code"
   ]
  },
  {
   "cell_type": "code",
   "execution_count": 86,
   "metadata": {},
   "outputs": [],
   "source": [
    "listings_clean.dropna(inplace=True)"
   ]
  },
  {
   "cell_type": "markdown",
   "metadata": {},
   "source": [
    "Test"
   ]
  },
  {
   "cell_type": "code",
   "execution_count": 87,
   "metadata": {},
   "outputs": [
    {
     "data": {
      "text/plain": [
       "reviews_per_month               0\n",
       "host_identity_verified          0\n",
       "room_type                       0\n",
       "property_type                   0\n",
       "is_location_exact               0\n",
       "longitude                       0\n",
       "latitude                        0\n",
       "smart_location                  0\n",
       "market                          0\n",
       "zipcode                         0\n",
       "state                           0\n",
       "city                            0\n",
       "neighbourhood_group_cleansed    0\n",
       "neighbourhood_cleansed          0\n",
       "neighbourhood                   0\n",
       "host_has_profile_pic            0\n",
       "bathrooms                       0\n",
       "host_verifications              0\n",
       "host_total_listings_count       0\n",
       "host_listings_count             0\n",
       "host_neighbourhood              0\n",
       "host_is_superhost               0\n",
       "host_acceptance_rate            0\n",
       "host_response_rate              0\n",
       "host_response_time              0\n",
       "host_location                   0\n",
       "host_since                      0\n",
       "host_name                       0\n",
       "host_id                         0\n",
       "name                            0\n",
       "                               ..\n",
       "availability_365                0\n",
       "cancellation_policy             0\n",
       "instant_bookable                0\n",
       "review_scores_value             0\n",
       "review_scores_location          0\n",
       "review_scores_communication     0\n",
       "review_scores_checkin           0\n",
       "review_scores_cleanliness       0\n",
       "review_scores_accuracy          0\n",
       "review_scores_rating            0\n",
       "last_review                     0\n",
       "first_review                    0\n",
       "number_of_reviews               0\n",
       "calendar_last_scraped           0\n",
       "availability_90                 0\n",
       "beds                            0\n",
       "availability_60                 0\n",
       "availability_30                 0\n",
       "has_availability                0\n",
       "maximum_nights                  0\n",
       "minimum_nights                  0\n",
       "extra_people                    0\n",
       "guests_included                 0\n",
       "cleaning_fee                    0\n",
       "security_deposit                0\n",
       "monthly_price                   0\n",
       "weekly_price                    0\n",
       "price                           0\n",
       "bed_type                        0\n",
       "id                              0\n",
       "Length: 63, dtype: int64"
      ]
     },
     "execution_count": 87,
     "metadata": {},
     "output_type": "execute_result"
    }
   ],
   "source": [
    "listings_clean.isnull().sum().sort_values(axis = 0, ascending = False)"
   ]
  },
  {
   "cell_type": "markdown",
   "metadata": {},
   "source": [
    "##### Define: Remove the Dollar Sign and , from follow data set and colums:\n",
    "\n",
    "###### calendar_clean\n",
    "- price\n",
    "\n",
    "##### listings_clean\n",
    "\n",
    "- price\n",
    "- weekly_price\n",
    "- monthly_price\n",
    "- security_deposit\n",
    "- cleaning_fee\n"
   ]
  },
  {
   "cell_type": "markdown",
   "metadata": {},
   "source": [
    "Code"
   ]
  },
  {
   "cell_type": "code",
   "execution_count": 88,
   "metadata": {},
   "outputs": [],
   "source": [
    "calendar_clean['price'] = calendar_clean['price'].apply(lambda x: x.replace('$',''))"
   ]
  },
  {
   "cell_type": "code",
   "execution_count": 89,
   "metadata": {},
   "outputs": [],
   "source": [
    "calendar_clean['price'] = calendar_clean['price'].apply(lambda x: x.replace(',',''))"
   ]
  },
  {
   "cell_type": "code",
   "execution_count": 90,
   "metadata": {},
   "outputs": [],
   "source": [
    "listings_clean['price'] = calendar_clean['price'].apply(lambda x: x.replace('$',''))"
   ]
  },
  {
   "cell_type": "code",
   "execution_count": 91,
   "metadata": {},
   "outputs": [],
   "source": [
    "listings_clean['price'] = listings_clean['price'].apply(lambda x: x.replace(',',''))"
   ]
  },
  {
   "cell_type": "code",
   "execution_count": 92,
   "metadata": {},
   "outputs": [],
   "source": [
    "listings_clean['weekly_price'] = listings_clean['weekly_price'].apply(lambda x: x.replace('$',''))"
   ]
  },
  {
   "cell_type": "code",
   "execution_count": 93,
   "metadata": {},
   "outputs": [],
   "source": [
    "listings_clean['weekly_price'] = listings_clean['weekly_price'].apply(lambda x: x.replace(',',''))"
   ]
  },
  {
   "cell_type": "code",
   "execution_count": 94,
   "metadata": {},
   "outputs": [],
   "source": [
    "listings_clean['monthly_price'] = listings_clean['monthly_price'].apply(lambda x: x.replace('$',''))"
   ]
  },
  {
   "cell_type": "code",
   "execution_count": 95,
   "metadata": {},
   "outputs": [],
   "source": [
    "listings_clean['monthly_price'] = listings_clean['monthly_price'].apply(lambda x: x.replace(',',''))"
   ]
  },
  {
   "cell_type": "code",
   "execution_count": 96,
   "metadata": {},
   "outputs": [],
   "source": [
    "listings_clean['security_deposit'] = listings_clean['security_deposit'].apply(lambda x: x.replace('$',''))"
   ]
  },
  {
   "cell_type": "code",
   "execution_count": 97,
   "metadata": {},
   "outputs": [],
   "source": [
    "listings_clean['security_deposit'] = listings_clean['security_deposit'].apply(lambda x: x.replace(',',''))"
   ]
  },
  {
   "cell_type": "code",
   "execution_count": 98,
   "metadata": {},
   "outputs": [],
   "source": [
    "listings_clean['cleaning_fee'] = listings_clean['monthly_price'].apply(lambda x: x.replace('$',''))"
   ]
  },
  {
   "cell_type": "code",
   "execution_count": 99,
   "metadata": {},
   "outputs": [],
   "source": [
    "listings_clean['cleaning_fee'] = listings_clean['monthly_price'].apply(lambda x: x.replace(',',''))"
   ]
  },
  {
   "cell_type": "markdown",
   "metadata": {},
   "source": [
    "Test"
   ]
  },
  {
   "cell_type": "code",
   "execution_count": 100,
   "metadata": {},
   "outputs": [
    {
     "data": {
      "text/plain": [
       "array(['85.00', '0', '125.00', '154.00', '164.00', '165.00', '150.00',\n",
       "       '145.00', '144.00', '148.00', '155.00', '149.00', '156.00',\n",
       "       '166.00', '152.00', '147.00', '146.00', '151.00', '158.00',\n",
       "       '168.00', '169.00', '192.00', '175.00', '162.00', '171.00',\n",
       "       '173.00', '153.00', '177.00', '183.00', '181.00', '170.00',\n",
       "       '179.00', '167.00', '184.00', '186.00', '172.00', '180.00',\n",
       "       '190.00', '178.00', '196.00', '197.00', '202.00', '198.00',\n",
       "       '205.00', '214.00', '218.00', '211.00', '193.00', '204.00',\n",
       "       '189.00', '187.00', '194.00', '185.00', '206.00', '191.00',\n",
       "       '207.00', '208.00', '188.00', '200.00', '209.00', '210.00',\n",
       "       '195.00', '201.00', '199.00', '203.00', '182.00', '163.00',\n",
       "       '159.00', '157.00', '142.00', '136.00', '134.00', '137.00',\n",
       "       '143.00', '135.00', '141.00', '130.00', '138.00', '133.00',\n",
       "       '129.00', '127.00', '126.00', '131.00', '132.00', '220.00',\n",
       "       '222.00', '223.00', '232.00', '217.00', '229.00', '294.00',\n",
       "       '358.00', '439.00', '400.00', '975.00', '750.00', '500.00',\n",
       "       '650.00', '675.00', '1250.00', '1450.00', '1650.00', '100.00',\n",
       "       '600.00', '450.00', '475.00', '120.00', '140.00', '80.00', '42.00',\n",
       "       '49.00', '60.00', '48.00', '47.00', '52.00', '51.00', '50.00',\n",
       "       '53.00', '61.00', '54.00', '62.00', '55.00', '90.00', '139.00',\n",
       "       '95.00', '69.00', '71.00', '74.00', '81.00', '84.00', '76.00',\n",
       "       '82.00', '86.00', '83.00', '89.00', '88.00', '72.00', '99.00',\n",
       "       '245.00', '98.00', '103.00', '104.00', '112.00', '122.00',\n",
       "       '115.00', '118.00', '117.00', '124.00', '119.00', '250.00',\n",
       "       '399.00', '549.00', '468.00', '419.00', '420.00', '455.00',\n",
       "       '514.00', '547.00', '571.00', '627.00', '665.00', '654.00',\n",
       "       '590.00', '581.00', '579.00', '589.00', '629.00', '640.00',\n",
       "       '611.00', '584.00', '570.00', '551.00', '530.00', '594.00',\n",
       "       '614.00', '604.00', '602.00', '612.00', '649.00', '655.00',\n",
       "       '638.00', '625.00', '616.00', '613.00', '633.00', '656.00',\n",
       "       '642.00', '636.00', '644.00', '630.00', '621.00', '800.00',\n",
       "       '461.00', '109.00', '56.00', '57.00', '58.00', '59.00', '63.00',\n",
       "       '64.00', '65.00', '67.00', '75.00', '66.00', '700.00', '110.00',\n",
       "       '310.00', '312.00', '315.00', '321.00', '550.00', '43.00', '45.00',\n",
       "       '44.00', '46.00', '280.00', '300.00', '325.00', '350.00', '375.00',\n",
       "       '161.00', '174.00', '176.00', '226.00', '213.00', '212.00',\n",
       "       '221.00', '225.00', '216.00', '227.00', '231.00', '236.00',\n",
       "       '240.00', '251.00', '254.00', '255.00', '246.00', '248.00',\n",
       "       '230.00', '235.00', '238.00', '215.00', '237.00', '228.00',\n",
       "       '242.00', '224.00', '241.00', '244.00', '233.00', '243.00',\n",
       "       '234.00', '247.00', '239.00', '219.00', '160.00', '128.00',\n",
       "       '257.00', '259.00', '261.00', '272.00', '252.00', '320.00',\n",
       "       '402.00', '445.00', '501.00', '452.00', '249.00', '395.00',\n",
       "       '108.00', '285.00', '113.00', '348.00', '91.00', '92.00', '97.00',\n",
       "       '93.00', '94.00', '96.00', '102.00', '105.00', '111.00', '106.00',\n",
       "       '114.00', '121.00', '116.00', '123.00', '1240.00', '349.00',\n",
       "       '449.00', '20.00', '70.00', '68.00', '73.00', '79.00', '77.00',\n",
       "       '78.00', '334.00', '341.00', '369.00', '385.00', '430.00',\n",
       "       '441.00', '398.00', '357.00', '364.00', '362.00', '371.00',\n",
       "       '438.00', '378.00', '401.00', '444.00', '403.00', '373.00',\n",
       "       '367.00', '384.00', '409.00', '448.00', '456.00', '414.00',\n",
       "       '470.00', '386.00', '428.00', '467.00', '425.00', '392.00',\n",
       "       '404.00', '432.00', '480.00', '391.00', '405.00', '477.00',\n",
       "       '483.00', '412.00', '485.00', '493.00', '442.00', '423.00',\n",
       "       '496.00', '502.00', '464.00', '433.00', '427.00', '474.00',\n",
       "       '525.00', '536.00', '465.00', '437.00', '473.00', '494.00',\n",
       "       '531.00', '592.00', '607.00', '523.00', '546.00', '572.00',\n",
       "       '595.00', '634.00', '693.00', '709.00', '598.00', '624.00',\n",
       "       '657.00', '695.00', '666.00', '619.00', '609.00', '631.00',\n",
       "       '670.00', '735.00', '745.00', '669.00', '683.00', '751.00',\n",
       "       '759.00', '685.00', '698.00', '780.00', '794.00', '652.00',\n",
       "       '674.00', '743.00', '662.00', '622.00', '668.00', '724.00',\n",
       "       '716.00', '722.00', '686.00', '637.00', '626.00', '643.00',\n",
       "       '737.00', '744.00', '663.00', '620.00', '608.00', '639.00',\n",
       "       '593.00', '574.00', '39.00', '31.00', '30.00', '33.00', '40.00',\n",
       "       '38.00', '41.00', '25.00', '282.00', '339.00', '390.00', '355.00',\n",
       "       '107.00', '275.00', '35.00', '34.00', '273.00', '293.00', '260.00',\n",
       "       '302.00', '266.00', '267.00', '291.00', '271.00', '258.00',\n",
       "       '269.00', '301.00', '308.00', '278.00', '276.00', '309.00',\n",
       "       '253.00', '279.00', '313.00', '264.00', '286.00', '289.00',\n",
       "       '268.00', '331.00', '270.00', '299.00', '329.00', '297.00',\n",
       "       '274.00', '332.00', '288.00', '306.00', '340.00', '346.00',\n",
       "       '296.00', '314.00', '324.00', '303.00', '376.00', '290.00',\n",
       "       '330.00', '345.00', '424.00', '365.00', '382.00', '416.00',\n",
       "       '443.00', '489.00', '422.00', '436.00', '459.00', '486.00',\n",
       "       '466.00', '426.00', '515.00', '522.00', '478.00', '526.00',\n",
       "       '532.00', '479.00', '543.00', '553.00', '87.00', '101.00', '37.00',\n",
       "       '265.00', '322.00', '307.00', '338.00', '311.00', '298.00',\n",
       "       '323.00', '327.00', '363.00', '342.00', '353.00', '383.00',\n",
       "       '354.00', '397.00', '368.00', '360.00', '374.00', '359.00',\n",
       "       '356.00', '379.00', '408.00', '361.00', '407.00', '413.00',\n",
       "       '388.00', '411.00', '389.00', '415.00', '406.00', '410.00',\n",
       "       '396.00', '344.00', '351.00', '381.00', '366.00', '352.00',\n",
       "       '316.00', '347.00', '317.00', '284.00', '319.00', '287.00',\n",
       "       '305.00', '292.00', '256.00', '380.00', '277.00', '482.00',\n",
       "       '658.00', '708.00', '262.00', '435.00', '393.00', '328.00',\n",
       "       '535.00', '446.00', '472.00', '899.00', '999.00', '1099.00',\n",
       "       '1199.00', '749.00', '295.00', '335.00', '499.00', '680.00',\n",
       "       '333.00', '421.00', '575.00', '326.00', '318.00', '370.00',\n",
       "       '372.00', '377.00', '417.00', '431.00', '463.00', '429.00',\n",
       "       '454.00', '440.00', '281.00', '336.00', '394.00', '387.00',\n",
       "       '537.00', '520.00', '512.00', '498.00', '506.00', '659.00',\n",
       "       '676.00', '610.00', '490.00', '564.00', '491.00', '651.00',\n",
       "       '552.00', '460.00', '775.00', '29.00', '36.00', '32.00', '565.00',\n",
       "       '28.00', '263.00', '538.00', '487.00', '484.00', '453.00',\n",
       "       '457.00', '488.00', '557.00', '283.00', '337.00', '343.00',\n",
       "       '447.00', '27.00', '22.00', '23.00', '26.00', '495.00', '418.00',\n",
       "       '12.00', '469.00', '462.00', '505.00', '509.00', '507.00',\n",
       "       '511.00', '476.00', '434.00', '516.00', '576.00', '573.00',\n",
       "       '540.00', '544.00', '578.00', '541.00', '542.00', '585.00',\n",
       "       '569.00', '568.00', '939.00', '304.00', '508.00', '510.00',\n",
       "       '562.00', '825.00', '723.00', '727.00', '733.00', '628.00',\n",
       "       '599.00', '10.00', '900.00', '1000.00', '24.00', '504.00',\n",
       "       '548.00', '513.00', '539.00', '517.00', '673.00', '711.00',\n",
       "       '788.00', '901.00', '817.00', '545.00', '451.00', '481.00',\n",
       "       '527.00', '519.00', '560.00', '563.00', '646.00', '618.00',\n",
       "       '623.00', '596.00', '567.00', '566.00', '534.00', '503.00',\n",
       "       '603.00', '784.00', '850.00', '950.00', '524.00', '471.00',\n",
       "       '533.00', '583.00', '554.00'], dtype=object)"
      ]
     },
     "execution_count": 100,
     "metadata": {},
     "output_type": "execute_result"
    }
   ],
   "source": [
    "calendar_clean['price'].unique()"
   ]
  },
  {
   "cell_type": "code",
   "execution_count": 101,
   "metadata": {},
   "outputs": [
    {
     "data": {
      "text/plain": [
       "array(['85.00', '0', '125.00', '154.00', '164.00', '155.00', '165.00',\n",
       "       '150.00', '145.00', '144.00', '148.00', '156.00', '147.00',\n",
       "       '158.00', '168.00', '192.00', '175.00', '162.00', '171.00',\n",
       "       '173.00', '166.00', '177.00', '183.00', '179.00', '181.00',\n",
       "       '167.00', '184.00', '186.00', '172.00', '190.00', '178.00',\n",
       "       '196.00', '197.00', '205.00', '214.00', '193.00', '202.00',\n",
       "       '189.00', '187.00', '194.00', '185.00', '200.00', '209.00',\n",
       "       '201.00', '211.00', '191.00', '210.00', '195.00', '199.00',\n",
       "       '207.00', '206.00', '182.00', '198.00', '163.00', '180.00',\n",
       "       '159.00', '157.00', '151.00', '152.00', '142.00', '134.00',\n",
       "       '137.00', '138.00', '133.00', '129.00', '127.00', '131.00',\n",
       "       '220.00', '222.00', '232.00', '217.00', '203.00', '204.00',\n",
       "       '229.00', '400.00', '975.00', '750.00', '500.00', '650.00',\n",
       "       '675.00', '1250.00', '1450.00', '1650.00', '100.00', '600.00',\n",
       "       '450.00', '475.00', '120.00', '140.00', '80.00', '42.00', '60.00',\n",
       "       '52.00', '51.00', '50.00', '61.00', '54.00', '53.00', '90.00',\n",
       "       '132.00', '139.00', '135.00', '141.00', '149.00', '169.00',\n",
       "       '218.00', '208.00', '188.00', '143.00', '130.00', '126.00',\n",
       "       '223.00', '358.00', '439.00', '95.00'], dtype=object)"
      ]
     },
     "execution_count": 101,
     "metadata": {},
     "output_type": "execute_result"
    }
   ],
   "source": [
    "listings_clean['price'].unique()"
   ]
  },
  {
   "cell_type": "code",
   "execution_count": 102,
   "metadata": {},
   "outputs": [
    {
     "data": {
      "text/plain": [
       "array(['0', '1000.00', '575.00', '360.00', '595.00', '800.00', '568.00',\n",
       "       '3000.00', '500.00', '699.00', '1325.00', '450.00', '950.00',\n",
       "       '540.00', '700.00', '650.00', '3035.00', '351.00', '1300.00',\n",
       "       '900.00', '945.00', '750.00', '549.00', '910.00', '555.00',\n",
       "       '1800.00', '590.00', '1500.00', '350.00', '1200.00', '2100.00',\n",
       "       '499.00', '525.00', '530.00', '550.00', '274.00', '559.00',\n",
       "       '420.00', '400.00', '300.00', '1065.00', '698.00', '536.00',\n",
       "       '1260.00', '600.00', '625.00', '2900.00', '440.00', '690.00',\n",
       "       '582.00', '805.00', '232.00', '715.00', '640.00', '1600.00',\n",
       "       '895.00', '925.00', '720.00', '1015.00', '6300.00', '428.00',\n",
       "       '1650.00', '425.00', '3150.00', '541.00', '1005.00', '730.00',\n",
       "       '2500.00', '1040.00', '1380.00', '915.00', '725.00', '1400.00',\n",
       "       '990.00', '770.00', '1460.00', '630.00', '619.00', '896.00',\n",
       "       '432.00', '790.00', '1470.00', '250.00', '275.00', '393.00',\n",
       "       '395.00', '325.00', '3250.00', '685.00', '833.00', '670.00',\n",
       "       '200.00', '1225.00', '370.00', '1096.00', '419.00', '875.00',\n",
       "       '339.00', '825.00', '1250.00', '785.00', '620.00', '678.00',\n",
       "       '696.00', '482.00', '999.00', '446.00', '375.00', '637.00',\n",
       "       '815.00', '349.00', '850.00', '3950.00', '225.00', '285.00',\n",
       "       '1090.00', '1750.00', '340.00', '1485.00', '490.00', '749.00',\n",
       "       '405.00', '599.00', '1077.00', '629.00', '1150.00', '560.00',\n",
       "       '510.00', '585.00', '930.00', '554.00', '455.00', '480.00',\n",
       "       '385.00', '695.00', '675.00', '680.00', '262.00', '755.00',\n",
       "       '580.00', '430.00', '780.00', '259.00', '1100.00', '762.00',\n",
       "       '1050.00', '643.00', '292.00', '333.00', '1850.00', '309.00',\n",
       "       '738.00', '485.00', '1499.00', '476.00', '235.00', '845.00',\n",
       "       '660.00', '2037.00', '628.00', '495.00', '398.00', '2700.00',\n",
       "       '889.00', '1575.00', '1160.00', '381.00', '863.00', '280.00',\n",
       "       '3100.00', '1700.00', '2000.00', '795.00', '610.00', '506.00',\n",
       "       '980.00', '315.00', '4499.00', '1295.00', '2200.00', '298.00',\n",
       "       '255.00', '320.00', '305.00', '1071.00', '2398.00', '260.00',\n",
       "       '1900.00', '960.00', '1530.00', '672.00', '452.00', '1490.00',\n",
       "       '890.00', '1029.00', '1350.00', '1176.00', '1089.00', '240.00',\n",
       "       '1265.00', '869.00', '2300.00', '1008.00', '1009.00', '1224.00',\n",
       "       '520.00', '993.00', '577.00', '830.00', '914.00', '1365.00',\n",
       "       '1149.00', '931.00', '387.00', '528.00', '389.00', '458.00',\n",
       "       '571.00', '290.00', '1999.00', '2125.00', '470.00', '558.00',\n",
       "       '899.00', '299.00', '268.00', '1140.00', '475.00', '1075.00',\n",
       "       '840.00', '799.00', '343.00', '357.00', '1899.00', '1550.00',\n",
       "       '1599.00', '390.00', '744.00', '1327.00', '665.00', '524.00',\n",
       "       '161.00', '893.00', '410.00', '439.00', '1110.00', '226.00',\n",
       "       '732.00', '230.00', '745.00', '905.00', '607.00', '615.00',\n",
       "       '214.00', '270.00', '512.00', '1299.00', '740.00', '329.00',\n",
       "       '330.00', '327.00', '1950.00', '457.00', '238.00', '220.00',\n",
       "       '964.00', '565.00', '535.00', '210.00', '655.00', '173.00',\n",
       "       '244.00', '208.00', '539.00', '4800.00', '415.00', '985.00',\n",
       "       '1590.00', '548.00', '775.00', '3500.00', '464.00', '472.00',\n",
       "       '406.00', '756.00', '613.00', '286.00', '269.00', '279.00',\n",
       "       '267.00', '422.00', '1311.00', '1261.00', '363.00', '553.00',\n",
       "       '940.00', '710.00', '3600.00', '1363.00', '1148.00', '995.00',\n",
       "       '567.00', '726.00', '409.00', '345.00', '380.00', '839.00',\n",
       "       '645.00', '460.00', '1450.00', '435.00', '1239.00', '1475.00',\n",
       "       '594.00', '714.00', '704.00', '949.00', '589.00', '887.00',\n",
       "       '488.00', '759.00', '687.00', '1107.00', '1830.00', '202.00',\n",
       "       '588.00', '975.00', '347.00', '355.00', '647.00', '1190.00',\n",
       "       '1025.00', '2211.00', '562.00', '689.00', '587.00', '888.00',\n",
       "       '1120.00'], dtype=object)"
      ]
     },
     "execution_count": 102,
     "metadata": {},
     "output_type": "execute_result"
    }
   ],
   "source": [
    "listings_clean['weekly_price'].unique()"
   ]
  },
  {
   "cell_type": "code",
   "execution_count": 103,
   "metadata": {},
   "outputs": [
    {
     "data": {
      "text/plain": [
       "array(['0', '3000.00', '2000.00', '5000.00', '2029.00', '3200.00',\n",
       "       '2388.00', '4650.00', '2700.00', '1500.00', '2950.00', '1911.00',\n",
       "       '12140.00', '3950.00', '3750.00', '3970.00', '3402.00', '1850.00',\n",
       "       '1795.00', '2250.00', '5500.00', '1250.00', '4950.00', '7000.00',\n",
       "       '1600.00', '1900.00', '1974.00', '1899.00', '1300.00', '1100.00',\n",
       "       '3759.00', '2552.00', '1875.00', '2300.00', '1450.00', '1800.00',\n",
       "       '3450.00', '2200.00', '3800.00', '819.00', '2205.00', '3150.00',\n",
       "       '2500.00', '3625.00', '19500.00', '1512.00', '11700.00', '3900.00',\n",
       "       '4000.00', '3850.00', '3528.00', '1995.00', '1950.00', '4960.00',\n",
       "       '2400.00', '2184.00', '3600.00', '3045.00', '1780.00', '1350.00',\n",
       "       '2100.00', '2649.00', '1990.00', '5964.00', '750.00', '850.00',\n",
       "       '3500.00', '1386.00', '1389.00', '9500.00', '2900.00', '3700.00',\n",
       "       '2940.00', '520.00', '990.00', '1499.00', '6300.00', '950.00',\n",
       "       '4100.00', '1395.00', '1197.00', '4410.00', '1999.00', '2750.00',\n",
       "       '1225.00', '1664.00', '2394.00', '2457.00', '2999.00', '1302.00',\n",
       "       '1000.00', '6000.00', '4250.00', '2247.00', '2877.00', '1750.00',\n",
       "       '1099.00', '13500.00', '1200.00', '780.00', '650.00', '8400.00',\n",
       "       '4695.00', '2600.00', '1890.00', '1428.00', '1799.00', '3801.00',\n",
       "       '2199.00', '3400.00', '2800.00', '4995.00', '2150.00', '1975.00',\n",
       "       '4030.00', '1848.00', '2695.00', '1295.00', '1650.00', '1895.00',\n",
       "       '1495.00', '1695.00', '4900.00', '2350.00', '924.00', '2551.00',\n",
       "       '4500.00', '1595.00', '880.00', '2995.00', '2895.00', '813.00',\n",
       "       '2688.00', '3640.00', '1400.00', '5200.00', '2268.00', '1029.00',\n",
       "       '1176.00', '1092.00', '1701.00', '4800.00', '1253.00', '1743.00',\n",
       "       '2415.00', '2185.00', '1260.00', '2942.00', '2218.00', '2990.00',\n",
       "       '4750.00', '1700.00', '10000.00', '2989.00', '1740.00', '900.00',\n",
       "       '4095.00', '1344.00', '2669.00', '2850.00', '2315.00', '3100.00',\n",
       "       '14559.00', '3995.00', '5649.00', '1050.00', '1764.00', '966.00',\n",
       "       '825.00', '6400.00', '1120.00', '4400.00', '7500.00', '3300.00',\n",
       "       '7400.00', '8500.00', '3380.00', '5900.00', '9000.00', '2425.00',\n",
       "       '5600.00', '5575.00', '3295.00', '3633.00', '3999.00', '6500.00',\n",
       "       '3066.00', '3120.00', '2245.00', '3280.00', '2274.00', '3597.00',\n",
       "       '2594.00', '4200.00', '10500.00', '6200.00', '1985.00', '945.00',\n",
       "       '2140.00', '2240.00', '2298.00', '882.00', '1790.00', '2799.00',\n",
       "       '1372.00', '4999.00', '2399.00', '1670.00', '1190.00', '4683.00',\n",
       "       '2550.00', '800.00', '600.00', '3160.00', '1560.00', '1175.00',\n",
       "       '2330.00', '2290.00', '2010.00', '1575.00', '2985.00', '1228.00',\n",
       "       '885.00', '756.00', '975.00', '1806.00', '1365.00', '1480.00',\n",
       "       '798.00', '1550.00', '1725.00', '1199.00', '1280.00', '3050.00',\n",
       "       '840.00', '777.00', '1113.00', '3618.00', '2339.00', '1490.00',\n",
       "       '987.00', '1590.00', '690.00', '2455.00', '1675.00', '2050.00',\n",
       "       '1475.00', '1510.00', '2625.00', '1020.00', '5950.00', '5990.00',\n",
       "       '609.00', '985.00', '1150.00', '5300.00', '735.00', '1996.00',\n",
       "       '1075.00', '19000.00', '7200.00', '1960.00', '2595.00', '2194.00',\n",
       "       '2310.00', '1638.00', '2499.00', '855.00', '895.00', '4988.00',\n",
       "       '1491.00', '2175.00', '2195.00', '3650.00', '6850.00', '1095.00',\n",
       "       '845.00', '1659.00', '4020.00', '2650.00', '1439.00', '5800.00',\n",
       "       '1220.00', '1925.00', '5190.00', '2961.00', '875.00', '4300.00',\n",
       "       '1440.00', '2495.00', '2520.00', '2573.00', '8979.00', '1879.00',\n",
       "       '1360.00', '2490.00', '2163.00', '1617.00', '2748.00', '2790.00',\n",
       "       '930.00', '2352.00', '2450.00', '2970.00', '2037.00', '4440.00',\n",
       "       '1315.00', '3350.00', '3250.00', '7350.00', '3240.00'],\n",
       "      dtype=object)"
      ]
     },
     "execution_count": 103,
     "metadata": {},
     "output_type": "execute_result"
    }
   ],
   "source": [
    "listings_clean['monthly_price'].unique()"
   ]
  },
  {
   "cell_type": "code",
   "execution_count": 104,
   "metadata": {},
   "outputs": [
    {
     "data": {
      "text/plain": [
       "array(['0', '3000.00', '2000.00', '5000.00', '2029.00', '3200.00',\n",
       "       '2388.00', '4650.00', '2700.00', '1500.00', '2950.00', '1911.00',\n",
       "       '12140.00', '3950.00', '3750.00', '3970.00', '3402.00', '1850.00',\n",
       "       '1795.00', '2250.00', '5500.00', '1250.00', '4950.00', '7000.00',\n",
       "       '1600.00', '1900.00', '1974.00', '1899.00', '1300.00', '1100.00',\n",
       "       '3759.00', '2552.00', '1875.00', '2300.00', '1450.00', '1800.00',\n",
       "       '3450.00', '2200.00', '3800.00', '819.00', '2205.00', '3150.00',\n",
       "       '2500.00', '3625.00', '19500.00', '1512.00', '11700.00', '3900.00',\n",
       "       '4000.00', '3850.00', '3528.00', '1995.00', '1950.00', '4960.00',\n",
       "       '2400.00', '2184.00', '3600.00', '3045.00', '1780.00', '1350.00',\n",
       "       '2100.00', '2649.00', '1990.00', '5964.00', '750.00', '850.00',\n",
       "       '3500.00', '1386.00', '1389.00', '9500.00', '2900.00', '3700.00',\n",
       "       '2940.00', '520.00', '990.00', '1499.00', '6300.00', '950.00',\n",
       "       '4100.00', '1395.00', '1197.00', '4410.00', '1999.00', '2750.00',\n",
       "       '1225.00', '1664.00', '2394.00', '2457.00', '2999.00', '1302.00',\n",
       "       '1000.00', '6000.00', '4250.00', '2247.00', '2877.00', '1750.00',\n",
       "       '1099.00', '13500.00', '1200.00', '780.00', '650.00', '8400.00',\n",
       "       '4695.00', '2600.00', '1890.00', '1428.00', '1799.00', '3801.00',\n",
       "       '2199.00', '3400.00', '2800.00', '4995.00', '2150.00', '1975.00',\n",
       "       '4030.00', '1848.00', '2695.00', '1295.00', '1650.00', '1895.00',\n",
       "       '1495.00', '1695.00', '4900.00', '2350.00', '924.00', '2551.00',\n",
       "       '4500.00', '1595.00', '880.00', '2995.00', '2895.00', '813.00',\n",
       "       '2688.00', '3640.00', '1400.00', '5200.00', '2268.00', '1029.00',\n",
       "       '1176.00', '1092.00', '1701.00', '4800.00', '1253.00', '1743.00',\n",
       "       '2415.00', '2185.00', '1260.00', '2942.00', '2218.00', '2990.00',\n",
       "       '4750.00', '1700.00', '10000.00', '2989.00', '1740.00', '900.00',\n",
       "       '4095.00', '1344.00', '2669.00', '2850.00', '2315.00', '3100.00',\n",
       "       '14559.00', '3995.00', '5649.00', '1050.00', '1764.00', '966.00',\n",
       "       '825.00', '6400.00', '1120.00', '4400.00', '7500.00', '3300.00',\n",
       "       '7400.00', '8500.00', '3380.00', '5900.00', '9000.00', '2425.00',\n",
       "       '5600.00', '5575.00', '3295.00', '3633.00', '3999.00', '6500.00',\n",
       "       '3066.00', '3120.00', '2245.00', '3280.00', '2274.00', '3597.00',\n",
       "       '2594.00', '4200.00', '10500.00', '6200.00', '1985.00', '945.00',\n",
       "       '2140.00', '2240.00', '2298.00', '882.00', '1790.00', '2799.00',\n",
       "       '1372.00', '4999.00', '2399.00', '1670.00', '1190.00', '4683.00',\n",
       "       '2550.00', '800.00', '600.00', '3160.00', '1560.00', '1175.00',\n",
       "       '2330.00', '2290.00', '2010.00', '1575.00', '2985.00', '1228.00',\n",
       "       '885.00', '756.00', '975.00', '1806.00', '1365.00', '1480.00',\n",
       "       '798.00', '1550.00', '1725.00', '1199.00', '1280.00', '3050.00',\n",
       "       '840.00', '777.00', '1113.00', '3618.00', '2339.00', '1490.00',\n",
       "       '987.00', '1590.00', '690.00', '2455.00', '1675.00', '2050.00',\n",
       "       '1475.00', '1510.00', '2625.00', '1020.00', '5950.00', '5990.00',\n",
       "       '609.00', '985.00', '1150.00', '5300.00', '735.00', '1996.00',\n",
       "       '1075.00', '19000.00', '7200.00', '1960.00', '2595.00', '2194.00',\n",
       "       '2310.00', '1638.00', '2499.00', '855.00', '895.00', '4988.00',\n",
       "       '1491.00', '2175.00', '2195.00', '3650.00', '6850.00', '1095.00',\n",
       "       '845.00', '1659.00', '4020.00', '2650.00', '1439.00', '5800.00',\n",
       "       '1220.00', '1925.00', '5190.00', '2961.00', '875.00', '4300.00',\n",
       "       '1440.00', '2495.00', '2520.00', '2573.00', '8979.00', '1879.00',\n",
       "       '1360.00', '2490.00', '2163.00', '1617.00', '2748.00', '2790.00',\n",
       "       '930.00', '2352.00', '2450.00', '2970.00', '2037.00', '4440.00',\n",
       "       '1315.00', '3350.00', '3250.00', '7350.00', '3240.00'],\n",
       "      dtype=object)"
      ]
     },
     "execution_count": 104,
     "metadata": {},
     "output_type": "execute_result"
    }
   ],
   "source": [
    "listings_clean['cleaning_fee'].unique()"
   ]
  },
  {
   "cell_type": "markdown",
   "metadata": {},
   "source": [
    "##### Define: Change the column format:\n",
    "\n",
    "###### calendar_clean\n",
    "\n",
    "- listing_id convert to a string.\n",
    "- date convert to date format\n",
    "- price convert to a float\n",
    "\n",
    "###### listings_clean\n",
    "\n",
    "- id\n",
    "- host_id\n",
    "- price\n",
    "- weekly_price\n",
    "- monthly_price\n",
    "- security_deposit\n",
    "- cleaning_fee\n",
    "\n",
    "\n",
    "######  reviews_clean\n",
    "\n",
    "- listing_id convert to a string.\n",
    "- id convert to a string.\n",
    "- date convert to date format\n",
    "- reviewer_id convert to a string."
   ]
  },
  {
   "cell_type": "markdown",
   "metadata": {},
   "source": [
    "Code"
   ]
  },
  {
   "cell_type": "code",
   "execution_count": 105,
   "metadata": {},
   "outputs": [],
   "source": [
    "calendar_clean['listing_id'] = calendar_clean['listing_id'].astype(str)\n",
    "calendar_clean['date'] = pd.to_datetime(calendar_clean['date'])\n",
    "calendar_clean['price'] = calendar_clean['price'].astype(float)"
   ]
  },
  {
   "cell_type": "code",
   "execution_count": 106,
   "metadata": {},
   "outputs": [],
   "source": [
    "listings_clean['id'] = listings_clean['id'].astype(str)\n",
    "listings_clean['host_id'] = listings_clean['host_id'].astype(str)\n",
    "listings_clean['price'] = listings_clean['price'].astype(float)\n",
    "listings_clean['weekly_price'] = listings_clean['weekly_price'].astype(float)\n",
    "listings_clean['monthly_price'] = listings_clean['monthly_price'].astype(float)\n",
    "listings_clean['security_deposit'] = listings_clean['security_deposit'].astype(float)\n",
    "listings_clean['cleaning_fee'] = listings_clean['cleaning_fee'].astype(float)"
   ]
  },
  {
   "cell_type": "code",
   "execution_count": 107,
   "metadata": {},
   "outputs": [],
   "source": [
    "reviews_clean['listing_id'] = reviews_clean['listing_id'].astype(str)\n",
    "reviews_clean['id'] = reviews_clean['id'].astype(str)\n",
    "reviews_clean['date'] = pd.to_datetime(reviews_clean['date'])\n",
    "reviews_clean['reviewer_id'] = reviews_clean['reviewer_id'].astype(str)"
   ]
  },
  {
   "cell_type": "markdown",
   "metadata": {},
   "source": [
    "Test"
   ]
  },
  {
   "cell_type": "code",
   "execution_count": 108,
   "metadata": {},
   "outputs": [
    {
     "name": "stdout",
     "output_type": "stream",
     "text": [
      "<class 'pandas.core.frame.DataFrame'>\n",
      "RangeIndex: 1393570 entries, 0 to 1393569\n",
      "Data columns (total 3 columns):\n",
      "listing_id    1393570 non-null object\n",
      "date          1393570 non-null datetime64[ns]\n",
      "price         1393570 non-null float64\n",
      "dtypes: datetime64[ns](1), float64(1), object(1)\n",
      "memory usage: 31.9+ MB\n"
     ]
    }
   ],
   "source": [
    "calendar_clean.info()"
   ]
  },
  {
   "cell_type": "code",
   "execution_count": 109,
   "metadata": {},
   "outputs": [
    {
     "name": "stdout",
     "output_type": "stream",
     "text": [
      "<class 'pandas.core.frame.DataFrame'>\n",
      "Int64Index: 2397 entries, 0 to 3814\n",
      "Data columns (total 63 columns):\n",
      "id                                2397 non-null object\n",
      "name                              2397 non-null object\n",
      "host_id                           2397 non-null object\n",
      "host_name                         2397 non-null object\n",
      "host_since                        2397 non-null object\n",
      "host_location                     2397 non-null object\n",
      "host_response_time                2397 non-null object\n",
      "host_response_rate                2397 non-null object\n",
      "host_acceptance_rate              2397 non-null object\n",
      "host_is_superhost                 2397 non-null object\n",
      "host_neighbourhood                2397 non-null object\n",
      "host_listings_count               2397 non-null float64\n",
      "host_total_listings_count         2397 non-null float64\n",
      "host_verifications                2397 non-null object\n",
      "host_has_profile_pic              2397 non-null object\n",
      "host_identity_verified            2397 non-null object\n",
      "neighbourhood                     2397 non-null object\n",
      "neighbourhood_cleansed            2397 non-null object\n",
      "neighbourhood_group_cleansed      2397 non-null object\n",
      "city                              2397 non-null object\n",
      "state                             2397 non-null object\n",
      "zipcode                           2397 non-null object\n",
      "market                            2397 non-null object\n",
      "smart_location                    2397 non-null object\n",
      "latitude                          2397 non-null float64\n",
      "longitude                         2397 non-null float64\n",
      "is_location_exact                 2397 non-null object\n",
      "property_type                     2397 non-null object\n",
      "room_type                         2397 non-null object\n",
      "accommodates                      2397 non-null int64\n",
      "bathrooms                         2397 non-null float64\n",
      "bedrooms                          2397 non-null float64\n",
      "beds                              2397 non-null float64\n",
      "bed_type                          2397 non-null object\n",
      "price                             2397 non-null float64\n",
      "weekly_price                      2397 non-null float64\n",
      "monthly_price                     2397 non-null float64\n",
      "security_deposit                  2397 non-null float64\n",
      "cleaning_fee                      2397 non-null float64\n",
      "guests_included                   2397 non-null int64\n",
      "extra_people                      2397 non-null object\n",
      "minimum_nights                    2397 non-null int64\n",
      "maximum_nights                    2397 non-null int64\n",
      "has_availability                  2397 non-null object\n",
      "availability_30                   2397 non-null int64\n",
      "availability_60                   2397 non-null int64\n",
      "availability_90                   2397 non-null int64\n",
      "availability_365                  2397 non-null int64\n",
      "calendar_last_scraped             2397 non-null object\n",
      "number_of_reviews                 2397 non-null int64\n",
      "first_review                      2397 non-null object\n",
      "last_review                       2397 non-null object\n",
      "review_scores_rating              2397 non-null float64\n",
      "review_scores_accuracy            2397 non-null float64\n",
      "review_scores_cleanliness         2397 non-null float64\n",
      "review_scores_checkin             2397 non-null float64\n",
      "review_scores_communication       2397 non-null float64\n",
      "review_scores_location            2397 non-null float64\n",
      "review_scores_value               2397 non-null float64\n",
      "instant_bookable                  2397 non-null object\n",
      "cancellation_policy               2397 non-null object\n",
      "calculated_host_listings_count    2397 non-null int64\n",
      "reviews_per_month                 2397 non-null float64\n",
      "dtypes: float64(20), int64(10), object(33)\n",
      "memory usage: 1.2+ MB\n"
     ]
    }
   ],
   "source": [
    "listings_clean.info()"
   ]
  },
  {
   "cell_type": "code",
   "execution_count": 110,
   "metadata": {},
   "outputs": [
    {
     "name": "stdout",
     "output_type": "stream",
     "text": [
      "<class 'pandas.core.frame.DataFrame'>\n",
      "RangeIndex: 84849 entries, 0 to 84848\n",
      "Data columns (total 6 columns):\n",
      "listing_id       84849 non-null object\n",
      "id               84849 non-null object\n",
      "date             84849 non-null datetime64[ns]\n",
      "reviewer_id      84849 non-null object\n",
      "reviewer_name    84849 non-null object\n",
      "comments         84831 non-null object\n",
      "dtypes: datetime64[ns](1), object(5)\n",
      "memory usage: 3.9+ MB\n"
     ]
    }
   ],
   "source": [
    "reviews_clean.info()"
   ]
  },
  {
   "cell_type": "markdown",
   "metadata": {},
   "source": [
    "##### Define: Rename columns as there a dupicate names in the data set. \n",
    "\n",
    "###### listings_clean\n",
    "- id rename to listing_id\n",
    "- price rename to listing_price\n",
    "\n",
    "###### calendar_clean\n",
    "\n",
    "- date to calendar_date\n",
    "- price to day_price\n",
    "\n",
    "###### reviews_clean\n",
    "- date to review_date\n",
    "- id to reviews_id\n"
   ]
  },
  {
   "cell_type": "markdown",
   "metadata": {},
   "source": [
    "Code"
   ]
  },
  {
   "cell_type": "code",
   "execution_count": 111,
   "metadata": {},
   "outputs": [],
   "source": [
    "listings_clean.rename({'id':'listing_id'},axis=1,inplace=True)"
   ]
  },
  {
   "cell_type": "code",
   "execution_count": 112,
   "metadata": {},
   "outputs": [],
   "source": [
    "listings_clean.rename({'price':'listing_price'},axis=1,inplace=True)"
   ]
  },
  {
   "cell_type": "code",
   "execution_count": 113,
   "metadata": {},
   "outputs": [],
   "source": [
    "calendar_clean.rename({'date':'calendar_date'},axis=1,inplace=True)"
   ]
  },
  {
   "cell_type": "code",
   "execution_count": 114,
   "metadata": {},
   "outputs": [],
   "source": [
    "calendar_clean.rename({'price':'day_price'},axis=1,inplace=True)"
   ]
  },
  {
   "cell_type": "code",
   "execution_count": 115,
   "metadata": {},
   "outputs": [],
   "source": [
    "reviews_clean.rename({'date':'review_date'},axis=1,inplace=True)"
   ]
  },
  {
   "cell_type": "code",
   "execution_count": 116,
   "metadata": {},
   "outputs": [],
   "source": [
    "reviews_clean.rename({'id':'reviews_id'},axis=1,inplace=True)"
   ]
  },
  {
   "cell_type": "markdown",
   "metadata": {},
   "source": [
    "Test"
   ]
  },
  {
   "cell_type": "code",
   "execution_count": 117,
   "metadata": {},
   "outputs": [
    {
     "name": "stdout",
     "output_type": "stream",
     "text": [
      "<class 'pandas.core.frame.DataFrame'>\n",
      "Int64Index: 2397 entries, 0 to 3814\n",
      "Data columns (total 63 columns):\n",
      "listing_id                        2397 non-null object\n",
      "name                              2397 non-null object\n",
      "host_id                           2397 non-null object\n",
      "host_name                         2397 non-null object\n",
      "host_since                        2397 non-null object\n",
      "host_location                     2397 non-null object\n",
      "host_response_time                2397 non-null object\n",
      "host_response_rate                2397 non-null object\n",
      "host_acceptance_rate              2397 non-null object\n",
      "host_is_superhost                 2397 non-null object\n",
      "host_neighbourhood                2397 non-null object\n",
      "host_listings_count               2397 non-null float64\n",
      "host_total_listings_count         2397 non-null float64\n",
      "host_verifications                2397 non-null object\n",
      "host_has_profile_pic              2397 non-null object\n",
      "host_identity_verified            2397 non-null object\n",
      "neighbourhood                     2397 non-null object\n",
      "neighbourhood_cleansed            2397 non-null object\n",
      "neighbourhood_group_cleansed      2397 non-null object\n",
      "city                              2397 non-null object\n",
      "state                             2397 non-null object\n",
      "zipcode                           2397 non-null object\n",
      "market                            2397 non-null object\n",
      "smart_location                    2397 non-null object\n",
      "latitude                          2397 non-null float64\n",
      "longitude                         2397 non-null float64\n",
      "is_location_exact                 2397 non-null object\n",
      "property_type                     2397 non-null object\n",
      "room_type                         2397 non-null object\n",
      "accommodates                      2397 non-null int64\n",
      "bathrooms                         2397 non-null float64\n",
      "bedrooms                          2397 non-null float64\n",
      "beds                              2397 non-null float64\n",
      "bed_type                          2397 non-null object\n",
      "listing_price                     2397 non-null float64\n",
      "weekly_price                      2397 non-null float64\n",
      "monthly_price                     2397 non-null float64\n",
      "security_deposit                  2397 non-null float64\n",
      "cleaning_fee                      2397 non-null float64\n",
      "guests_included                   2397 non-null int64\n",
      "extra_people                      2397 non-null object\n",
      "minimum_nights                    2397 non-null int64\n",
      "maximum_nights                    2397 non-null int64\n",
      "has_availability                  2397 non-null object\n",
      "availability_30                   2397 non-null int64\n",
      "availability_60                   2397 non-null int64\n",
      "availability_90                   2397 non-null int64\n",
      "availability_365                  2397 non-null int64\n",
      "calendar_last_scraped             2397 non-null object\n",
      "number_of_reviews                 2397 non-null int64\n",
      "first_review                      2397 non-null object\n",
      "last_review                       2397 non-null object\n",
      "review_scores_rating              2397 non-null float64\n",
      "review_scores_accuracy            2397 non-null float64\n",
      "review_scores_cleanliness         2397 non-null float64\n",
      "review_scores_checkin             2397 non-null float64\n",
      "review_scores_communication       2397 non-null float64\n",
      "review_scores_location            2397 non-null float64\n",
      "review_scores_value               2397 non-null float64\n",
      "instant_bookable                  2397 non-null object\n",
      "cancellation_policy               2397 non-null object\n",
      "calculated_host_listings_count    2397 non-null int64\n",
      "reviews_per_month                 2397 non-null float64\n",
      "dtypes: float64(20), int64(10), object(33)\n",
      "memory usage: 1.2+ MB\n"
     ]
    }
   ],
   "source": [
    "listings_clean.info()"
   ]
  },
  {
   "cell_type": "code",
   "execution_count": 118,
   "metadata": {},
   "outputs": [
    {
     "name": "stdout",
     "output_type": "stream",
     "text": [
      "<class 'pandas.core.frame.DataFrame'>\n",
      "RangeIndex: 1393570 entries, 0 to 1393569\n",
      "Data columns (total 3 columns):\n",
      "listing_id       1393570 non-null object\n",
      "calendar_date    1393570 non-null datetime64[ns]\n",
      "day_price        1393570 non-null float64\n",
      "dtypes: datetime64[ns](1), float64(1), object(1)\n",
      "memory usage: 31.9+ MB\n"
     ]
    }
   ],
   "source": [
    "calendar_clean.info()"
   ]
  },
  {
   "cell_type": "code",
   "execution_count": 119,
   "metadata": {},
   "outputs": [
    {
     "name": "stdout",
     "output_type": "stream",
     "text": [
      "<class 'pandas.core.frame.DataFrame'>\n",
      "RangeIndex: 84849 entries, 0 to 84848\n",
      "Data columns (total 6 columns):\n",
      "listing_id       84849 non-null object\n",
      "reviews_id       84849 non-null object\n",
      "review_date      84849 non-null datetime64[ns]\n",
      "reviewer_id      84849 non-null object\n",
      "reviewer_name    84849 non-null object\n",
      "comments         84831 non-null object\n",
      "dtypes: datetime64[ns](1), object(5)\n",
      "memory usage: 3.9+ MB\n"
     ]
    }
   ],
   "source": [
    "reviews_clean.info()"
   ]
  },
  {
   "cell_type": "markdown",
   "metadata": {},
   "source": [
    "#### 3.5: Merged data"
   ]
  },
  {
   "cell_type": "markdown",
   "metadata": {},
   "source": [
    "##### Define: Merging data Set:\n",
    "\n",
    "###### Merge 1: listings_clean - calendar_clean\n",
    "\n",
    "- Left Join on calendar_clean\n",
    "- Merge on Primary key: listing_id\n",
    "\n",
    "###### Merge 2: Merge 1 - reviews_clean\n",
    "\n",
    "- Left Join on reviews_clean\n",
    "- Merge on Primary key: listing_id"
   ]
  },
  {
   "cell_type": "markdown",
   "metadata": {},
   "source": [
    "code"
   ]
  },
  {
   "cell_type": "code",
   "execution_count": 120,
   "metadata": {},
   "outputs": [],
   "source": [
    "merge_1 = pd.merge(listings_clean, calendar_clean, how='left', on='listing_id')"
   ]
  },
  {
   "cell_type": "code",
   "execution_count": 121,
   "metadata": {},
   "outputs": [],
   "source": [
    "merge_2 = pd.merge(merge_1, reviews_clean, how='left', on='listing_id')"
   ]
  },
  {
   "cell_type": "markdown",
   "metadata": {},
   "source": [
    "Test"
   ]
  },
  {
   "cell_type": "code",
   "execution_count": 122,
   "metadata": {},
   "outputs": [
    {
     "name": "stdout",
     "output_type": "stream",
     "text": [
      "<class 'pandas.core.frame.DataFrame'>\n",
      "Int64Index: 874905 entries, 0 to 874904\n",
      "Data columns (total 65 columns):\n",
      "listing_id                        874905 non-null object\n",
      "name                              874905 non-null object\n",
      "host_id                           874905 non-null object\n",
      "host_name                         874905 non-null object\n",
      "host_since                        874905 non-null object\n",
      "host_location                     874905 non-null object\n",
      "host_response_time                874905 non-null object\n",
      "host_response_rate                874905 non-null object\n",
      "host_acceptance_rate              874905 non-null object\n",
      "host_is_superhost                 874905 non-null object\n",
      "host_neighbourhood                874905 non-null object\n",
      "host_listings_count               874905 non-null float64\n",
      "host_total_listings_count         874905 non-null float64\n",
      "host_verifications                874905 non-null object\n",
      "host_has_profile_pic              874905 non-null object\n",
      "host_identity_verified            874905 non-null object\n",
      "neighbourhood                     874905 non-null object\n",
      "neighbourhood_cleansed            874905 non-null object\n",
      "neighbourhood_group_cleansed      874905 non-null object\n",
      "city                              874905 non-null object\n",
      "state                             874905 non-null object\n",
      "zipcode                           874905 non-null object\n",
      "market                            874905 non-null object\n",
      "smart_location                    874905 non-null object\n",
      "latitude                          874905 non-null float64\n",
      "longitude                         874905 non-null float64\n",
      "is_location_exact                 874905 non-null object\n",
      "property_type                     874905 non-null object\n",
      "room_type                         874905 non-null object\n",
      "accommodates                      874905 non-null int64\n",
      "bathrooms                         874905 non-null float64\n",
      "bedrooms                          874905 non-null float64\n",
      "beds                              874905 non-null float64\n",
      "bed_type                          874905 non-null object\n",
      "listing_price                     874905 non-null float64\n",
      "weekly_price                      874905 non-null float64\n",
      "monthly_price                     874905 non-null float64\n",
      "security_deposit                  874905 non-null float64\n",
      "cleaning_fee                      874905 non-null float64\n",
      "guests_included                   874905 non-null int64\n",
      "extra_people                      874905 non-null object\n",
      "minimum_nights                    874905 non-null int64\n",
      "maximum_nights                    874905 non-null int64\n",
      "has_availability                  874905 non-null object\n",
      "availability_30                   874905 non-null int64\n",
      "availability_60                   874905 non-null int64\n",
      "availability_90                   874905 non-null int64\n",
      "availability_365                  874905 non-null int64\n",
      "calendar_last_scraped             874905 non-null object\n",
      "number_of_reviews                 874905 non-null int64\n",
      "first_review                      874905 non-null object\n",
      "last_review                       874905 non-null object\n",
      "review_scores_rating              874905 non-null float64\n",
      "review_scores_accuracy            874905 non-null float64\n",
      "review_scores_cleanliness         874905 non-null float64\n",
      "review_scores_checkin             874905 non-null float64\n",
      "review_scores_communication       874905 non-null float64\n",
      "review_scores_location            874905 non-null float64\n",
      "review_scores_value               874905 non-null float64\n",
      "instant_bookable                  874905 non-null object\n",
      "cancellation_policy               874905 non-null object\n",
      "calculated_host_listings_count    874905 non-null int64\n",
      "reviews_per_month                 874905 non-null float64\n",
      "calendar_date                     874905 non-null datetime64[ns]\n",
      "day_price                         874905 non-null float64\n",
      "dtypes: datetime64[ns](1), float64(21), int64(10), object(33)\n",
      "memory usage: 440.5+ MB\n"
     ]
    }
   ],
   "source": [
    "merge_1.info()"
   ]
  },
  {
   "cell_type": "code",
   "execution_count": 123,
   "metadata": {},
   "outputs": [
    {
     "name": "stdout",
     "output_type": "stream",
     "text": [
      "<class 'pandas.core.frame.DataFrame'>\n",
      "Int64Index: 26964740 entries, 0 to 26964739\n",
      "Data columns (total 70 columns):\n",
      "listing_id                        object\n",
      "name                              object\n",
      "host_id                           object\n",
      "host_name                         object\n",
      "host_since                        object\n",
      "host_location                     object\n",
      "host_response_time                object\n",
      "host_response_rate                object\n",
      "host_acceptance_rate              object\n",
      "host_is_superhost                 object\n",
      "host_neighbourhood                object\n",
      "host_listings_count               float64\n",
      "host_total_listings_count         float64\n",
      "host_verifications                object\n",
      "host_has_profile_pic              object\n",
      "host_identity_verified            object\n",
      "neighbourhood                     object\n",
      "neighbourhood_cleansed            object\n",
      "neighbourhood_group_cleansed      object\n",
      "city                              object\n",
      "state                             object\n",
      "zipcode                           object\n",
      "market                            object\n",
      "smart_location                    object\n",
      "latitude                          float64\n",
      "longitude                         float64\n",
      "is_location_exact                 object\n",
      "property_type                     object\n",
      "room_type                         object\n",
      "accommodates                      int64\n",
      "bathrooms                         float64\n",
      "bedrooms                          float64\n",
      "beds                              float64\n",
      "bed_type                          object\n",
      "listing_price                     float64\n",
      "weekly_price                      float64\n",
      "monthly_price                     float64\n",
      "security_deposit                  float64\n",
      "cleaning_fee                      float64\n",
      "guests_included                   int64\n",
      "extra_people                      object\n",
      "minimum_nights                    int64\n",
      "maximum_nights                    int64\n",
      "has_availability                  object\n",
      "availability_30                   int64\n",
      "availability_60                   int64\n",
      "availability_90                   int64\n",
      "availability_365                  int64\n",
      "calendar_last_scraped             object\n",
      "number_of_reviews                 int64\n",
      "first_review                      object\n",
      "last_review                       object\n",
      "review_scores_rating              float64\n",
      "review_scores_accuracy            float64\n",
      "review_scores_cleanliness         float64\n",
      "review_scores_checkin             float64\n",
      "review_scores_communication       float64\n",
      "review_scores_location            float64\n",
      "review_scores_value               float64\n",
      "instant_bookable                  object\n",
      "cancellation_policy               object\n",
      "calculated_host_listings_count    int64\n",
      "reviews_per_month                 float64\n",
      "calendar_date                     datetime64[ns]\n",
      "day_price                         float64\n",
      "reviews_id                        object\n",
      "review_date                       datetime64[ns]\n",
      "reviewer_id                       object\n",
      "reviewer_name                     object\n",
      "comments                          object\n",
      "dtypes: datetime64[ns](2), float64(21), int64(10), object(37)\n",
      "memory usage: 14.3+ GB\n"
     ]
    }
   ],
   "source": [
    "merge_2.info()"
   ]
  },
  {
   "cell_type": "code",
   "execution_count": 124,
   "metadata": {},
   "outputs": [
    {
     "data": {
      "text/plain": [
       "listing_id                           0\n",
       "name                                 0\n",
       "host_id                              0\n",
       "host_name                            0\n",
       "host_since                           0\n",
       "host_location                        0\n",
       "host_response_time                   0\n",
       "host_response_rate                   0\n",
       "host_acceptance_rate                 0\n",
       "host_is_superhost                    0\n",
       "host_neighbourhood                   0\n",
       "host_listings_count                  0\n",
       "host_total_listings_count            0\n",
       "host_verifications                   0\n",
       "host_has_profile_pic                 0\n",
       "host_identity_verified               0\n",
       "neighbourhood                        0\n",
       "neighbourhood_cleansed               0\n",
       "neighbourhood_group_cleansed         0\n",
       "city                                 0\n",
       "state                                0\n",
       "zipcode                              0\n",
       "market                               0\n",
       "smart_location                       0\n",
       "latitude                             0\n",
       "longitude                            0\n",
       "is_location_exact                    0\n",
       "property_type                        0\n",
       "room_type                            0\n",
       "accommodates                         0\n",
       "                                  ... \n",
       "extra_people                         0\n",
       "minimum_nights                       0\n",
       "maximum_nights                       0\n",
       "has_availability                     0\n",
       "availability_30                      0\n",
       "availability_60                      0\n",
       "availability_90                      0\n",
       "availability_365                     0\n",
       "calendar_last_scraped                0\n",
       "number_of_reviews                    0\n",
       "first_review                         0\n",
       "last_review                          0\n",
       "review_scores_rating                 0\n",
       "review_scores_accuracy               0\n",
       "review_scores_cleanliness            0\n",
       "review_scores_checkin                0\n",
       "review_scores_communication          0\n",
       "review_scores_location               0\n",
       "review_scores_value                  0\n",
       "instant_bookable                     0\n",
       "cancellation_policy                  0\n",
       "calculated_host_listings_count       0\n",
       "reviews_per_month                    0\n",
       "calendar_date                        0\n",
       "day_price                            0\n",
       "reviews_id                           0\n",
       "review_date                          0\n",
       "reviewer_id                          0\n",
       "reviewer_name                        0\n",
       "comments                          4380\n",
       "Length: 70, dtype: int64"
      ]
     },
     "execution_count": 124,
     "metadata": {},
     "output_type": "execute_result"
    }
   ],
   "source": [
    "merge_2.isnull().sum()"
   ]
  },
  {
   "cell_type": "code",
   "execution_count": 125,
   "metadata": {},
   "outputs": [
    {
     "data": {
      "text/plain": [
       "0"
      ]
     },
     "execution_count": 125,
     "metadata": {},
     "output_type": "execute_result"
    }
   ],
   "source": [
    "merge_2.duplicated().sum()"
   ]
  },
  {
   "cell_type": "markdown",
   "metadata": {},
   "source": [
    "### Define: Reset the data set index after merging. "
   ]
  },
  {
   "cell_type": "markdown",
   "metadata": {},
   "source": [
    "Code"
   ]
  },
  {
   "cell_type": "code",
   "execution_count": 126,
   "metadata": {},
   "outputs": [],
   "source": [
    "merge_2.reset_index(inplace=True, drop=False)"
   ]
  },
  {
   "cell_type": "markdown",
   "metadata": {},
   "source": [
    "#### Define: Split the data set too using review per a month.  \n",
    "\n",
    "- #### Then extract review comments section \n"
   ]
  },
  {
   "cell_type": "markdown",
   "metadata": {},
   "source": [
    "Code"
   ]
  },
  {
   "cell_type": "code",
   "execution_count": 127,
   "metadata": {},
   "outputs": [],
   "source": [
    "word_1 = merge_2[merge_2['reviews_per_month'] >= 3]"
   ]
  },
  {
   "cell_type": "code",
   "execution_count": 128,
   "metadata": {},
   "outputs": [],
   "source": [
    "word_2 = merge_2[merge_2['reviews_per_month'] < 3]"
   ]
  },
  {
   "cell_type": "code",
   "execution_count": 129,
   "metadata": {},
   "outputs": [],
   "source": [
    "wordscloud_1 = word_1['comments']"
   ]
  },
  {
   "cell_type": "code",
   "execution_count": 130,
   "metadata": {},
   "outputs": [],
   "source": [
    "wordscloud_2 = word_2['comments']"
   ]
  },
  {
   "cell_type": "markdown",
   "metadata": {},
   "source": [
    "Test"
   ]
  },
  {
   "cell_type": "code",
   "execution_count": 131,
   "metadata": {},
   "outputs": [
    {
     "data": {
      "text/plain": [
       "(15837350,)"
      ]
     },
     "execution_count": 131,
     "metadata": {},
     "output_type": "execute_result"
    }
   ],
   "source": [
    "wordscloud_1.shape"
   ]
  },
  {
   "cell_type": "code",
   "execution_count": 132,
   "metadata": {},
   "outputs": [
    {
     "data": {
      "text/plain": [
       "(11127390,)"
      ]
     },
     "execution_count": 132,
     "metadata": {},
     "output_type": "execute_result"
    }
   ],
   "source": [
    "wordscloud_2.shape"
   ]
  },
  {
   "cell_type": "markdown",
   "metadata": {},
   "source": [
    "#### Define: Remove duplciate review comments."
   ]
  },
  {
   "cell_type": "markdown",
   "metadata": {},
   "source": [
    "Code"
   ]
  },
  {
   "cell_type": "code",
   "execution_count": 133,
   "metadata": {},
   "outputs": [
    {
     "name": "stderr",
     "output_type": "stream",
     "text": [
      "/Users/christopherblycha/anaconda3/lib/python3.7/site-packages/pandas/core/base.py:1512: SettingWithCopyWarning: \n",
      "A value is trying to be set on a copy of a slice from a DataFrame\n",
      "\n",
      "See the caveats in the documentation: http://pandas.pydata.org/pandas-docs/stable/indexing.html#indexing-view-versus-copy\n",
      "  return self._update_inplace(result)\n"
     ]
    }
   ],
   "source": [
    "wordscloud_1.drop_duplicates(inplace=True)\n",
    "wordscloud_2.drop_duplicates(inplace=True)"
   ]
  },
  {
   "cell_type": "markdown",
   "metadata": {},
   "source": [
    "Test"
   ]
  },
  {
   "cell_type": "code",
   "execution_count": 134,
   "metadata": {},
   "outputs": [
    {
     "data": {
      "text/plain": [
       "0"
      ]
     },
     "execution_count": 134,
     "metadata": {},
     "output_type": "execute_result"
    }
   ],
   "source": [
    "wordscloud_1.duplicated().sum()"
   ]
  },
  {
   "cell_type": "code",
   "execution_count": 135,
   "metadata": {},
   "outputs": [
    {
     "data": {
      "text/plain": [
       "0"
      ]
     },
     "execution_count": 135,
     "metadata": {},
     "output_type": "execute_result"
    }
   ],
   "source": [
    "wordscloud_2.duplicated().sum()"
   ]
  },
  {
   "cell_type": "markdown",
   "metadata": {},
   "source": [
    "#### Section 4: Modelling\n",
    "\n",
    "##### Model"
   ]
  },
  {
   "cell_type": "markdown",
   "metadata": {},
   "source": [
    "##### Visualize"
   ]
  },
  {
   "cell_type": "markdown",
   "metadata": {},
   "source": [
    "> #### Is there a relationship between the day price of the Airbnb place and number of guests?"
   ]
  },
  {
   "cell_type": "code",
   "execution_count": 136,
   "metadata": {},
   "outputs": [],
   "source": [
    "# calculate the correlation matrix\n",
    "corr = merge_2.corr()"
   ]
  },
  {
   "cell_type": "markdown",
   "metadata": {},
   "source": [
    "### Create a heatmap function"
   ]
  },
  {
   "cell_type": "code",
   "execution_count": 142,
   "metadata": {},
   "outputs": [],
   "source": [
    "def heatmap(df):\n",
    "    df \n",
    "    # Generate a mask for the upper triangle\n",
    "    mask = np.zeros_like(df, dtype=np.bool)\n",
    "    mask[np.triu_indices_from(mask)] = True\n",
    "    # Set up the matplotlib figure\n",
    "    f, ax = plt.subplots(figsize=(11, 9))\n",
    "    # Generate a custom diverging colormap\n",
    "    cmap = sns.diverging_palette(600, 30, as_cmap=True)\n",
    "    # Draw the heatmap with the mask and correct aspect ratio\n",
    "    return sns.heatmap(df, mask=mask, cmap=cmap, vmax=.3, center=0,\n",
    "            square=True, linewidths=.5, cbar_kws={\"shrink\": .5})"
   ]
  },
  {
   "cell_type": "code",
   "execution_count": 143,
   "metadata": {},
   "outputs": [
    {
     "data": {
      "text/plain": [
       "<matplotlib.axes._subplots.AxesSubplot at 0x1a51b63eb8>"
      ]
     },
     "execution_count": 143,
     "metadata": {},
     "output_type": "execute_result"
    },
    {
     "data": {
      "image/png": "[encoded data removed]",
      "text/plain": [
       "<Figure size 792x648 with 2 Axes>"
      ]
     },
     "metadata": {
      "needs_background": "light"
     },
     "output_type": "display_data"
    }
   ],
   "source": [
    "heatmap(df=corr) # use heatmap function"
   ]
  },
  {
   "cell_type": "markdown",
   "metadata": {},
   "source": [
    "Let's look at the correlation heatmap which basically means: a mutual relationship or connection between two or more things when using a dictionary reference.  In reference to this heat map above , the darker regions of the heatmap indicted a relationship between variables or makers.  These makers are the column names in the table, which as been converted to heatmap.   The colours in the heatmap represent positive or negative relationships between the variables/makers.  When looking at the day_price, we can see a strong relationship between accommodates, bathrooms, bedrooms and beds. "
   ]
  },
  {
   "cell_type": "markdown",
   "metadata": {},
   "source": [
    "> #### What makes a great Airbnb in Seattle, is the number of people that can stay or it it the maximum number of night you can stay?"
   ]
  },
  {
   "cell_type": "markdown",
   "metadata": {},
   "source": [
    "#### Create a clustermap Function:"
   ]
  },
  {
   "cell_type": "code",
   "execution_count": 137,
   "metadata": {},
   "outputs": [],
   "source": [
    "def clustermap(df):\n",
    "    df \n",
    "    # clustermap for missing values .\n",
    "    return sns.clustermap(df) "
   ]
  },
  {
   "cell_type": "code",
   "execution_count": 138,
   "metadata": {},
   "outputs": [
    {
     "data": {
      "text/plain": [
       "<seaborn.matrix.ClusterGrid at 0x1a1f819b00>"
      ]
     },
     "execution_count": 138,
     "metadata": {},
     "output_type": "execute_result"
    },
    {
     "data": {
      "image/png": "[encoded data removed]",
      "text/plain": [
       "<Figure size 720x720 with 4 Axes>"
      ]
     },
     "metadata": {
      "needs_background": "light"
     },
     "output_type": "display_data"
    }
   ],
   "source": [
    "clustermap(df=corr) # use clustermap function"
   ]
  },
  {
   "cell_type": "markdown",
   "metadata": {},
   "source": [
    "This different type of heatmap, it clusters the variable/columns names together and shows the positive or negative relationships between the variable/columns.  The darker colours  indict a negative relationship, while the lighter colours indict positive relationship.  Looking at this heatmap, we can determine the number of people that can stay at the location  has great impact, than maximum nights.  This is shown by the guests_included, bedrooms, beds and bathrooms, being red hot.  "
   ]
  },
  {
   "cell_type": "markdown",
   "metadata": {},
   "source": [
    "> #### What are the customers that stay in these Airbnb in Seattle saying about the host and location in there review, let's compare please with listing that have high reviews_per_month with low reviews_per_month to determine keywords that make a great Airbnb stay in Settle?"
   ]
  },
  {
   "cell_type": "markdown",
   "metadata": {},
   "source": [
    "#### High reviews_per_month"
   ]
  },
  {
   "cell_type": "markdown",
   "metadata": {},
   "source": [
    "### Create a word cloud function"
   ]
  },
  {
   "cell_type": "code",
   "execution_count": 139,
   "metadata": {},
   "outputs": [],
   "source": [
    "def word_cloud(df):\n",
    "    df \n",
    "    # Create the wordcloud object\n",
    "    wordcloud = WordCloud().generate(str(df))\n",
    "    # Display the generated image:\n",
    "    plt.imshow(wordcloud, interpolation='bilinear')\n",
    "    plt.axis(\"off\")\n",
    "    plt.margins(x=0, y=0)\n",
    "    plt.figure(figsize=(600,800))\n",
    "    return plt.show()"
   ]
  },
  {
   "cell_type": "code",
   "execution_count": 140,
   "metadata": {},
   "outputs": [
    {
     "data": {
      "image/png": "[encoded data removed]",
      "text/plain": [
       "<Figure size 432x288 with 1 Axes>"
      ]
     },
     "metadata": {
      "needs_background": "light"
     },
     "output_type": "display_data"
    },
    {
     "data": {
      "text/plain": [
       "<Figure size 43200x57600 with 0 Axes>"
      ]
     },
     "metadata": {},
     "output_type": "display_data"
    }
   ],
   "source": [
    "word_cloud(df=wordscloud_1) # use the wordcloud function"
   ]
  },
  {
   "cell_type": "markdown",
   "metadata": {},
   "source": [
    "Looking at the keywords in the High reviews_per_month word cloud, we can see the Host, comfortable, Apartment, clean are some of the keywords that might a High reviews_per_month in Seattle"
   ]
  },
  {
   "cell_type": "markdown",
   "metadata": {},
   "source": [
    "Low reviews_per_month  wordcloud:"
   ]
  },
  {
   "cell_type": "code",
   "execution_count": 141,
   "metadata": {},
   "outputs": [
    {
     "data": {
      "image/png": "[encoded data removed]",
      "text/plain": [
       "<Figure size 432x288 with 1 Axes>"
      ]
     },
     "metadata": {
      "needs_background": "light"
     },
     "output_type": "display_data"
    },
    {
     "data": {
      "text/plain": [
       "<Figure size 43200x57600 with 0 Axes>"
      ]
     },
     "metadata": {},
     "output_type": "display_data"
    }
   ],
   "source": [
    "word_cloud(df=wordscloud_2) # use the wordcloud function"
   ]
  },
  {
   "cell_type": "markdown",
   "metadata": {},
   "source": [
    "Looking at the keywords in the low reviews_per_month word cloud, we can see the Host,  Great location, clean  are some of the keywords positive words, however there are two keywords that are negative in the word clouds, there related to canceled days and reservation canceled, clearly these have an impact and effective the perception of the  Seattle Airbnb.\n"
   ]
  },
  {
   "cell_type": "markdown",
   "metadata": {},
   "source": [
    "#### Section 5: Evaluation"
   ]
  },
  {
   "cell_type": "markdown",
   "metadata": {},
   "source": [
    "### Conclusion: \n",
    "What makes are great Seattle Airbnb experience,  looking at the result above we can determine that the number of rooms and beds can have an effective on the Seattle Airbnb experience.  We can also determine that the  number of guests_included,  bathrooms are part of the selection process for people looking to stay at the Airbnb location.  \n",
    "When looking at the review comments, we can see that the host can add a positive experience to the Airbnb location, however cancellation of the reservation or number of canceled days can impact to listings review. \n"
   ]
  },
  {
   "cell_type": "markdown",
   "metadata": {},
   "source": [
    "#### Section 6: Setting out"
   ]
  },
  {
   "cell_type": "markdown",
   "metadata": {},
   "source": [
    "https://medium.com/@chrisbnsw/what-makes-a-great-airbnb-in-settle-c506ba84c4e5?sk=28bcd932ccb628e47648bdb576918fc9"
   ]
  },
  {
   "cell_type": "code",
   "execution_count": null,
   "metadata": {},
   "outputs": [],
   "source": []
  }
 ],
 "metadata": {
  "kernelspec": {
   "display_name": "Python 3",
   "language": "python",
   "name": "python3"
  },
  "language_info": {
   "codemirror_mode": {
    "name": "ipython",
    "version": 3
   },
   "file_extension": ".py",
   "mimetype": "text/x-python",
   "name": "python",
   "nbconvert_exporter": "python",
   "pygments_lexer": "ipython3",
   "version": "3.7.3"
  }
 },
 "nbformat": 4,
 "nbformat_minor": 2
}
